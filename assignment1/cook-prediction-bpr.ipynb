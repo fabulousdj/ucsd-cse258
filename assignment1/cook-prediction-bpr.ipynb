{
 "cells": [
  {
   "cell_type": "code",
   "execution_count": 19,
   "id": "291838a6",
   "metadata": {},
   "outputs": [],
   "source": [
    "import gzip\n",
    "import random\n",
    "from collections import defaultdict\n",
    "import csv\n",
    "import urllib.request\n",
    "import tarfile\n",
    "import scipy.sparse\n",
    "from implicit import bpr"
   ]
  },
  {
   "cell_type": "code",
   "execution_count": 20,
   "id": "7a98afd3",
   "metadata": {},
   "outputs": [],
   "source": [
    "# extract gz files\n",
    "\n",
    "url = 'http://cseweb.ucsd.edu/classes/fa21/cse258-b/files/assignment1.tar.gz'\n",
    "\n",
    "ftpstream = urllib.request.urlopen(url)\n",
    "thetarfile = tarfile.open(fileobj=ftpstream, mode=\"r|gz\")\n",
    "thetarfile.extractall()"
   ]
  },
  {
   "cell_type": "code",
   "execution_count": 21,
   "id": "9d8f4a93",
   "metadata": {},
   "outputs": [],
   "source": [
    "def read_gz(path):\n",
    "    for l in gzip.open(path, 'rt'):\n",
    "        yield eval(l)\n",
    "\n",
    "def read_csv(path):\n",
    "    f = gzip.open(path, 'rt')\n",
    "    c = csv.reader(f)\n",
    "    header = next(c)\n",
    "    print(header)\n",
    "    for l in c:\n",
    "        yield l"
   ]
  },
  {
   "cell_type": "code",
   "execution_count": 22,
   "id": "95b8de3a",
   "metadata": {},
   "outputs": [
    {
     "name": "stdout",
     "output_type": "stream",
     "text": [
      "['user_id', 'recipe_id', 'date', 'rating']\n"
     ]
    },
    {
     "data": {
      "text/plain": "[['88348277', '03969194', '2004-12-23', '5'],\n ['86699739', '27096427', '2002-01-12', '4']]"
     },
     "execution_count": 22,
     "metadata": {},
     "output_type": "execute_result"
    }
   ],
   "source": [
    "data = list(read_csv(\"assignment1/trainInteractions.csv.gz\"))\n",
    "data[:2]"
   ]
  },
  {
   "cell_type": "code",
   "execution_count": 23,
   "outputs": [],
   "source": [
    "# shuffle\n",
    "random.shuffle(data)"
   ],
   "metadata": {
    "collapsed": false,
    "pycharm": {
     "name": "#%%\n"
    }
   }
  },
  {
   "cell_type": "code",
   "execution_count": 24,
   "outputs": [],
   "source": [
    "userIDs,itemIDs = {},{}\n",
    "for d in data:\n",
    "    u,i = d[0],d[1]\n",
    "    if not u in userIDs: userIDs[u] = len(userIDs)\n",
    "    if not i in itemIDs: itemIDs[i] = len(itemIDs)\n",
    "\n",
    "indexToUserMap = {v:k for k,v in userIDs.items()}\n",
    "indexToItemMap = {v:k for k,v in itemIDs.items()}\n",
    "\n",
    "nUsers,nItems = len(userIDs),len(itemIDs)"
   ],
   "metadata": {
    "collapsed": false,
    "pycharm": {
     "name": "#%%\n"
    }
   }
  },
  {
   "cell_type": "code",
   "execution_count": 25,
   "outputs": [
    {
     "name": "stdout",
     "output_type": "stream",
     "text": [
      "data_train size = 400000\tdata_valid size = 100000\n"
     ]
    }
   ],
   "source": [
    "data = [[d[0], d[1], 1] for d in data]\n",
    "\n",
    "train_size = 400000\n",
    "data_train = data[:train_size]\n",
    "data_valid = data[train_size:]\n",
    "print('data_train size = %d\\tdata_valid size = %d' % (len(data_train), len(data_valid)))"
   ],
   "metadata": {
    "collapsed": false,
    "pycharm": {
     "name": "#%%\n"
    }
   }
  },
  {
   "cell_type": "code",
   "execution_count": 26,
   "outputs": [],
   "source": [
    "# compute user-recipes dict and all recipes set\n",
    "user_recipes = defaultdict(set)\n",
    "recipe_users = defaultdict(set)\n",
    "all_recipes = set()\n",
    "all_users = set()\n",
    "for d in data_train:\n",
    "    usr = d[0]\n",
    "    r = d[1]\n",
    "    all_recipes.add(r)\n",
    "    all_users.add(usr)\n",
    "    user_recipes[usr].add(r)\n",
    "    recipe_users[r].add(usr)"
   ],
   "metadata": {
    "collapsed": false,
    "pycharm": {
     "name": "#%%\n"
    }
   }
  },
  {
   "cell_type": "code",
   "execution_count": 27,
   "outputs": [],
   "source": [
    "# get a negative sample per each entry in the validation set\n",
    "def random_sample(from_list, exclusions):\n",
    "    s = random.choice(from_list)\n",
    "    while s in exclusions:\n",
    "        s = random.choice(from_list)\n",
    "    return s\n",
    "\n",
    "def supplement_with_negatives(data):\n",
    "    all_recipes_list = list(all_recipes)\n",
    "    negatives = []\n",
    "    for d in data:\n",
    "        usr = d[0]\n",
    "        r_cooked = d[1]\n",
    "        r_uncooked = random_sample(all_recipes_list, user_recipes[usr].union({r_cooked}))\n",
    "        negatives.append([usr, r_uncooked, 0])\n",
    "    return data + negatives\n",
    "\n",
    "data_valid_sup = supplement_with_negatives(data_valid)"
   ],
   "metadata": {
    "collapsed": false,
    "pycharm": {
     "name": "#%%\n"
    }
   }
  },
  {
   "cell_type": "code",
   "execution_count": 28,
   "outputs": [],
   "source": [
    "userItemsMap = defaultdict(list)\n",
    "for d in data_valid_sup:\n",
    "    userItemsMap[d[0]].append(d[1])"
   ],
   "metadata": {
    "collapsed": false,
    "pycharm": {
     "name": "#%%\n"
    }
   }
  },
  {
   "cell_type": "code",
   "execution_count": 29,
   "outputs": [],
   "source": [
    "Xiu = scipy.sparse.lil_matrix((nItems, nUsers))\n",
    "for d in data_train:\n",
    "    Xiu[itemIDs[d[1]],userIDs[d[0]]] = 1\n",
    "\n",
    "Xui = scipy.sparse.csr_matrix(Xiu.T)"
   ],
   "metadata": {
    "collapsed": false,
    "pycharm": {
     "name": "#%%\n"
    }
   }
  },
  {
   "cell_type": "code",
   "execution_count": 30,
   "outputs": [],
   "source": [
    "model = bpr.BayesianPersonalizedRanking(factors = 5, learning_rate=0.01, regularization=0.001, iterations=800)"
   ],
   "metadata": {
    "collapsed": false,
    "pycharm": {
     "name": "#%%\n"
    }
   }
  },
  {
   "cell_type": "code",
   "execution_count": 31,
   "outputs": [
    {
     "data": {
      "text/plain": "  0%|          | 0/800 [00:00<?, ?it/s]",
      "application/vnd.jupyter.widget-view+json": {
       "version_major": 2,
       "version_minor": 0,
       "model_id": "c0b5a51cb6d84382a4cdac9798bc9a27"
      }
     },
     "metadata": {},
     "output_type": "display_data"
    }
   ],
   "source": [
    "model.fit(Xiu)"
   ],
   "metadata": {
    "collapsed": false,
    "pycharm": {
     "name": "#%%\n"
    }
   }
  },
  {
   "cell_type": "code",
   "execution_count": 32,
   "outputs": [],
   "source": [
    "predMap = defaultdict(int)\n",
    "for u, items in userItemsMap.items():\n",
    "    i_indices = [itemIDs[i] for i in items]\n",
    "    ranked = model.rank_items(userIDs[u], Xui, i_indices)\n",
    "    ranked_pos = ranked[:len(ranked)//2]\n",
    "    ranked_neg = ranked[len(ranked)//2:]\n",
    "    for p in ranked_pos:\n",
    "        predMap[(u, indexToItemMap[p[0]])] = 1\n",
    "    for p in ranked_neg:\n",
    "        predMap[(u, indexToItemMap[p[0]])] = 0"
   ],
   "metadata": {
    "collapsed": false,
    "pycharm": {
     "name": "#%%\n"
    }
   }
  },
  {
   "cell_type": "code",
   "execution_count": 33,
   "outputs": [],
   "source": [
    "# the baseline model\n",
    "recipe_count = defaultdict(int)\n",
    "total_cooked = 0\n",
    "\n",
    "for d in data_train:\n",
    "    r = d[1]\n",
    "    recipe_count[r] += 1\n",
    "    total_cooked += 1\n",
    "\n",
    "most_popular = [(recipe_count[x], x) for x in recipe_count]\n",
    "most_popular.sort()\n",
    "most_popular.reverse()\n",
    "\n",
    "def fit(most_popular, total_cooked, threshold=0.5):\n",
    "    popular_set = set()\n",
    "    count = 0\n",
    "    for ic, i in most_popular:\n",
    "      count += ic\n",
    "      popular_set.add(i)\n",
    "      if count > total_cooked * threshold: break\n",
    "    return popular_set\n",
    "\n",
    "return1 = fit(most_popular, total_cooked, threshold=0.69)"
   ],
   "metadata": {
    "collapsed": false,
    "pycharm": {
     "name": "#%%\n"
    }
   }
  },
  {
   "cell_type": "code",
   "execution_count": 34,
   "outputs": [
    {
     "data": {
      "text/plain": "0.669335"
     },
     "execution_count": 34,
     "metadata": {},
     "output_type": "execute_result"
    }
   ],
   "source": [
    "correct_count = 0\n",
    "for d in data_valid_sup:\n",
    "    if d[2] == 1:\n",
    "        if predMap[(d[0], d[1])] == 1 and (d[1] in return1):\n",
    "            correct_count += 1\n",
    "    else:\n",
    "        if predMap[(d[0], d[1])] == 0 or (d[1] not in return1):\n",
    "            correct_count += 1\n",
    "acc = correct_count / (1.0 * len(data_valid_sup))\n",
    "acc"
   ],
   "metadata": {
    "collapsed": false,
    "pycharm": {
     "name": "#%%\n"
    }
   }
  },
  {
   "cell_type": "code",
   "execution_count": 34,
   "outputs": [],
   "source": [],
   "metadata": {
    "collapsed": false,
    "pycharm": {
     "name": "#%%\n"
    }
   }
  }
 ],
 "metadata": {
  "kernelspec": {
   "display_name": "Python 3 (ipykernel)",
   "language": "python",
   "name": "python3"
  },
  "language_info": {
   "codemirror_mode": {
    "name": "ipython",
    "version": 3
   },
   "file_extension": ".py",
   "mimetype": "text/x-python",
   "name": "python",
   "nbconvert_exporter": "python",
   "pygments_lexer": "ipython3",
   "version": "3.9.5"
  }
 },
 "nbformat": 4,
 "nbformat_minor": 5
}