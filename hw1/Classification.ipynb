{
 "cells": [
  {
   "cell_type": "markdown",
   "source": [
    "# CSE 258 - HW 1\n",
    "Jin Dai / A92408103"
   ],
   "metadata": {
    "collapsed": false
   }
  },
  {
   "cell_type": "markdown",
   "source": [
    "## Classification (week 2)"
   ],
   "metadata": {
    "collapsed": false
   }
  },
  {
   "cell_type": "code",
   "execution_count": 215,
   "outputs": [],
   "source": [
    "from urllib.request import urlopen"
   ],
   "metadata": {
    "collapsed": false,
    "pycharm": {
     "name": "#%%\n"
    }
   }
  },
  {
   "cell_type": "code",
   "execution_count": 216,
   "outputs": [],
   "source": [
    "def parse_data_from_url(fname):\n",
    "  for l in urlopen(fname):\n",
    "    yield eval(l)"
   ],
   "metadata": {
    "collapsed": false,
    "pycharm": {
     "name": "#%%\n"
    }
   }
  },
  {
   "cell_type": "code",
   "execution_count": 217,
   "outputs": [],
   "source": [
    "beer_reviews = list(parse_data_from_url(\"https://cseweb.ucsd.edu/classes/fa21/cse258-b/data/beer_50000.json\"))"
   ],
   "metadata": {
    "collapsed": false,
    "pycharm": {
     "name": "#%%\n"
    }
   }
  },
  {
   "cell_type": "code",
   "execution_count": 218,
   "outputs": [
    {
     "data": {
      "text/plain": "{'review/appearance': 2.5,\n 'beer/style': 'Hefeweizen',\n 'review/palate': 1.5,\n 'review/taste': 1.5,\n 'beer/name': 'Sausa Weizen',\n 'review/timeUnix': 1234817823,\n 'beer/ABV': 5.0,\n 'beer/beerId': '47986',\n 'beer/brewerId': '10325',\n 'review/timeStruct': {'isdst': 0,\n  'mday': 16,\n  'hour': 20,\n  'min': 57,\n  'sec': 3,\n  'mon': 2,\n  'year': 2009,\n  'yday': 47,\n  'wday': 0},\n 'review/overall': 1.5,\n 'review/text': 'A lot of foam. But a lot.\\tIn the smell some banana, and then lactic and tart. Not a good start.\\tQuite dark orange in color, with a lively carbonation (now visible, under the foam).\\tAgain tending to lactic sourness.\\tSame for the taste. With some yeast and banana.',\n 'user/profileName': 'stcules',\n 'review/aroma': 2.0}"
     },
     "execution_count": 218,
     "metadata": {},
     "output_type": "execute_result"
    }
   ],
   "source": [
    "beer_reviews[0]"
   ],
   "metadata": {
    "collapsed": false,
    "pycharm": {
     "name": "#%%\n"
    }
   }
  },
  {
   "cell_type": "markdown",
   "source": [
    "### Question. 7"
   ],
   "metadata": {
    "collapsed": false,
    "pycharm": {
     "name": "#%% md\n"
    }
   }
  },
  {
   "cell_type": "code",
   "execution_count": 219,
   "metadata": {
    "collapsed": true
   },
   "outputs": [],
   "source": [
    "data = [d for d in beer_reviews if 'review/overall' in d and 'review/text' in d]"
   ]
  },
  {
   "cell_type": "code",
   "execution_count": 220,
   "outputs": [],
   "source": [
    "def featurize(data, featurizer):\n",
    "    return [featurizer(d) for d in data]"
   ],
   "metadata": {
    "collapsed": false,
    "pycharm": {
     "name": "#%%\n"
    }
   }
  },
  {
   "cell_type": "code",
   "execution_count": 221,
   "outputs": [],
   "source": [
    "X = featurize(data, lambda d : [1, len(d['review/text'])])"
   ],
   "metadata": {
    "collapsed": false,
    "pycharm": {
     "name": "#%%\n"
    }
   }
  },
  {
   "cell_type": "code",
   "execution_count": 222,
   "outputs": [
    {
     "data": {
      "text/plain": "[[1, 262],\n [1, 338],\n [1, 396],\n [1, 401],\n [1, 1145],\n [1, 728],\n [1, 471],\n [1, 853],\n [1, 472],\n [1, 1035]]"
     },
     "execution_count": 222,
     "metadata": {},
     "output_type": "execute_result"
    }
   ],
   "source": [
    "X[0:10]"
   ],
   "metadata": {
    "collapsed": false,
    "pycharm": {
     "name": "#%%\n"
    }
   }
  },
  {
   "cell_type": "code",
   "execution_count": 223,
   "outputs": [],
   "source": [
    "def extract_labels(data):\n",
    "    return [1 if d['review/overall'] >= 4 else 0 for d in data]"
   ],
   "metadata": {
    "collapsed": false,
    "pycharm": {
     "name": "#%%\n"
    }
   }
  },
  {
   "cell_type": "code",
   "execution_count": 224,
   "outputs": [],
   "source": [
    "y = extract_labels(data)"
   ],
   "metadata": {
    "collapsed": false,
    "pycharm": {
     "name": "#%%\n"
    }
   }
  },
  {
   "cell_type": "code",
   "execution_count": 225,
   "outputs": [
    {
     "data": {
      "text/plain": "[0, 0, 0, 0, 1, 0, 0, 0, 1, 1]"
     },
     "execution_count": 225,
     "metadata": {},
     "output_type": "execute_result"
    }
   ],
   "source": [
    "y[0:10]"
   ],
   "metadata": {
    "collapsed": false,
    "pycharm": {
     "name": "#%%\n"
    }
   }
  },
  {
   "cell_type": "code",
   "execution_count": 226,
   "outputs": [],
   "source": [
    "from sklearn import linear_model"
   ],
   "metadata": {
    "collapsed": false,
    "pycharm": {
     "name": "#%%\n"
    }
   }
  },
  {
   "cell_type": "code",
   "execution_count": 227,
   "outputs": [
    {
     "data": {
      "text/plain": "LogisticRegression(class_weight='balanced')"
     },
     "execution_count": 227,
     "metadata": {},
     "output_type": "execute_result"
    }
   ],
   "source": [
    "mod = linear_model.LogisticRegression(C=1.0, class_weight='balanced')\n",
    "mod.fit(X,y)"
   ],
   "metadata": {
    "collapsed": false,
    "pycharm": {
     "name": "#%%\n"
    }
   }
  },
  {
   "cell_type": "code",
   "execution_count": 228,
   "outputs": [],
   "source": [
    "pred = mod.predict(X)"
   ],
   "metadata": {
    "collapsed": false,
    "pycharm": {
     "name": "#%%\n"
    }
   }
  },
  {
   "cell_type": "code",
   "execution_count": 229,
   "outputs": [],
   "source": [
    "correct = [(a == b) for a, b in zip(y, pred)]"
   ],
   "metadata": {
    "collapsed": false,
    "pycharm": {
     "name": "#%%\n"
    }
   }
  },
  {
   "cell_type": "code",
   "execution_count": 230,
   "outputs": [
    {
     "data": {
      "text/plain": "[True, True, True, True, True, False, True, False, False, True]"
     },
     "execution_count": 230,
     "metadata": {},
     "output_type": "execute_result"
    }
   ],
   "source": [
    "correct[0:10]"
   ],
   "metadata": {
    "collapsed": false,
    "pycharm": {
     "name": "#%%\n"
    }
   }
  },
  {
   "cell_type": "code",
   "execution_count": 231,
   "outputs": [
    {
     "data": {
      "text/plain": "0.49408"
     },
     "execution_count": 231,
     "metadata": {},
     "output_type": "execute_result"
    }
   ],
   "source": [
    "sum(correct) / len(correct)"
   ],
   "metadata": {
    "collapsed": false,
    "pycharm": {
     "name": "#%%\n"
    }
   }
  },
  {
   "cell_type": "code",
   "execution_count": 232,
   "outputs": [],
   "source": [
    "import numpy as np"
   ],
   "metadata": {
    "collapsed": false,
    "pycharm": {
     "name": "#%%\n"
    }
   }
  },
  {
   "cell_type": "code",
   "execution_count": 233,
   "outputs": [],
   "source": [
    "# True positives, false positives, etc.\n",
    "TP_ = np.logical_and(pred, y)\n",
    "FP_ = np.logical_and(pred, np.logical_not(y))\n",
    "TN_ = np.logical_and(np.logical_not(pred), np.logical_not(y))\n",
    "FN_ = np.logical_and(np.logical_not(pred), y)\n",
    "\n",
    "TP = sum(TP_)\n",
    "FP = sum(FP_)\n",
    "TN = sum(TN_)\n",
    "FN = sum(FN_)\n",
    "\n",
    "TPR = TP / (TP + FN)\n",
    "TNR = TN / (TN + FP)\n",
    "FPR = 1 - TNR\n",
    "FNR = 1 - TPR\n",
    "\n",
    "# BER\n",
    "BER = 1 - 0.5 * (TP / (TP + FN) + TN / (TN + FP))"
   ],
   "metadata": {
    "collapsed": false,
    "pycharm": {
     "name": "#%%\n"
    }
   }
  },
  {
   "cell_type": "code",
   "execution_count": 234,
   "outputs": [
    {
     "name": "stdout",
     "output_type": "stream",
     "text": [
      "True Positive: 14201\n",
      "True Negative: 10503\n",
      "False Positive: 5885\n",
      "False Negative: 19411\n",
      "True Positive Rate: 0.4225\n",
      "True Negative Rate: 0.6409\n",
      "False Positive Rate: 0.3591\n",
      "False Negative Rate: 0.5775\n",
      "Balanced Error Rate: 0.468303\n"
     ]
    }
   ],
   "source": [
    "print(\"True Positive: %d\" % TP)\n",
    "print(\"True Negative: %d\" % TN)\n",
    "print(\"False Positive: %d\" % FP)\n",
    "print(\"False Negative: %d\" % FN)\n",
    "print(\"True Positive Rate: %.4f\" % TPR)\n",
    "print(\"True Negative Rate: %.4f\" % TNR)\n",
    "print(\"False Positive Rate: %.4f\" % FPR)\n",
    "print(\"False Negative Rate: %.4f\" % FNR)\n",
    "print(\"Balanced Error Rate: %.6f\" % BER)"
   ],
   "metadata": {
    "collapsed": false,
    "pycharm": {
     "name": "#%%\n"
    }
   }
  },
  {
   "cell_type": "markdown",
   "source": [
    "### Question. 8"
   ],
   "metadata": {
    "collapsed": false,
    "pycharm": {
     "name": "#%% md\n"
    }
   }
  },
  {
   "cell_type": "code",
   "execution_count": 235,
   "outputs": [],
   "source": [
    "# conf = mod.decision_function(X)"
   ],
   "metadata": {
    "collapsed": false,
    "pycharm": {
     "name": "#%%\n"
    }
   }
  },
  {
   "cell_type": "code",
   "execution_count": 236,
   "outputs": [],
   "source": [
    "# confSorted = list(zip(conf, y))\n",
    "# confSorted.sort(key=lambda t: t[0], reverse=True)"
   ],
   "metadata": {
    "collapsed": false,
    "pycharm": {
     "name": "#%%\n"
    }
   }
  },
  {
   "cell_type": "code",
   "execution_count": 237,
   "outputs": [],
   "source": [
    "# confSorted[:10]"
   ],
   "metadata": {
    "collapsed": false,
    "pycharm": {
     "name": "#%%\n"
    }
   }
  },
  {
   "cell_type": "code",
   "execution_count": 238,
   "outputs": [],
   "source": [
    "prob = mod.predict_proba(X)\n",
    "probSorted = list(zip(prob, y))"
   ],
   "metadata": {
    "collapsed": false,
    "pycharm": {
     "name": "#%%\n"
    }
   }
  },
  {
   "cell_type": "code",
   "execution_count": 239,
   "outputs": [
    {
     "data": {
      "text/plain": "0.46054325276076535"
     },
     "execution_count": 239,
     "metadata": {},
     "output_type": "execute_result"
    }
   ],
   "source": [
    "probSorted[0][0][1]"
   ],
   "metadata": {
    "collapsed": false,
    "pycharm": {
     "name": "#%%\n"
    }
   }
  },
  {
   "cell_type": "code",
   "execution_count": 240,
   "outputs": [],
   "source": [
    "probSorted.sort(key=lambda t : t[0][1], reverse=True)"
   ],
   "metadata": {
    "collapsed": false,
    "pycharm": {
     "name": "#%%\n"
    }
   }
  },
  {
   "cell_type": "code",
   "execution_count": 241,
   "outputs": [
    {
     "data": {
      "text/plain": "[(array([0.19459931, 0.80540069]), 1),\n (array([0.19643684, 0.80356316]), 1),\n (array([0.20622631, 0.79377369]), 1),\n (array([0.21202257, 0.78797743]), 1),\n (array([0.21655241, 0.78344759]), 1),\n (array([0.22127384, 0.77872616]), 1),\n (array([0.22724752, 0.77275248]), 0),\n (array([0.23156561, 0.76843439]), 1),\n (array([0.23498476, 0.76501524]), 1),\n (array([0.23606837, 0.76393163]), 0)]"
     },
     "execution_count": 241,
     "metadata": {},
     "output_type": "execute_result"
    }
   ],
   "source": [
    "probSorted[:10]"
   ],
   "metadata": {
    "collapsed": false,
    "pycharm": {
     "name": "#%%\n"
    }
   }
  },
  {
   "cell_type": "code",
   "execution_count": 242,
   "outputs": [
    {
     "data": {
      "text/plain": "[(array([0.56239992, 0.43760008]), 1),\n (array([0.56239992, 0.43760008]), 1),\n (array([0.56239992, 0.43760008]), 0),\n (array([0.56239992, 0.43760008]), 1),\n (array([0.56239992, 0.43760008]), 1),\n (array([0.56239992, 0.43760008]), 1),\n (array([0.56239992, 0.43760008]), 1),\n (array([0.56239992, 0.43760008]), 1),\n (array([0.56239992, 0.43760008]), 0),\n (array([0.56239992, 0.43760008]), 0)]"
     },
     "execution_count": 242,
     "metadata": {},
     "output_type": "execute_result"
    }
   ],
   "source": [
    "probSorted[-10:]"
   ],
   "metadata": {
    "collapsed": false,
    "pycharm": {
     "name": "#%%\n"
    }
   }
  },
  {
   "cell_type": "code",
   "execution_count": 243,
   "outputs": [],
   "source": [
    "import matplotlib.pyplot as plt"
   ],
   "metadata": {
    "collapsed": false,
    "pycharm": {
     "name": "#%%\n"
    }
   }
  },
  {
   "cell_type": "code",
   "execution_count": 244,
   "outputs": [],
   "source": [
    "# plot a graph\n",
    "K = np.array([1, 10, 100, 1000, 2000, 4000, 6000, 8000, 10000])"
   ],
   "metadata": {
    "collapsed": false,
    "pycharm": {
     "name": "#%%\n"
    }
   }
  },
  {
   "cell_type": "code",
   "execution_count": 245,
   "outputs": [
    {
     "name": "stderr",
     "output_type": "stream",
     "text": [
      "No handles with labels found to put in legend.\n"
     ]
    },
    {
     "data": {
      "text/plain": "<Figure size 432x288 with 1 Axes>",
      "image/png": "[encoded data removed]"
     },
     "metadata": {
      "needs_background": "light"
     },
     "output_type": "display_data"
    }
   ],
   "source": [
    "p_at_k = np.array([sum(map(lambda x : x[1], probSorted[:k])) / k for k in K])\n",
    "plt.plot(K, p_at_k, 'co-')\n",
    "plt.xlabel('K')\n",
    "plt.ylabel('Precision @ K')\n",
    "plt.legend()\n",
    "plt.show()"
   ],
   "metadata": {
    "collapsed": false,
    "pycharm": {
     "name": "#%%\n"
    }
   }
  },
  {
   "cell_type": "markdown",
   "source": [
    "### Question. 9"
   ],
   "metadata": {
    "collapsed": false,
    "pycharm": {
     "name": "#%% md\n"
    }
   }
  },
  {
   "cell_type": "code",
   "execution_count": 246,
   "outputs": [],
   "source": [
    "pred_y = [1 if p[1] > p[0] else 0 for p in prob]\n",
    "probSorted2 = list(zip(prob, y, pred_y))"
   ],
   "metadata": {
    "collapsed": false,
    "pycharm": {
     "name": "#%%\n"
    }
   }
  },
  {
   "cell_type": "code",
   "execution_count": 247,
   "outputs": [
    {
     "data": {
      "text/plain": "[(array([0.53945675, 0.46054325]), 0, 0),\n (array([0.53276565, 0.46723435]), 0, 0),\n (array([0.52765121, 0.47234879]), 0, 0),\n (array([0.52721003, 0.47278997]), 0, 0),\n (array([0.46146669, 0.53853331]), 1, 1),\n (array([0.49829621, 0.50170379]), 0, 1),\n (array([0.52102926, 0.47897074]), 0, 0),\n (array([0.48723601, 0.51276399]), 0, 1),\n (array([0.52094091, 0.47905909]), 1, 0),\n (array([0.4711576, 0.5288424]), 1, 1)]"
     },
     "execution_count": 247,
     "metadata": {},
     "output_type": "execute_result"
    }
   ],
   "source": [
    "probSorted2[:10]"
   ],
   "metadata": {
    "collapsed": false,
    "pycharm": {
     "name": "#%%\n"
    }
   }
  },
  {
   "cell_type": "code",
   "execution_count": 248,
   "outputs": [],
   "source": [
    "probSorted2.sort(key=lambda t : abs(t[0][1] - 0.5), reverse=True)"
   ],
   "metadata": {
    "collapsed": false,
    "pycharm": {
     "name": "#%%\n"
    }
   }
  },
  {
   "cell_type": "code",
   "execution_count": 249,
   "outputs": [
    {
     "data": {
      "text/plain": "[(array([0.19459931, 0.80540069]), 1, 1),\n (array([0.19643684, 0.80356316]), 1, 1),\n (array([0.20622631, 0.79377369]), 1, 1),\n (array([0.21202257, 0.78797743]), 1, 1),\n (array([0.21655241, 0.78344759]), 1, 1),\n (array([0.22127384, 0.77872616]), 1, 1),\n (array([0.22724752, 0.77275248]), 0, 1),\n (array([0.23156561, 0.76843439]), 1, 1),\n (array([0.23498476, 0.76501524]), 1, 1),\n (array([0.23606837, 0.76393163]), 0, 1)]"
     },
     "execution_count": 249,
     "metadata": {},
     "output_type": "execute_result"
    }
   ],
   "source": [
    "probSorted2[:10]"
   ],
   "metadata": {
    "collapsed": false,
    "pycharm": {
     "name": "#%%\n"
    }
   }
  },
  {
   "cell_type": "code",
   "execution_count": 258,
   "outputs": [
    {
     "data": {
      "text/plain": "<Figure size 432x288 with 1 Axes>",
      "image/png": "[encoded data removed]"
     },
     "metadata": {
      "needs_background": "light"
     },
     "output_type": "display_data"
    }
   ],
   "source": [
    "p2_at_k = np.array([sum(map(lambda x : 1 if x[1] == x[2] else 0, probSorted2[:k])) / k for k in K])\n",
    "plt.plot(K, p_at_k, 'co-', label='Q.8')\n",
    "plt.plot(K, p2_at_k, 'ro-', label='Q.9')\n",
    "plt.xlabel('K')\n",
    "plt.ylabel('Precision @ K')\n",
    "plt.legend()\n",
    "plt.show()"
   ],
   "metadata": {
    "collapsed": false,
    "pycharm": {
     "name": "#%%\n"
    }
   }
  },
  {
   "cell_type": "code",
   "execution_count": null,
   "outputs": [],
   "source": [],
   "metadata": {
    "collapsed": false,
    "pycharm": {
     "name": "#%%\n"
    }
   }
  }
 ],
 "metadata": {
  "kernelspec": {
   "display_name": "Python 3",
   "language": "python",
   "name": "python3"
  },
  "language_info": {
   "codemirror_mode": {
    "name": "ipython",
    "version": 2
   },
   "file_extension": ".py",
   "mimetype": "text/x-python",
   "name": "python",
   "nbconvert_exporter": "python",
   "pygments_lexer": "ipython2",
   "version": "2.7.6"
  }
 },
 "nbformat": 4,
 "nbformat_minor": 0
}