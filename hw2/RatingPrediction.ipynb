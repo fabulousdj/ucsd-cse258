{
 "cells": [
  {
   "cell_type": "markdown",
   "metadata": {
    "collapsed": true,
    "pycharm": {
     "name": "#%% md\n"
    }
   },
   "source": [
    "# CSE 258 - HW 2\n",
    "Jin Dai / A92408103"
   ]
  },
  {
   "cell_type": "markdown",
   "source": [
    "## Tasks - Rating Prediction"
   ],
   "metadata": {
    "collapsed": false
   }
  },
  {
   "cell_type": "code",
   "execution_count": 1,
   "outputs": [],
   "source": [
    "import gzip\n",
    "import io\n",
    "from collections import defaultdict\n",
    "from urllib.request import urlopen"
   ],
   "metadata": {
    "collapsed": false,
    "pycharm": {
     "name": "#%%\n"
    }
   }
  },
  {
   "cell_type": "code",
   "execution_count": 2,
   "outputs": [],
   "source": [
    "url = 'https://cseweb.ucsd.edu//classes/fa21/cse258-b/data/goodreads_reviews_comics_graphic.json.gz'"
   ],
   "metadata": {
    "collapsed": false,
    "pycharm": {
     "name": "#%%\n"
    }
   }
  },
  {
   "cell_type": "code",
   "execution_count": 3,
   "outputs": [],
   "source": [
    "def download_and_decompose(url):\n",
    "    print('Downloading data...')\n",
    "    handle = urlopen(url)\n",
    "    f = gzip.GzipFile(fileobj=io.BytesIO(handle.read()))\n",
    "    print('Downloaded. Decomposing...')\n",
    "    for line in f:\n",
    "        yield eval(line)\n",
    "    print('Decomposed.')"
   ],
   "metadata": {
    "collapsed": false,
    "pycharm": {
     "name": "#%%\n"
    }
   }
  },
  {
   "cell_type": "code",
   "execution_count": 4,
   "outputs": [
    {
     "name": "stdout",
     "output_type": "stream",
     "text": [
      "Downloading data...\n",
      "Downloaded. Decomposing...\n",
      "Decomposed.\n"
     ]
    }
   ],
   "source": [
    "review_data = list(download_and_decompose(url))"
   ],
   "metadata": {
    "collapsed": false,
    "pycharm": {
     "name": "#%%\n"
    }
   }
  },
  {
   "cell_type": "code",
   "execution_count": 5,
   "outputs": [],
   "source": [
    "def Jaccard(s1, s2):\n",
    "    numer = len(s1.intersection(s2))\n",
    "    denom = len(s1.union(s2))\n",
    "    if denom == 0:\n",
    "        return 0\n",
    "    return numer / denom"
   ],
   "metadata": {
    "collapsed": false,
    "pycharm": {
     "name": "#%%\n"
    }
   }
  },
  {
   "cell_type": "markdown",
   "source": [
    "### Question. 4"
   ],
   "metadata": {
    "collapsed": false
   }
  },
  {
   "cell_type": "code",
   "execution_count": 6,
   "outputs": [],
   "source": [
    "users_per_item = defaultdict(set)\n",
    "items_per_user = defaultdict(set)\n",
    "rating_dict = {}\n",
    "reviews_per_user = defaultdict(list)\n",
    "reviews_per_item = defaultdict(list)\n",
    "for r in review_data:\n",
    "    user,item = r['user_id'], r['book_id']\n",
    "    users_per_item[item].add(user)\n",
    "    items_per_user[user].add(item)\n",
    "    rating_dict[(user, item)] = r['rating']\n",
    "    reviews_per_user[user].append(r)\n",
    "    reviews_per_item[item].append(r)"
   ],
   "metadata": {
    "collapsed": false,
    "pycharm": {
     "name": "#%%\n"
    }
   }
  },
  {
   "cell_type": "code",
   "execution_count": 7,
   "outputs": [],
   "source": [
    "user_avg = {}\n",
    "item_avg = {}\n",
    "\n",
    "for u in items_per_user:\n",
    "    rs = [rating_dict[(u,i)] for i in items_per_user[u]]\n",
    "    user_avg[u] = sum(rs) / len(rs)\n",
    "    \n",
    "for i in users_per_item:\n",
    "    rs = [rating_dict[(u,i)] for u in users_per_item[i]]\n",
    "    item_avg[i] = sum(rs) / len(rs)"
   ],
   "metadata": {
    "collapsed": false,
    "pycharm": {
     "name": "#%%\n"
    }
   }
  },
  {
   "cell_type": "code",
   "execution_count": 8,
   "outputs": [],
   "source": [
    "def predict_rating(user, item):\n",
    "    weighted_ratings_sum = 0\n",
    "    similarities_sum = 0\n",
    "    for r in reviews_per_user[user]:\n",
    "        i2 = r['book_id']\n",
    "        if i2 == item: continue\n",
    "        sim = Jaccard(users_per_item[item],users_per_item[i2])\n",
    "        weighted_ratings_sum += (r['rating'] - item_avg[i2]) * sim\n",
    "        similarities_sum += sim\n",
    "    if similarities_sum > 0:\n",
    "        return item_avg[item] + weighted_ratings_sum / similarities_sum\n",
    "    else:\n",
    "        # User hasn't rated any similar items\n",
    "        return item_avg[item]"
   ],
   "metadata": {
    "collapsed": false,
    "pycharm": {
     "name": "#%%\n"
    }
   }
  },
  {
   "cell_type": "code",
   "execution_count": 9,
   "outputs": [],
   "source": [
    "sim_predictions = [predict_rating(r['user_id'], r['book_id']) for r in review_data]"
   ],
   "metadata": {
    "collapsed": false,
    "pycharm": {
     "name": "#%%\n"
    }
   }
  },
  {
   "cell_type": "code",
   "execution_count": 10,
   "outputs": [],
   "source": [
    "labels = [r['rating'] for r in review_data]"
   ],
   "metadata": {
    "collapsed": false,
    "pycharm": {
     "name": "#%%\n"
    }
   }
  },
  {
   "cell_type": "code",
   "execution_count": 11,
   "outputs": [],
   "source": [
    "def MSE(predictions, labels):\n",
    "    differences = [(x-y)**2 for x,y in zip(predictions,labels)]\n",
    "    return sum(differences) / len(differences)"
   ],
   "metadata": {
    "collapsed": false,
    "pycharm": {
     "name": "#%%\n"
    }
   }
  },
  {
   "cell_type": "code",
   "execution_count": 12,
   "outputs": [
    {
     "data": {
      "text/plain": "0.7908367015187353"
     },
     "execution_count": 12,
     "metadata": {},
     "output_type": "execute_result"
    }
   ],
   "source": [
    "MSE(sim_predictions, labels)"
   ],
   "metadata": {
    "collapsed": false,
    "pycharm": {
     "name": "#%%\n"
    }
   }
  },
  {
   "cell_type": "markdown",
   "source": [
    "Question. 6"
   ],
   "metadata": {
    "collapsed": false,
    "pycharm": {
     "name": "#%% md\n"
    }
   }
  },
  {
   "cell_type": "markdown",
   "source": [
    "Design:\n",
    "1. First, we want to base the decay function on top of the delta between timestamps when reviews are added. We use months as the delta's granularity since intuitively a reader's rating toward a book would not change much on a finer granularity like minutes, hours, or days.\n",
    "2. We choose exponential decay function over the month-based delta since we believe ratings with the shortest delta tend to have the most strong indication of the next user's rating at present. The indication or effect would drop exponentially to a relatively static level if the delta becomes too large ($\\lim_{\\delta_t \\rightarrow \\infty} f(\\delta_t)=0$).\n",
    "3. To choose the best $\\lambda$ for the exponential decay function, ideally we should use gradient decent to get the best answer. But for simplicity, we prepare a few candidates and compute the MSE using each. The candidate that gives the smallest MSE should be a good enough choice for our $\\lambda$ to outperform the trivial function."
   ],
   "metadata": {
    "collapsed": false,
    "pycharm": {
     "name": "#%% md\n"
    }
   }
  },
  {
   "cell_type": "code",
   "execution_count": 13,
   "outputs": [],
   "source": [
    "import math"
   ],
   "metadata": {
    "collapsed": false,
    "pycharm": {
     "name": "#%%\n"
    }
   }
  },
  {
   "cell_type": "code",
   "execution_count": 14,
   "outputs": [],
   "source": [
    "def time_weight_factor(time_diff, l):\n",
    "    return math.exp(-l * time_diff)"
   ],
   "metadata": {
    "collapsed": false,
    "pycharm": {
     "name": "#%%\n"
    }
   }
  },
  {
   "cell_type": "code",
   "execution_count": 15,
   "outputs": [
    {
     "data": {
      "text/plain": "{'user_id': 'dc3763cdb9b2cae805882878eebb6a32',\n 'book_id': '18471619',\n 'review_id': '66b2ba840f9bd36d6d27f46136fe4772',\n 'rating': 3,\n 'review_text': 'Sherlock Holmes and the Vampires of London \\n Release Date: April 2014 \\n Publisher: Darkhorse Comics \\n Story by: Sylvain Cordurie \\n Art by: Laci \\n Colors by: Axel Gonzabo \\n Cover by: Jean Sebastien Rossbach \\n ISDN: 9781616552664 \\n MSRP: $17.99 Hardcover \\n \"Sherlock Holmes died fighting Professor Moriarty in the Reichenbach Falls. \\n At least, that\\'s what the press claims. \\n However, Holmes is alive and well and taking advantage of his presumed death to travel the globe. \\n Unfortunately, Holmes\\'s plans are thwarted when a plague of vampirism haunts Britain. \\n This book collects Sherlock Holmes and the Vampires of London Volumes 1 and 2, originally created by French publisher Soleil.\" - Darkhorse Comics \\n When I received this copy of \"Sherlock Holmes and the Vampires of London\" I was Ecstatic! The cover art was awesome and it was about two of my favorite things, Sherlock Holmes and Vampires. I couldn\\'t wait to dive into this! \\n Unfortunately, that is where my excitement ended. The story takes place a month after Sherlock Holmes supposed death in his battle with Professor Moriarty. Sherlock\\'s plan to stay hidden and out of site are ruined when on a trip with his brother Mycroft, they stumble on the presence of vampires. That is about as much of Sherlock\\'s character that comes through the book. I can\\'t even tell you the story really because nothing and I mean nothing stuck with me after reading it. I never, ever got the sense of Sherlock Holmes anywhere in this graphic novel, nor any real sense of mystery or crime. It was just Sherlock somehow battling vampires that should have had absolutely no trouble snuffing him out in a fight, but somehow always surviving and holding his own against supernatural, super powerful, blazingly fast creatures. \\n The cover art is awesome and it truly made me excited to read this but everything else feel completely flat for me. I tried telling myself that \"it\\'s a graphic novel, it would be hard to translate mystery, details, emotion\" but then I remembered reading DC Comic\\'s \"Identity Crisis\" and realized that was a load of crap. I know it\\'s unfair to compare the two as \"Identity Crisis\" had popular mystery author Brad Meltzer writing it right? Yeah....no. The standard was set that day and there is more than enough talent out there to create a great story in a graphic novel. \\n That being said, it wasn\\'t a horrible story, it just didn\\'t grip me for feel anything like Sherlock Holmes to me. It was easy enough to follow but I felt no sense of tension, stakes or compassion for any of the characters. \\n As far as the vampires go, it\\'s hard to know what to expect anymore as there are so many different versions these days. This was the more classic version which I personally prefer, but again I didn\\'t find anything that portrayed their dominance, calm confidence or sexuality. There was definitely a presence of their physical prowess but somehow that was lost on me as easily as Sherlock was able to defend himself. I know it, wouldn\\'t do to kill of the main character, but this would have a been a great opportunity to build around the experience and beguiling nature of a vampire that had lived so many years of experience. Another chance to showcase Sherlock\\'s intellect in a battle of wits over strength in something more suitable for this sort of story as apposed to trying to make it feel like an action movie. \\n Maybe I expected to much and hoped to have at least a gripping premise or some sort of interesting plot or mystery but I didn\\'t find it here. This may be a must have for serious Sherlock Holmes fans that have to collect everything about him, but if you are looking for a great story inside a graphic novel, I would have to say pass on this one. \\n That artwork is good, cover is great, story is lacking so I am giving it 2.5 out of 5 stars.',\n 'date_added': 'Thu Dec 05 10:44:25 -0800 2013',\n 'date_updated': 'Thu Dec 05 10:45:15 -0800 2013',\n 'read_at': 'Tue Nov 05 00:00:00 -0800 2013',\n 'started_at': '',\n 'n_votes': 0,\n 'n_comments': 0}"
     },
     "execution_count": 15,
     "metadata": {},
     "output_type": "execute_result"
    }
   ],
   "source": [
    "review_data[0]"
   ],
   "metadata": {
    "collapsed": false,
    "pycharm": {
     "name": "#%%\n"
    }
   }
  },
  {
   "cell_type": "code",
   "execution_count": 16,
   "outputs": [],
   "source": [
    "from dateutil.parser import parse"
   ],
   "metadata": {
    "collapsed": false,
    "pycharm": {
     "name": "#%%\n"
    }
   }
  },
  {
   "cell_type": "code",
   "execution_count": 17,
   "outputs": [
    {
     "data": {
      "text/plain": "datetime.datetime(2013, 12, 5, 10, 44, 25, tzinfo=tzoffset(None, -28800))"
     },
     "execution_count": 17,
     "metadata": {},
     "output_type": "execute_result"
    }
   ],
   "source": [
    "parse(review_data[0]['date_added'])"
   ],
   "metadata": {
    "collapsed": false,
    "pycharm": {
     "name": "#%%\n"
    }
   }
  },
  {
   "cell_type": "code",
   "execution_count": 18,
   "outputs": [
    {
     "data": {
      "text/plain": "2013"
     },
     "execution_count": 18,
     "metadata": {},
     "output_type": "execute_result"
    }
   ],
   "source": [
    "parse(review_data[0]['date_added']).year"
   ],
   "metadata": {
    "collapsed": false,
    "pycharm": {
     "name": "#%%\n"
    }
   }
  },
  {
   "cell_type": "code",
   "execution_count": 19,
   "outputs": [
    {
     "data": {
      "text/plain": "12"
     },
     "execution_count": 19,
     "metadata": {},
     "output_type": "execute_result"
    }
   ],
   "source": [
    "parse(review_data[0]['date_added']).month"
   ],
   "metadata": {
    "collapsed": false,
    "pycharm": {
     "name": "#%%\n"
    }
   }
  },
  {
   "cell_type": "code",
   "execution_count": 20,
   "outputs": [],
   "source": [
    "def parse_to_months(t):\n",
    "    parsed = parse(t)\n",
    "    return parsed.year * 12 + parsed.month"
   ],
   "metadata": {
    "collapsed": false,
    "pycharm": {
     "name": "#%%\n"
    }
   }
  },
  {
   "cell_type": "code",
   "execution_count": 21,
   "outputs": [],
   "source": [
    "timestamp_dict = {}\n",
    "for r in review_data:\n",
    "    user,item = r['user_id'], r['book_id']\n",
    "    timestamp_dict[(user, item)] = parse_to_months(r['date_added'])"
   ],
   "metadata": {
    "collapsed": false,
    "pycharm": {
     "name": "#%%\n"
    }
   }
  },
  {
   "cell_type": "code",
   "execution_count": 22,
   "outputs": [],
   "source": [
    "def time_weighted_predict_rating(user, item, l):\n",
    "    weighted_ratings_sum = 0\n",
    "    similarities_sum = 0\n",
    "    for r in reviews_per_user[user]:\n",
    "        i2 = r['book_id']\n",
    "        if i2 == item: continue\n",
    "        sim = Jaccard(users_per_item[item],users_per_item[i2])\n",
    "        time_weight = time_weight_factor(abs(timestamp_dict[(user, item)] - timestamp_dict[(user, i2)]), l)\n",
    "        time_weighted_sim = sim * time_weight\n",
    "        weighted_ratings_sum += (r['rating'] - item_avg[i2]) * time_weighted_sim\n",
    "        similarities_sum += time_weighted_sim\n",
    "    if similarities_sum > 0:\n",
    "        return item_avg[item] + weighted_ratings_sum / similarities_sum\n",
    "    else:\n",
    "        # User hasn't rated any similar items\n",
    "        return item_avg[item]"
   ],
   "metadata": {
    "collapsed": false,
    "pycharm": {
     "name": "#%%\n"
    }
   }
  },
  {
   "cell_type": "code",
   "execution_count": null,
   "outputs": [
    {
     "name": "stdout",
     "output_type": "stream",
     "text": [
      "lambda: 1.000000, mse: 0.872494\n",
      "lambda: 0.100000, mse: 0.786729\n",
      "lambda: 0.010000, mse: 0.786887\n",
      "lambda: 0.001000, mse: 0.790366\n"
     ]
    }
   ],
   "source": [
    "for l in [1, 0.1, 0.01, 0.001, 0.0001]:\n",
    "    time_weighted_sim_predictions = [time_weighted_predict_rating(r['user_id'], r['book_id'], l) for r in review_data]\n",
    "    mse = MSE(time_weighted_sim_predictions, labels)\n",
    "    print('lambda: %f, mse: %f' % (l, mse))"
   ],
   "metadata": {
    "collapsed": false,
    "pycharm": {
     "name": "#%%\n",
     "is_executing": true
    }
   }
  },
  {
   "cell_type": "markdown",
   "source": [
    "Therefore, based on the design of our decay function, the best MSE we can get is 0.786729 at $\\lambda=0.1$. This result outperforms MSE=0.7908367 using the trivial decay function by ~0.0041."
   ],
   "metadata": {
    "collapsed": false,
    "pycharm": {
     "name": "#%% md\n"
    }
   }
  }
 ],
 "metadata": {
  "kernelspec": {
   "display_name": "Python 3",
   "language": "python",
   "name": "python3"
  },
  "language_info": {
   "codemirror_mode": {
    "name": "ipython",
    "version": 2
   },
   "file_extension": ".py",
   "mimetype": "text/x-python",
   "name": "python",
   "nbconvert_exporter": "python",
   "pygments_lexer": "ipython2",
   "version": "2.7.6"
  }
 },
 "nbformat": 4,
 "nbformat_minor": 0
}