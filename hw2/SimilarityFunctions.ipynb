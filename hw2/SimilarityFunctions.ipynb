{
 "cells": [
  {
   "cell_type": "markdown",
   "metadata": {
    "collapsed": true,
    "pycharm": {
     "name": "#%% md\n"
    }
   },
   "source": [
    "# CSE 258 - HW 2\n",
    "Jin Dai / A92408103"
   ]
  },
  {
   "cell_type": "markdown",
   "source": [
    "## Tasks - Similarity Functions\n"
   ],
   "metadata": {
    "collapsed": false
   }
  },
  {
   "cell_type": "code",
   "execution_count": 1,
   "outputs": [],
   "source": [
    "import gzip\n",
    "import io\n",
    "import math\n",
    "from collections import defaultdict\n",
    "from urllib.request import urlopen"
   ],
   "metadata": {
    "collapsed": false,
    "pycharm": {
     "name": "#%%\n"
    }
   }
  },
  {
   "cell_type": "code",
   "execution_count": 2,
   "outputs": [],
   "source": [
    "url = 'https://cseweb.ucsd.edu//classes/fa21/cse258-b/data/goodreads_reviews_comics_graphic.json.gz'"
   ],
   "metadata": {
    "collapsed": false,
    "pycharm": {
     "name": "#%%\n"
    }
   }
  },
  {
   "cell_type": "code",
   "execution_count": 3,
   "outputs": [],
   "source": [
    "def download_and_decompose(url):\n",
    "    print('Downloading data...')\n",
    "    handle = urlopen(url)\n",
    "    f = gzip.GzipFile(fileobj=io.BytesIO(handle.read()))\n",
    "    print('Downloaded. Decomposing...')\n",
    "    for line in f:\n",
    "        yield eval(line)\n",
    "    print('Decomposed.')"
   ],
   "metadata": {
    "collapsed": false,
    "pycharm": {
     "name": "#%%\n"
    }
   }
  },
  {
   "cell_type": "code",
   "execution_count": 4,
   "outputs": [
    {
     "name": "stdout",
     "output_type": "stream",
     "text": [
      "Downloading data...\n",
      "Downloaded. Decomposing...\n",
      "Decomposed.\n"
     ]
    }
   ],
   "source": [
    "review_data = list(download_and_decompose(url))"
   ],
   "metadata": {
    "collapsed": false,
    "pycharm": {
     "name": "#%%\n"
    }
   }
  },
  {
   "cell_type": "code",
   "execution_count": 5,
   "outputs": [
    {
     "data": {
      "text/plain": "{'user_id': 'dc3763cdb9b2cae805882878eebb6a32',\n 'book_id': '18471619',\n 'review_id': '66b2ba840f9bd36d6d27f46136fe4772',\n 'rating': 3,\n 'review_text': 'Sherlock Holmes and the Vampires of London \\n Release Date: April 2014 \\n Publisher: Darkhorse Comics \\n Story by: Sylvain Cordurie \\n Art by: Laci \\n Colors by: Axel Gonzabo \\n Cover by: Jean Sebastien Rossbach \\n ISDN: 9781616552664 \\n MSRP: $17.99 Hardcover \\n \"Sherlock Holmes died fighting Professor Moriarty in the Reichenbach Falls. \\n At least, that\\'s what the press claims. \\n However, Holmes is alive and well and taking advantage of his presumed death to travel the globe. \\n Unfortunately, Holmes\\'s plans are thwarted when a plague of vampirism haunts Britain. \\n This book collects Sherlock Holmes and the Vampires of London Volumes 1 and 2, originally created by French publisher Soleil.\" - Darkhorse Comics \\n When I received this copy of \"Sherlock Holmes and the Vampires of London\" I was Ecstatic! The cover art was awesome and it was about two of my favorite things, Sherlock Holmes and Vampires. I couldn\\'t wait to dive into this! \\n Unfortunately, that is where my excitement ended. The story takes place a month after Sherlock Holmes supposed death in his battle with Professor Moriarty. Sherlock\\'s plan to stay hidden and out of site are ruined when on a trip with his brother Mycroft, they stumble on the presence of vampires. That is about as much of Sherlock\\'s character that comes through the book. I can\\'t even tell you the story really because nothing and I mean nothing stuck with me after reading it. I never, ever got the sense of Sherlock Holmes anywhere in this graphic novel, nor any real sense of mystery or crime. It was just Sherlock somehow battling vampires that should have had absolutely no trouble snuffing him out in a fight, but somehow always surviving and holding his own against supernatural, super powerful, blazingly fast creatures. \\n The cover art is awesome and it truly made me excited to read this but everything else feel completely flat for me. I tried telling myself that \"it\\'s a graphic novel, it would be hard to translate mystery, details, emotion\" but then I remembered reading DC Comic\\'s \"Identity Crisis\" and realized that was a load of crap. I know it\\'s unfair to compare the two as \"Identity Crisis\" had popular mystery author Brad Meltzer writing it right? Yeah....no. The standard was set that day and there is more than enough talent out there to create a great story in a graphic novel. \\n That being said, it wasn\\'t a horrible story, it just didn\\'t grip me for feel anything like Sherlock Holmes to me. It was easy enough to follow but I felt no sense of tension, stakes or compassion for any of the characters. \\n As far as the vampires go, it\\'s hard to know what to expect anymore as there are so many different versions these days. This was the more classic version which I personally prefer, but again I didn\\'t find anything that portrayed their dominance, calm confidence or sexuality. There was definitely a presence of their physical prowess but somehow that was lost on me as easily as Sherlock was able to defend himself. I know it, wouldn\\'t do to kill of the main character, but this would have a been a great opportunity to build around the experience and beguiling nature of a vampire that had lived so many years of experience. Another chance to showcase Sherlock\\'s intellect in a battle of wits over strength in something more suitable for this sort of story as apposed to trying to make it feel like an action movie. \\n Maybe I expected to much and hoped to have at least a gripping premise or some sort of interesting plot or mystery but I didn\\'t find it here. This may be a must have for serious Sherlock Holmes fans that have to collect everything about him, but if you are looking for a great story inside a graphic novel, I would have to say pass on this one. \\n That artwork is good, cover is great, story is lacking so I am giving it 2.5 out of 5 stars.',\n 'date_added': 'Thu Dec 05 10:44:25 -0800 2013',\n 'date_updated': 'Thu Dec 05 10:45:15 -0800 2013',\n 'read_at': 'Tue Nov 05 00:00:00 -0800 2013',\n 'started_at': '',\n 'n_votes': 0,\n 'n_comments': 0}"
     },
     "execution_count": 5,
     "metadata": {},
     "output_type": "execute_result"
    }
   ],
   "source": [
    "review_data[0]"
   ],
   "metadata": {
    "collapsed": false,
    "pycharm": {
     "name": "#%%\n"
    }
   }
  },
  {
   "cell_type": "code",
   "execution_count": 6,
   "outputs": [],
   "source": [
    "users_per_book = defaultdict(set)\n",
    "for r in review_data:\n",
    "    user, book = r['user_id'], r['book_id']\n",
    "    users_per_book[book].add(user)"
   ],
   "metadata": {
    "collapsed": false,
    "pycharm": {
     "name": "#%%\n"
    }
   }
  },
  {
   "cell_type": "markdown",
   "source": [
    "### Question. 1"
   ],
   "metadata": {
    "collapsed": false,
    "pycharm": {
     "name": "#%% md\n"
    }
   }
  },
  {
   "cell_type": "code",
   "execution_count": 7,
   "outputs": [
    {
     "data": {
      "text/plain": "{'033cf640dfa6f85eb146c39787289628',\n '071222e19ae29dc9fdbe225d983449be',\n '0fafb6f0843124383f4e2c5a2090fb09',\n '17f73ea38e97307935c0d3b6ca987b53',\n '26c41515b2144cf6a1545e831f8d2cd3',\n '41b1c110d428bbc49481036e896c0a6f',\n '42519f961f79b61701bda60787b031cf',\n '4674a9c5dc3fde5506d43d6a737fa059',\n '4ae069d704b11bdf12c25fe640f75ff0',\n '5510684ab6c18f2dd493787e66b2722c',\n '6470c7f5e3468ba34e9fe628960fbbf1',\n '6497ca91df3c182006874c96a8530b37',\n '65a7975989734fc6e18b7d2bd2bcb49f',\n '68dff5594b77c47aae96cbe97aba5206',\n '714ed8e9b1814bf45dd9abd88431dbb8',\n '7f63e4d65e873703970e71afabbc3b54',\n '8d06514d97530ddb22a05b84dfe4daad',\n '9d4feff5432a5a5243bf277e0d258042',\n '9f6f9da3a71ded406f15764f8fbf5f51',\n 'a39b4249d201ef5ce5ea553bdd013e66',\n 'd286122fed6ded84ff53993335bfd59c',\n 'd7310760f68365d3ca747fa8b9310518',\n 'da7a0c5ee0c89973224d8853445be68e',\n 'dc3763cdb9b2cae805882878eebb6a32',\n 'dd669721e136c1be47d739b14fa23d20',\n 'eaa54d876d841293059657fb80a9bba6'}"
     },
     "execution_count": 7,
     "metadata": {},
     "output_type": "execute_result"
    }
   ],
   "source": [
    "users_per_book[review_data[0]['book_id']]"
   ],
   "metadata": {
    "collapsed": false,
    "pycharm": {
     "name": "#%%\n"
    }
   }
  },
  {
   "cell_type": "code",
   "execution_count": 8,
   "outputs": [],
   "source": [
    "def Jaccard(s1, s2):\n",
    "    numer = len(s1.intersection(s2))\n",
    "    denom = len(s1.union(s2))\n",
    "    if denom == 0:\n",
    "        return 0\n",
    "    return numer / denom\n"
   ],
   "metadata": {
    "collapsed": false,
    "pycharm": {
     "name": "#%%\n"
    }
   }
  },
  {
   "cell_type": "code",
   "execution_count": 9,
   "outputs": [],
   "source": [
    "def most_similar(i, N, users_per_item, sim_func):\n",
    "    similarities = []\n",
    "    users = users_per_item[i]\n",
    "    for i2 in users_per_item:\n",
    "        if i2 == i: continue\n",
    "        sim = sim_func(users, users_per_item[i2])\n",
    "        similarities.append((sim,i2))\n",
    "    similarities.sort(reverse=True)\n",
    "    return similarities[:N]"
   ],
   "metadata": {
    "collapsed": false,
    "pycharm": {
     "name": "#%%\n"
    }
   }
  },
  {
   "cell_type": "code",
   "execution_count": 10,
   "outputs": [
    {
     "data": {
      "text/plain": "'18471619'"
     },
     "execution_count": 10,
     "metadata": {},
     "output_type": "execute_result"
    }
   ],
   "source": [
    "review_data[0]['book_id']"
   ],
   "metadata": {
    "collapsed": false,
    "pycharm": {
     "name": "#%%\n"
    }
   }
  },
  {
   "cell_type": "code",
   "execution_count": 11,
   "outputs": [],
   "source": [
    "t10_jaccard_sim = most_similar(review_data[0]['book_id'], 10, users_per_book, Jaccard)"
   ],
   "metadata": {
    "collapsed": false,
    "pycharm": {
     "name": "#%%\n"
    }
   }
  },
  {
   "cell_type": "code",
   "execution_count": 12,
   "outputs": [
    {
     "name": "stdout",
     "output_type": "stream",
     "text": [
      "The top 10 items with the highest Jaccard similarity compared to the first item are:\n"
     ]
    },
    {
     "data": {
      "text/plain": "[(0.16666666666666666, '25334626'),\n (0.14285714285714285, '25659811'),\n (0.13793103448275862, '18369278'),\n (0.13157894736842105, '18430205'),\n (0.12903225806451613, '20299669'),\n (0.125, '17995154'),\n (0.12121212121212122, '23241671'),\n (0.12121212121212122, '23093378'),\n (0.12121212121212122, '18853527'),\n (0.11764705882352941, '26778333')]"
     },
     "execution_count": 12,
     "metadata": {},
     "output_type": "execute_result"
    }
   ],
   "source": [
    "print('The top 10 items with the highest Jaccard similarity compared to the first item are:')\n",
    "t10_jaccard_sim"
   ],
   "metadata": {
    "collapsed": false,
    "pycharm": {
     "name": "#%%\n"
    }
   }
  },
  {
   "cell_type": "markdown",
   "source": [
    "### Question. 2"
   ],
   "metadata": {
    "collapsed": false,
    "pycharm": {
     "name": "#%% md\n"
    }
   }
  },
  {
   "cell_type": "markdown",
   "source": [
    "(a)\n"
   ],
   "metadata": {
    "collapsed": false,
    "pycharm": {
     "name": "#%% md\n"
    }
   }
  },
  {
   "cell_type": "code",
   "source": [
    "def most_similar_books(i, N, users_per_book, user_interactions, sim_func):\n",
    "    similarities = []\n",
    "    users = users_per_book[i]\n",
    "    for i2 in users_per_book:\n",
    "        if i2 == i: continue\n",
    "        if i2 in user_interactions:\n",
    "            print('The target user has already read book %s. Hence skipping...' % i2)\n",
    "            continue\n",
    "        sim = sim_func(users, users_per_book[i2])\n",
    "        similarities.append((sim,i2))\n",
    "    similarities.sort(reverse=True)\n",
    "    return similarities[:N]"
   ],
   "metadata": {
    "collapsed": false,
    "pycharm": {
     "name": "#%%\n"
    }
   },
   "execution_count": 13,
   "outputs": []
  },
  {
   "cell_type": "markdown",
   "source": [
    "First we get the user's highest rated book."
   ],
   "metadata": {
    "collapsed": false,
    "pycharm": {
     "name": "#%% md\n"
    }
   }
  },
  {
   "cell_type": "code",
   "execution_count": 14,
   "outputs": [],
   "source": [
    "user_id = 'dc3763cdb9b2cae805882878eebb6a32'\n",
    "books_per_user = defaultdict(set)\n",
    "rating_dict = {}\n",
    "\n",
    "for r in review_data:\n",
    "    user, book = r['user_id'], r['book_id']\n",
    "    books_per_user[user].add(book)\n",
    "    rating_dict[(user, book)] = r['rating']"
   ],
   "metadata": {
    "collapsed": false,
    "pycharm": {
     "name": "#%%\n"
    }
   }
  },
  {
   "cell_type": "code",
   "execution_count": 15,
   "outputs": [
    {
     "data": {
      "text/plain": "[('18471619', 3)]"
     },
     "execution_count": 15,
     "metadata": {},
     "output_type": "execute_result"
    }
   ],
   "source": [
    "[(b, rating_dict[(user_id, b)]) for b in books_per_user[user_id]]"
   ],
   "metadata": {
    "collapsed": false,
    "pycharm": {
     "name": "#%%\n"
    }
   }
  },
  {
   "cell_type": "code",
   "execution_count": 16,
   "outputs": [],
   "source": [
    "def top_rated_item_by(user, items_per_user, rating_dict):\n",
    "    items = items_per_user[user]\n",
    "    return max(items, key=lambda item : rating_dict[(user, item)])"
   ],
   "metadata": {
    "collapsed": false,
    "pycharm": {
     "name": "#%%\n"
    }
   }
  },
  {
   "cell_type": "code",
   "execution_count": 17,
   "outputs": [],
   "source": [
    "top_rated = top_rated_item_by(user_id, books_per_user, rating_dict)"
   ],
   "metadata": {
    "collapsed": false,
    "pycharm": {
     "name": "#%%\n"
    }
   }
  },
  {
   "cell_type": "code",
   "execution_count": 18,
   "outputs": [
    {
     "name": "stdout",
     "output_type": "stream",
     "text": [
      "The highest rated book by user dc3763cdb9b2cae805882878eebb6a32 is 18471619\n"
     ]
    }
   ],
   "source": [
    "print('The highest rated book by user %s is %s' % (user_id, top_rated))"
   ],
   "metadata": {
    "collapsed": false,
    "pycharm": {
     "name": "#%%\n"
    }
   }
  },
  {
   "cell_type": "markdown",
   "source": [
    "Then we recommend the 10 most similar books to book: '18471619' to the user."
   ],
   "metadata": {
    "collapsed": false,
    "pycharm": {
     "name": "#%% md\n"
    }
   }
  },
  {
   "cell_type": "code",
   "execution_count": 19,
   "outputs": [
    {
     "data": {
      "text/plain": "{'18471619'}"
     },
     "execution_count": 19,
     "metadata": {},
     "output_type": "execute_result"
    }
   ],
   "source": [
    "books_per_user[user_id]"
   ],
   "metadata": {
    "collapsed": false,
    "pycharm": {
     "name": "#%%\n"
    }
   }
  },
  {
   "cell_type": "code",
   "execution_count": 20,
   "outputs": [
    {
     "name": "stdout",
     "output_type": "stream",
     "text": [
      "Our recommendations:\n"
     ]
    },
    {
     "data": {
      "text/plain": "[(0.16666666666666666, '25334626'),\n (0.14285714285714285, '25659811'),\n (0.13793103448275862, '18369278'),\n (0.13157894736842105, '18430205'),\n (0.12903225806451613, '20299669'),\n (0.125, '17995154'),\n (0.12121212121212122, '23241671'),\n (0.12121212121212122, '23093378'),\n (0.12121212121212122, '18853527'),\n (0.11764705882352941, '26778333')]"
     },
     "execution_count": 20,
     "metadata": {},
     "output_type": "execute_result"
    }
   ],
   "source": [
    "print('Our recommendations:')\n",
    "most_similar_books(top_rated, 10, users_per_book, books_per_user[user_id], Jaccard)"
   ],
   "metadata": {
    "collapsed": false,
    "pycharm": {
     "name": "#%%\n"
    }
   }
  },
  {
   "cell_type": "markdown",
   "source": [
    "(b)\n"
   ],
   "metadata": {
    "collapsed": false,
    "pycharm": {
     "name": "#%% md\n"
    }
   }
  },
  {
   "cell_type": "code",
   "execution_count": 21,
   "outputs": [],
   "source": [
    "def most_similar_users(u, N, items_per_user, sim_func):\n",
    "    similarities = []\n",
    "    items = items_per_user[u]\n",
    "    for u2 in items_per_user:\n",
    "        if u2 == u: continue\n",
    "        sim = sim_func(items, items_per_user[u2])\n",
    "        similarities.append((sim,u2))\n",
    "    similarities.sort(reverse=True)\n",
    "    return similarities[:N]"
   ],
   "metadata": {
    "collapsed": false,
    "pycharm": {
     "name": "#%%\n"
    }
   }
  },
  {
   "cell_type": "markdown",
   "source": [
    "First, find the most similar users.\n"
   ],
   "metadata": {
    "collapsed": false,
    "pycharm": {
     "name": "#%% md\n"
    }
   }
  },
  {
   "cell_type": "code",
   "execution_count": 22,
   "outputs": [
    {
     "name": "stdout",
     "output_type": "stream",
     "text": [
      "The most similar users to user dc3763cdb9b2cae805882878eebb6a32 are:\n"
     ]
    },
    {
     "data": {
      "text/plain": "[(1.0, '4ae069d704b11bdf12c25fe640f75ff0'),\n (0.3333333333333333, '6470c7f5e3468ba34e9fe628960fbbf1'),\n (0.25, '6497ca91df3c182006874c96a8530b37'),\n (0.2, '033cf640dfa6f85eb146c39787289628'),\n (0.14285714285714285, '5510684ab6c18f2dd493787e66b2722c'),\n (0.05555555555555555, '17f73ea38e97307935c0d3b6ca987b53'),\n (0.030303030303030304, 'a39b4249d201ef5ce5ea553bdd013e66'),\n (0.023809523809523808, '42519f961f79b61701bda60787b031cf'),\n (0.02040816326530612, '65a7975989734fc6e18b7d2bd2bcb49f'),\n (0.014925373134328358, '0fafb6f0843124383f4e2c5a2090fb09'),\n (0.0136986301369863, '071222e19ae29dc9fdbe225d983449be'),\n (0.013157894736842105, '7f63e4d65e873703970e71afabbc3b54'),\n (0.007751937984496124, 'd7310760f68365d3ca747fa8b9310518'),\n (0.006622516556291391, '68dff5594b77c47aae96cbe97aba5206'),\n (0.006097560975609756, 'eaa54d876d841293059657fb80a9bba6'),\n (0.005780346820809248, '8d06514d97530ddb22a05b84dfe4daad'),\n (0.0051813471502590676, '9d4feff5432a5a5243bf277e0d258042'),\n (0.004694835680751174, 'da7a0c5ee0c89973224d8853445be68e'),\n (0.004484304932735426, '714ed8e9b1814bf45dd9abd88431dbb8'),\n (0.004098360655737705, '9f6f9da3a71ded406f15764f8fbf5f51')]"
     },
     "execution_count": 22,
     "metadata": {},
     "output_type": "execute_result"
    }
   ],
   "source": [
    "most_sim_users = most_similar_users(user_id, 20, books_per_user, Jaccard)\n",
    "print('The most similar users to user %s are:' % user_id)\n",
    "most_sim_users"
   ],
   "metadata": {
    "collapsed": false,
    "pycharm": {
     "name": "#%%\n"
    }
   }
  },
  {
   "cell_type": "markdown",
   "source": [
    "Then, we recommend the favorite books from each of the most similar users to the target user.\n"
   ],
   "metadata": {
    "collapsed": false,
    "pycharm": {
     "name": "#%% md\n"
    }
   }
  },
  {
   "cell_type": "code",
   "execution_count": 23,
   "outputs": [
    {
     "name": "stdout",
     "output_type": "stream",
     "text": [
      "Favorite book by user 4ae069d704b11bdf12c25fe640f75ff0 is 18471619\n",
      "The target user has already read book 18471619. Hence skipping...\n",
      "Favorite book by user 6470c7f5e3468ba34e9fe628960fbbf1 is 10767466\n",
      "Favorite book by user 6497ca91df3c182006874c96a8530b37 is 23531233\n",
      "Favorite book by user 033cf640dfa6f85eb146c39787289628 is 15931937\n",
      "Favorite book by user 5510684ab6c18f2dd493787e66b2722c is 7736086\n",
      "Favorite book by user 17f73ea38e97307935c0d3b6ca987b53 is 22454333\n",
      "Favorite book by user a39b4249d201ef5ce5ea553bdd013e66 is 18720887\n",
      "Favorite book by user 42519f961f79b61701bda60787b031cf is 6393176\n",
      "Favorite book by user 65a7975989734fc6e18b7d2bd2bcb49f is 18260395\n",
      "Favorite book by user 0fafb6f0843124383f4e2c5a2090fb09 is 24375349\n",
      "Favorite book by user 071222e19ae29dc9fdbe225d983449be is 10638896\n",
      "Favorite book by user 7f63e4d65e873703970e71afabbc3b54 is 917459\n",
      "Favorite book by user d7310760f68365d3ca747fa8b9310518 is 32894544\n",
      "Favorite book by user 68dff5594b77c47aae96cbe97aba5206 is 31220490\n",
      "Favorite book by user eaa54d876d841293059657fb80a9bba6 is 13495085\n",
      "Favorite book by user 8d06514d97530ddb22a05b84dfe4daad is 15953593\n",
      "Favorite book by user 9d4feff5432a5a5243bf277e0d258042 is 7919401\n",
      "Favorite book by user da7a0c5ee0c89973224d8853445be68e is 43747\n",
      "Favorite book by user 714ed8e9b1814bf45dd9abd88431dbb8 is 105880\n",
      "Favorite book by user 9f6f9da3a71ded406f15764f8fbf5f51 is 21535713\n"
     ]
    }
   ],
   "source": [
    "recommendations = []\n",
    "for _, user in most_sim_users:\n",
    "    top_pick = top_rated_item_by(user, books_per_user, rating_dict)\n",
    "    print('Favorite book by user %s is %s' % (user, top_pick))\n",
    "    if top_pick in books_per_user[user_id]:\n",
    "        print('The target user has already read book %s. Hence skipping...' % top_pick)\n",
    "        continue\n",
    "    recommendations.append(top_pick)"
   ],
   "metadata": {
    "collapsed": false,
    "pycharm": {
     "name": "#%%\n"
    }
   }
  },
  {
   "cell_type": "code",
   "execution_count": 24,
   "outputs": [
    {
     "name": "stdout",
     "output_type": "stream",
     "text": [
      "Our recommendations:\n"
     ]
    },
    {
     "data": {
      "text/plain": "['10767466',\n '23531233',\n '15931937',\n '7736086',\n '22454333',\n '18720887',\n '6393176',\n '18260395',\n '24375349',\n '10638896']"
     },
     "execution_count": 24,
     "metadata": {},
     "output_type": "execute_result"
    }
   ],
   "source": [
    "print('Our recommendations:')\n",
    "recommendations[:10]"
   ],
   "metadata": {
    "collapsed": false,
    "pycharm": {
     "name": "#%%\n"
    }
   }
  },
  {
   "cell_type": "markdown",
   "source": [
    "### Question. 3"
   ],
   "metadata": {
    "collapsed": false,
    "pycharm": {
     "name": "#%% md\n"
    }
   }
  },
  {
   "cell_type": "code",
   "execution_count": 25,
   "outputs": [],
   "source": [
    "item_avgs = {}\n",
    "\n",
    "for i in users_per_book:\n",
    "    rs = [rating_dict[(u,i)] for u in users_per_book[i]]\n",
    "    item_avgs[i] = sum(rs) / len(rs)"
   ],
   "metadata": {
    "collapsed": false,
    "pycharm": {
     "name": "#%%\n"
    }
   }
  },
  {
   "cell_type": "code",
   "execution_count": 26,
   "outputs": [],
   "source": [
    "def Pearson_1(i1, i2, users_per_item, item_avg):\n",
    "    # Between two items\n",
    "    i_bar1 = item_avg[i1]\n",
    "    i_bar2 = item_avg[i2]\n",
    "    inter = users_per_item[i1].intersection(users_per_item[i2])\n",
    "    numer = 0\n",
    "    denom1 = 0\n",
    "    denom2 = 0\n",
    "    for u in inter:\n",
    "        numer += (rating_dict[(u,i1)] - i_bar1)*(rating_dict[(u,i2)] - i_bar2)\n",
    "    for u in inter: #usersPerItem[i1]:\n",
    "        denom1 += (rating_dict[(u,i1)] - i_bar1)**2\n",
    "    #for u in usersPerItem[i2]:\n",
    "        denom2 += (rating_dict[(u,i2)] - i_bar2)**2\n",
    "    denom = math.sqrt(denom1) * math.sqrt(denom2)\n",
    "    if denom == 0: return 0\n",
    "    return numer / denom"
   ],
   "metadata": {
    "collapsed": false,
    "pycharm": {
     "name": "#%%\n"
    }
   }
  },
  {
   "cell_type": "code",
   "execution_count": 27,
   "outputs": [],
   "source": [
    "def Pearson_2(i1, i2, users_per_item, item_avg):\n",
    "    # Between two items\n",
    "    i_bar1 = item_avg[i1]\n",
    "    i_bar2 = item_avg[i2]\n",
    "    inter = users_per_item[i1].intersection(users_per_item[i2])\n",
    "    numer = 0\n",
    "    denom1 = 0\n",
    "    denom2 = 0\n",
    "    for u in inter:\n",
    "        numer += (rating_dict[(u,i1)] - i_bar1)*(rating_dict[(u,i2)] - i_bar2)\n",
    "    for u in users_per_item[i1]:\n",
    "        denom1 += (rating_dict[(u,i1)] - i_bar1)**2\n",
    "    for u in users_per_item[i2]:\n",
    "        denom2 += (rating_dict[(u,i2)] - i_bar2)**2\n",
    "    denom = math.sqrt(denom1) * math.sqrt(denom2)\n",
    "    if denom == 0: return 0\n",
    "    return numer / denom"
   ],
   "metadata": {
    "collapsed": false,
    "pycharm": {
     "name": "#%%\n"
    }
   }
  },
  {
   "cell_type": "code",
   "execution_count": 28,
   "outputs": [],
   "source": [
    "def most_similar_pearson(i, N, users_per_item, item_avg, pearson):\n",
    "    similarities = []\n",
    "    for i2 in users_per_item:\n",
    "        if i2 == i: continue\n",
    "        sim = pearson(i, i2, users_per_item, item_avg)\n",
    "        similarities.append((sim,i2))\n",
    "    similarities.sort(reverse=True)\n",
    "    return similarities[:N]"
   ],
   "metadata": {
    "collapsed": false,
    "pycharm": {
     "name": "#%%\n"
    }
   }
  },
  {
   "cell_type": "code",
   "execution_count": 29,
   "outputs": [],
   "source": [
    "t10_pearson_1_sim = most_similar_pearson(review_data[0]['book_id'], 10, users_per_book, item_avgs, Pearson_1)"
   ],
   "metadata": {
    "collapsed": false,
    "pycharm": {
     "name": "#%%\n"
    }
   }
  },
  {
   "cell_type": "code",
   "execution_count": 30,
   "outputs": [
    {
     "name": "stdout",
     "output_type": "stream",
     "text": [
      "The top 10 items with the highest similarity based on Pearson with implementation 1 compared to the first item are:\n"
     ]
    },
    {
     "data": {
      "text/plain": "[(1.0000000000000002, '993861'),\n (1.0000000000000002, '7986827'),\n (1.0000000000000002, '7342071'),\n (1.0000000000000002, '62953'),\n (1.0000000000000002, '33585240'),\n (1.0000000000000002, '3328828'),\n (1.0000000000000002, '31855855'),\n (1.0000000000000002, '31224404'),\n (1.0000000000000002, '30272308'),\n (1.0000000000000002, '29840108')]"
     },
     "execution_count": 30,
     "metadata": {},
     "output_type": "execute_result"
    }
   ],
   "source": [
    "print('The top 10 items with the highest similarity based on Pearson with implementation 1 compared to the first item are:')\n",
    "t10_pearson_1_sim\n"
   ],
   "metadata": {
    "collapsed": false,
    "pycharm": {
     "name": "#%%\n"
    }
   }
  },
  {
   "cell_type": "code",
   "execution_count": 31,
   "outputs": [],
   "source": [
    "t10_pearson_2_sim = most_similar_pearson(review_data[0]['book_id'], 10, users_per_book, item_avgs, Pearson_2)"
   ],
   "metadata": {
    "collapsed": false,
    "pycharm": {
     "name": "#%%\n"
    }
   }
  },
  {
   "cell_type": "code",
   "execution_count": 32,
   "outputs": [
    {
     "name": "stdout",
     "output_type": "stream",
     "text": [
      "The top 10 items with the highest similarity based on Pearson with implementation 2 compared to the first item are:\n"
     ]
    },
    {
     "data": {
      "text/plain": "[(0.31898549007874194, '20300526'),\n (0.18785865431369264, '13280885'),\n (0.17896391275176457, '18208501'),\n (0.16269036695641687, '25430791'),\n (0.16269036695641687, '21521612'),\n (0.1555075595594449, '1341758'),\n (0.1526351566298752, '6314737'),\n (0.15204888048160353, '4009034'),\n (0.1494406444160154, '988744'),\n (0.14632419481281997, '18430205')]"
     },
     "execution_count": 32,
     "metadata": {},
     "output_type": "execute_result"
    }
   ],
   "source": [
    "print('The top 10 items with the highest similarity based on Pearson with implementation 2 compared to the first item are:')\n",
    "t10_pearson_2_sim\n"
   ],
   "metadata": {
    "collapsed": false,
    "pycharm": {
     "name": "#%%\n"
    }
   }
  },
  {
   "cell_type": "code",
   "execution_count": 32,
   "outputs": [],
   "source": [],
   "metadata": {
    "collapsed": false,
    "pycharm": {
     "name": "#%%\n"
    }
   }
  }
 ],
 "metadata": {
  "kernelspec": {
   "display_name": "Python 3",
   "language": "python",
   "name": "python3"
  },
  "language_info": {
   "codemirror_mode": {
    "name": "ipython",
    "version": 2
   },
   "file_extension": ".py",
   "mimetype": "text/x-python",
   "name": "python",
   "nbconvert_exporter": "python",
   "pygments_lexer": "ipython2",
   "version": "2.7.6"
  }
 },
 "nbformat": 4,
 "nbformat_minor": 0
}