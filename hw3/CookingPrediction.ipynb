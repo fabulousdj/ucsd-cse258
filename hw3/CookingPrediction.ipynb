{
 "cells": [
  {
   "cell_type": "markdown",
   "metadata": {
    "collapsed": true,
    "pycharm": {
     "name": "#%% md\n"
    }
   },
   "source": [
    "# CSE 258 - HW 3\n",
    "Jin Dai / A92408103"
   ]
  },
  {
   "cell_type": "markdown",
   "source": [
    "## Task (Cook/Make prediction)"
   ],
   "metadata": {
    "collapsed": false,
    "pycharm": {
     "name": "#%% md\n"
    }
   }
  },
  {
   "cell_type": "code",
   "execution_count": 1,
   "outputs": [],
   "source": [
    "import gzip\n",
    "import random\n",
    "from collections import defaultdict\n",
    "import csv"
   ],
   "metadata": {
    "collapsed": false,
    "pycharm": {
     "name": "#%%\n"
    }
   }
  },
  {
   "cell_type": "code",
   "execution_count": 2,
   "outputs": [],
   "source": [
    "def read_gz(path):\n",
    "    for l in gzip.open(path, 'rt'):\n",
    "        yield eval(l)\n",
    "\n",
    "def read_csv(path):\n",
    "    f = gzip.open(path, 'rt')\n",
    "    c = csv.reader(f)\n",
    "    header = next(c)\n",
    "    print(header)\n",
    "    for l in c:\n",
    "        yield l"
   ],
   "metadata": {
    "collapsed": false,
    "pycharm": {
     "name": "#%%\n"
    }
   }
  },
  {
   "cell_type": "code",
   "execution_count": 3,
   "outputs": [
    {
     "name": "stdout",
     "output_type": "stream",
     "text": [
      "['user_id', 'recipe_id', 'date', 'rating']\n"
     ]
    },
    {
     "data": {
      "text/plain": "[['88348277', '03969194', '2004-12-23', '5'],\n ['86699739', '27096427', '2002-01-12', '4']]"
     },
     "execution_count": 3,
     "metadata": {},
     "output_type": "execute_result"
    }
   ],
   "source": [
    "dataset = list(read_csv(\"trainInteractions.csv.gz\"))\n",
    "dataset[:2]"
   ],
   "metadata": {
    "collapsed": false,
    "pycharm": {
     "name": "#%%\n"
    }
   }
  },
  {
   "cell_type": "code",
   "execution_count": 4,
   "outputs": [],
   "source": [
    "# shuffle\n",
    "random.shuffle(dataset)"
   ],
   "metadata": {
    "collapsed": false,
    "pycharm": {
     "name": "#%%\n"
    }
   }
  },
  {
   "cell_type": "code",
   "execution_count": 5,
   "outputs": [
    {
     "name": "stdout",
     "output_type": "stream",
     "text": [
      "data_train size = 400000\tdata_valid size = 100000\n"
     ]
    }
   ],
   "source": [
    "train_size = 400000\n",
    "data_train = dataset[:train_size]\n",
    "data_valid = dataset[train_size:]\n",
    "print('data_train size = %d\\tdata_valid size = %d' % (len(data_train), len(data_valid)))\n",
    "X_train = [d[:2] for d in data_train]\n",
    "X_valid = [d[:2] for d in data_valid]"
   ],
   "metadata": {
    "collapsed": false,
    "pycharm": {
     "name": "#%%\n"
    }
   }
  },
  {
   "cell_type": "markdown",
   "source": [
    "### 1."
   ],
   "metadata": {
    "collapsed": false
   }
  },
  {
   "cell_type": "code",
   "source": [
    "# compute user-recipes dict and all recipes set\n",
    "user_recipes = defaultdict(set)\n",
    "all_recipes = set()\n",
    "for d in X_train:\n",
    "    usr = d[0]\n",
    "    r = d[1]\n",
    "    all_recipes.add(r)\n",
    "    user_recipes[usr].add(r)"
   ],
   "metadata": {
    "collapsed": false,
    "pycharm": {
     "name": "#%%\n"
    }
   },
   "execution_count": 6,
   "outputs": []
  },
  {
   "cell_type": "code",
   "source": [
    "# get a negative sample per each entry in the validation set\n",
    "def random_sample(from_list, exclusions):\n",
    "    s = random.choice(from_list)\n",
    "    while s in exclusions:\n",
    "        s = random.choice(from_list)\n",
    "    return s\n",
    "\n",
    "all_recipes_list = list(all_recipes)\n",
    "not_made_samples = []\n",
    "for d in X_valid:\n",
    "    usr = d[0]\n",
    "    r_cooked = d[1]\n",
    "    r_uncooked = random_sample(all_recipes_list, user_recipes[usr].union({r_cooked}))\n",
    "    not_made_samples.append([usr, r_uncooked])"
   ],
   "metadata": {
    "collapsed": false,
    "pycharm": {
     "name": "#%%\n"
    }
   },
   "execution_count": 7,
   "outputs": []
  },
  {
   "cell_type": "code",
   "execution_count": 8,
   "outputs": [],
   "source": [
    "# the baseline model\n",
    "recipe_count = defaultdict(int)\n",
    "total_cooked = 0\n",
    "\n",
    "for d in X_train:\n",
    "    r = d[1]\n",
    "    recipe_count[r] += 1\n",
    "    total_cooked += 1\n",
    "\n",
    "most_popular = [(recipe_count[x], x) for x in recipe_count]\n",
    "most_popular.sort()\n",
    "most_popular.reverse()\n",
    "\n",
    "def fit(most_popular, total_cooked, threshold=0.5):\n",
    "    popular_set = set()\n",
    "    count = 0\n",
    "    for ic, i in most_popular:\n",
    "      count += ic\n",
    "      popular_set.add(i)\n",
    "      if count > total_cooked * threshold: break\n",
    "    return popular_set\n",
    "\n",
    "return1 = fit(most_popular, total_cooked)"
   ],
   "metadata": {
    "collapsed": false,
    "pycharm": {
     "name": "#%%\n"
    }
   }
  },
  {
   "cell_type": "code",
   "execution_count": 9,
   "outputs": [],
   "source": [
    "def predict_accuracy_1(made, not_made, popular_set):\n",
    "    # count the true positives\n",
    "    TP_count = 0\n",
    "    for d in made:\n",
    "        r = d[1]\n",
    "        if r in popular_set:\n",
    "            TP_count += 1\n",
    "    # count the true negatives\n",
    "    TN_count = 0\n",
    "    for d in not_made:\n",
    "        r = d[1]\n",
    "        if r not in popular_set:\n",
    "            TN_count += 1\n",
    "    print('true positive = %d' % TP_count)\n",
    "    print('true negative = %d' % TN_count)\n",
    "    return (TP_count + TN_count) / (1.0 * (len(made) + len(not_made)))"
   ],
   "metadata": {
    "collapsed": false,
    "pycharm": {
     "name": "#%%\n"
    }
   }
  },
  {
   "cell_type": "code",
   "execution_count": 10,
   "outputs": [
    {
     "name": "stdout",
     "output_type": "stream",
     "text": [
      "true positive = 44358\n",
      "true negative = 88156\n",
      "given threshold=0.5, overall accuracy on the validation set + negative sample set is 0.66257\n"
     ]
    }
   ],
   "source": [
    "accuracy = predict_accuracy_1(X_valid, not_made_samples, return1)\n",
    "print('given threshold=0.5, overall accuracy on the validation set + negative sample set is %.5f' % accuracy)"
   ],
   "metadata": {
    "collapsed": false,
    "pycharm": {
     "name": "#%%\n"
    }
   }
  },
  {
   "cell_type": "markdown",
   "source": [
    "### 2."
   ],
   "metadata": {
    "collapsed": false,
    "pycharm": {
     "name": "#%% md\n"
    }
   }
  },
  {
   "cell_type": "markdown",
   "source": [
    "First we perform random sampling on all user-recipe pairs to get the \"non-made\" examples."
   ],
   "metadata": {
    "collapsed": false,
    "pycharm": {
     "name": "#%% md\n"
    }
   }
  },
  {
   "cell_type": "code",
   "execution_count": 11,
   "outputs": [],
   "source": [
    "recipe_users = defaultdict(set)\n",
    "all_users = set()\n",
    "for d in X_train:\n",
    "    usr = d[0]\n",
    "    r = d[1]\n",
    "    all_users.add(usr)\n",
    "    recipe_users[r].add(usr)"
   ],
   "metadata": {
    "collapsed": false,
    "pycharm": {
     "name": "#%%\n"
    }
   }
  },
  {
   "cell_type": "code",
   "execution_count": 12,
   "outputs": [],
   "source": [
    "def random_sample_2(all_users, all_recipes, exclusions):\n",
    "    usr = random.choice(all_users)\n",
    "    r = random.choice(all_recipes)\n",
    "    s = (usr, r)\n",
    "    while s in exclusions:\n",
    "        usr = random.choice(all_users)\n",
    "        r = random.choice(all_recipes)\n",
    "        s = (usr, r)\n",
    "    return s\n",
    "\n",
    "all_cooked_user_recipe_pair = set([(d[0], d[1]) for d in X_train + X_valid])\n",
    "all_users_list = list(all_users)\n",
    "\n",
    "not_made_samples = set()\n",
    "while len(not_made_samples) < len(X_valid):\n",
    "    not_made_samples.add(random_sample_2(all_users_list, all_recipes_list, all_cooked_user_recipe_pair))\n",
    "not_made_samples = list(not_made_samples)"
   ],
   "metadata": {
    "collapsed": false,
    "pycharm": {
     "name": "#%%\n"
    }
   }
  },
  {
   "cell_type": "markdown",
   "source": [
    "For this question, we can try calculating accuracies using a few different thresholds like 10th, 20th,...,80th, 90th percentiles.\n",
    "We also want to compare against the accuracy using all the training data."
   ],
   "metadata": {
    "collapsed": false,
    "pycharm": {
     "name": "#%% md\n"
    }
   }
  },
  {
   "cell_type": "code",
   "execution_count": 13,
   "outputs": [
    {
     "name": "stdout",
     "output_type": "stream",
     "text": [
      "true positive = 9556\n",
      "true negative = 99701\n",
      "given threshold=0.10, overall accuracy on the validation set + negative sample set is 0.54629\n",
      "true positive = 19256\n",
      "true negative = 98722\n",
      "given threshold=0.20, overall accuracy on the validation set + negative sample set is 0.58989\n",
      "true positive = 28145\n",
      "true negative = 96704\n",
      "given threshold=0.30, overall accuracy on the validation set + negative sample set is 0.62425\n",
      "true positive = 36550\n",
      "true negative = 93285\n",
      "given threshold=0.40, overall accuracy on the validation set + negative sample set is 0.64917\n",
      "true positive = 44358\n",
      "true negative = 88136\n",
      "given threshold=0.50, overall accuracy on the validation set + negative sample set is 0.66247\n",
      "true positive = 52090\n",
      "true negative = 80996\n",
      "given threshold=0.60, overall accuracy on the validation set + negative sample set is 0.66543\n",
      "true positive = 59634\n",
      "true negative = 70604\n",
      "given threshold=0.70, overall accuracy on the validation set + negative sample set is 0.65119\n",
      "true positive = 66955\n",
      "true negative = 55844\n",
      "given threshold=0.80, overall accuracy on the validation set + negative sample set is 0.61399\n",
      "true positive = 74519\n",
      "true negative = 29791\n",
      "given threshold=0.90, overall accuracy on the validation set + negative sample set is 0.52155\n",
      "true positive = 82225\n",
      "true negative = 0\n",
      "given threshold=1.00, overall accuracy on the validation set + negative sample set is 0.41113\n"
     ]
    }
   ],
   "source": [
    "max_accuracy = 0\n",
    "best_threshold = 0.5\n",
    "for t in [0.1, 0.2, 0.3, 0.4, 0.5, 0.6, 0.7, 0.8, 0.9, 1.0]:\n",
    "    return_n = fit(most_popular, total_cooked, t)\n",
    "    accuracy = predict_accuracy_1(X_valid, not_made_samples, return_n)\n",
    "    print('given threshold=%.2f, overall accuracy on the validation set + negative sample set is %.5f' % (t, accuracy))\n",
    "    if accuracy > max_accuracy:\n",
    "        max_accuracy = accuracy\n",
    "        best_threshold = t"
   ],
   "metadata": {
    "collapsed": false,
    "pycharm": {
     "name": "#%%\n"
    }
   }
  },
  {
   "cell_type": "code",
   "execution_count": 14,
   "outputs": [
    {
     "name": "stdout",
     "output_type": "stream",
     "text": [
      "When we set the threshold to the 60th percentile, the max accuracy is reached at 0.66543.\n"
     ]
    }
   ],
   "source": [
    "print(\"When we set the threshold to the %dth percentile, the max accuracy is reached at %.5f.\" % (best_threshold * 100, max_accuracy))"
   ],
   "metadata": {
    "collapsed": false,
    "pycharm": {
     "name": "#%%\n"
    }
   }
  },
  {
   "cell_type": "markdown",
   "source": [
    "### 3."
   ],
   "metadata": {
    "collapsed": false,
    "pycharm": {
     "name": "#%% md\n"
    }
   }
  },
  {
   "cell_type": "code",
   "execution_count": 15,
   "outputs": [],
   "source": [
    "def Jaccard(s1, s2):\n",
    "    numer = len(s1.intersection(s2))\n",
    "    denom = len(s1.union(s2))\n",
    "    if denom == 0:\n",
    "        return 0\n",
    "    return (1.0 * numer) / denom"
   ],
   "metadata": {
    "collapsed": false,
    "pycharm": {
     "name": "#%%\n"
    }
   }
  },
  {
   "cell_type": "code",
   "execution_count": 44,
   "outputs": [],
   "source": [
    "max_sim_dict = defaultdict(float)\n",
    "\n",
    "def get_max_sim(usr, r):\n",
    "    if (usr, r) in max_sim_dict:\n",
    "        return max_sim_dict[(usr, r)]\n",
    "    max_sim = 0.0\n",
    "    for r2 in user_recipes[usr]:\n",
    "        if r2 == r: continue\n",
    "        max_sim = max(max_sim, Jaccard(recipe_users[r], recipe_users[r2]))\n",
    "    max_sim_dict[(usr, r)] = max_sim\n",
    "    return max_sim\n",
    "\n",
    "def predict_accuracy_3(made, not_made, sim_threshold):\n",
    "    TP_count = 0\n",
    "    for d in made:\n",
    "        if get_max_sim(d[0], d[1]) > sim_threshold:\n",
    "            TP_count += 1\n",
    "    TN_count = 0\n",
    "    for d in not_made:\n",
    "        if get_max_sim(d[0], d[1]) <= sim_threshold:\n",
    "            TN_count += 1\n",
    "    print('true positive = %d' % TP_count)\n",
    "    print('true negative = %d' % TN_count)\n",
    "    print(len(max_sim_dict))\n",
    "    return (TP_count + TN_count) / (1.0 * (len(made) + len(not_made)))"
   ],
   "metadata": {
    "collapsed": false,
    "pycharm": {
     "name": "#%%\n"
    }
   }
  },
  {
   "cell_type": "code",
   "execution_count": 52,
   "outputs": [
    {
     "name": "stdout",
     "output_type": "stream",
     "text": [
      "true positive = 22\n",
      "true negative = 100000\n",
      "200000\n",
      "given threshold=0.5, overall accuracy on the validation set + negative sample set is 0.50011\n"
     ]
    }
   ],
   "source": [
    "accuracy = predict_accuracy_3(X_valid, not_made_samples, 0.5)\n",
    "print('given threshold=0.5, overall accuracy on the validation set + negative sample set is %.5f' % accuracy)"
   ],
   "metadata": {
    "collapsed": false,
    "pycharm": {
     "name": "#%%\n"
    }
   }
  },
  {
   "cell_type": "code",
   "execution_count": 65,
   "outputs": [
    {
     "data": {
      "text/plain": "0.0"
     },
     "execution_count": 65,
     "metadata": {},
     "output_type": "execute_result"
    }
   ],
   "source": [
    "import statistics\n",
    "# get the median of all Jaccard similarities in max_sim_dict\n",
    "max_sims = [v for _, v in max_sim_dict.items()]\n",
    "max_sims.sort()\n",
    "statistics.median(max_sims)"
   ],
   "metadata": {
    "collapsed": false,
    "pycharm": {
     "name": "#%%\n"
    }
   }
  },
  {
   "cell_type": "code",
   "execution_count": 66,
   "outputs": [
    {
     "data": {
      "text/plain": "200000"
     },
     "execution_count": 66,
     "metadata": {},
     "output_type": "execute_result"
    }
   ],
   "source": [
    "len(max_sims)"
   ],
   "metadata": {
    "collapsed": false,
    "pycharm": {
     "name": "#%%\n"
    }
   }
  },
  {
   "cell_type": "code",
   "execution_count": 68,
   "outputs": [
    {
     "name": "stdout",
     "output_type": "stream",
     "text": [
      "true positive = 64885\n",
      "true negative = 78243\n",
      "200000\n",
      "given threshold=0.000, overall accuracy on the validation set + negative sample set is 0.71564\n",
      "true positive = 64885\n",
      "true negative = 78243\n",
      "200000\n",
      "given threshold=0.001, overall accuracy on the validation set + negative sample set is 0.71564\n",
      "true positive = 63653\n",
      "true negative = 80820\n",
      "200000\n",
      "given threshold=0.005, overall accuracy on the validation set + negative sample set is 0.72237\n",
      "true positive = 61524\n",
      "true negative = 83429\n",
      "200000\n",
      "given threshold=0.010, overall accuracy on the validation set + negative sample set is 0.72476\n",
      "true positive = 55932\n",
      "true negative = 87203\n",
      "200000\n",
      "given threshold=0.020, overall accuracy on the validation set + negative sample set is 0.71567\n",
      "true positive = 48531\n",
      "true negative = 89424\n",
      "200000\n",
      "given threshold=0.030, overall accuracy on the validation set + negative sample set is 0.68978\n",
      "true positive = 40860\n",
      "true negative = 91170\n",
      "200000\n",
      "given threshold=0.040, overall accuracy on the validation set + negative sample set is 0.66015\n",
      "true positive = 35537\n",
      "true negative = 92389\n",
      "200000\n",
      "given threshold=0.050, overall accuracy on the validation set + negative sample set is 0.63963\n",
      "true positive = 28619\n",
      "true negative = 94367\n",
      "200000\n",
      "given threshold=0.075, overall accuracy on the validation set + negative sample set is 0.61493\n",
      "true positive = 23078\n",
      "true negative = 96058\n",
      "200000\n",
      "given threshold=0.100, overall accuracy on the validation set + negative sample set is 0.59568\n",
      "true positive = 16454\n",
      "true negative = 97579\n",
      "200000\n",
      "given threshold=0.150, overall accuracy on the validation set + negative sample set is 0.57017\n",
      "true positive = 9788\n",
      "true negative = 98725\n",
      "200000\n",
      "given threshold=0.200, overall accuracy on the validation set + negative sample set is 0.54256\n"
     ]
    }
   ],
   "source": [
    "for t in [0, 0.001, 0.005, 0.01, 0.02, 0.03, 0.04, 0.05, 0.075, 0.1, 0.15, 0.2]:\n",
    "    accuracy = predict_accuracy_3(X_valid, not_made_samples, t)\n",
    "    print('given threshold=%.3f, overall accuracy on the validation set + negative sample set is %.5f' % (t, accuracy))\n",
    "    if accuracy > max_accuracy:\n",
    "        max_accuracy = accuracy\n",
    "        best_threshold = t"
   ],
   "metadata": {
    "collapsed": false,
    "pycharm": {
     "name": "#%%\n"
    }
   }
  },
  {
   "cell_type": "code",
   "execution_count": 69,
   "outputs": [
    {
     "name": "stdout",
     "output_type": "stream",
     "text": [
      "When we set the similarity threshold to the 1th percentile, the max accuracy is reached at 0.72476.\n"
     ]
    }
   ],
   "source": [
    "print(\"When we set the similarity threshold to the %dth percentile, the max accuracy is reached at %.5f.\" % (best_threshold * 100, max_accuracy))"
   ],
   "metadata": {
    "collapsed": false,
    "pycharm": {
     "name": "#%%\n"
    }
   }
  },
  {
   "cell_type": "markdown",
   "source": [
    "### 4"
   ],
   "metadata": {
    "collapsed": false,
    "pycharm": {
     "name": "#%% md\n"
    }
   }
  },
  {
   "cell_type": "code",
   "execution_count": 83,
   "outputs": [],
   "source": [
    "# define the predict function\n",
    "def single_predict(user, recipe, popular_set, sim_threshold):\n",
    "    if recipe in popular_set or get_max_sim(user, recipe) > sim_threshold:\n",
    "        return 1\n",
    "    return 0\n",
    "\n",
    "def predict(X, popular_set, sim_threshold):\n",
    "    return [single_predict(d[0], d[1], popular_set, sim_threshold) for d in X]"
   ],
   "metadata": {
    "collapsed": false,
    "pycharm": {
     "name": "#%%\n"
    }
   }
  },
  {
   "cell_type": "code",
   "execution_count": 84,
   "outputs": [],
   "source": [
    "def predict_accuracy_4(made, not_made, popular_set, sim_threshold=0.01):\n",
    "    pred_made = predict(made, popular_set, sim_threshold)\n",
    "    TP_count = pred_made.count(1)\n",
    "    pred_not_made = predict(not_made, popular_set, sim_threshold)\n",
    "    TN_count = pred_not_made.count(0)\n",
    "    print('true positive = %d' % TP_count)\n",
    "    print('true negative = %d' % TN_count)\n",
    "    return (TP_count + TN_count) / (1.0 * (len(made) + len(not_made)))"
   ],
   "metadata": {
    "collapsed": false,
    "pycharm": {
     "name": "#%%\n"
    }
   }
  },
  {
   "cell_type": "code",
   "execution_count": 93,
   "outputs": [
    {
     "name": "stdout",
     "output_type": "stream",
     "text": [
      "true positive = 61972\n",
      "true negative = 83363\n",
      "Using popularity threshold=0.100 and similarity threshold=0.010, we can achieve overall accuracy=0.72667 on the validation set + negative sample set.\n",
      "true positive = 55482\n",
      "true negative = 88321\n",
      "Using popularity threshold=0.100 and similarity threshold=0.025, we can achieve overall accuracy=0.71901 on the validation set + negative sample set.\n",
      "true positive = 44464\n",
      "true negative = 92093\n",
      "Using popularity threshold=0.100 and similarity threshold=0.050, we can achieve overall accuracy=0.68278 on the validation set + negative sample set.\n",
      "true positive = 38139\n",
      "true negative = 94068\n",
      "Using popularity threshold=0.100 and similarity threshold=0.075, we can achieve overall accuracy=0.66104 on the validation set + negative sample set.\n",
      "true positive = 32614\n",
      "true negative = 95759\n",
      "Using popularity threshold=0.100 and similarity threshold=0.100, we can achieve overall accuracy=0.64187 on the validation set + negative sample set.\n",
      "true positive = 15397\n",
      "true negative = 98953\n",
      "Using popularity threshold=0.100 and similarity threshold=0.250, we can achieve overall accuracy=0.57175 on the validation set + negative sample set.\n",
      "true positive = 9578\n",
      "true negative = 99701\n",
      "Using popularity threshold=0.100 and similarity threshold=0.500, we can achieve overall accuracy=0.54639 on the validation set + negative sample set.\n",
      "true positive = 9556\n",
      "true negative = 99701\n",
      "Using popularity threshold=0.100 and similarity threshold=0.750, we can achieve overall accuracy=0.54629 on the validation set + negative sample set.\n",
      "true positive = 62756\n",
      "true negative = 83019\n",
      "Using popularity threshold=0.200 and similarity threshold=0.010, we can achieve overall accuracy=0.72888 on the validation set + negative sample set.\n",
      "true positive = 58586\n",
      "true negative = 87633\n",
      "Using popularity threshold=0.200 and similarity threshold=0.025, we can achieve overall accuracy=0.73110 on the validation set + negative sample set.\n",
      "true positive = 52542\n",
      "true negative = 91153\n",
      "Using popularity threshold=0.200 and similarity threshold=0.050, we can achieve overall accuracy=0.71847 on the validation set + negative sample set.\n",
      "true positive = 47413\n",
      "true negative = 93097\n",
      "Using popularity threshold=0.200 and similarity threshold=0.075, we can achieve overall accuracy=0.70255 on the validation set + negative sample set.\n",
      "true positive = 42145\n",
      "true negative = 94780\n",
      "Using popularity threshold=0.200 and similarity threshold=0.100, we can achieve overall accuracy=0.68463 on the validation set + negative sample set.\n",
      "true positive = 25097\n",
      "true negative = 97974\n",
      "Using popularity threshold=0.200 and similarity threshold=0.250, we can achieve overall accuracy=0.61535 on the validation set + negative sample set.\n",
      "true positive = 19278\n",
      "true negative = 98722\n",
      "Using popularity threshold=0.200 and similarity threshold=0.500, we can achieve overall accuracy=0.59000 on the validation set + negative sample set.\n",
      "true positive = 19256\n",
      "true negative = 98722\n",
      "Using popularity threshold=0.200 and similarity threshold=0.750, we can achieve overall accuracy=0.58989 on the validation set + negative sample set.\n",
      "true positive = 64035\n",
      "true negative = 82034\n",
      "Using popularity threshold=0.300 and similarity threshold=0.010, we can achieve overall accuracy=0.73035 on the validation set + negative sample set.\n",
      "true positive = 60912\n",
      "true negative = 86294\n",
      "Using popularity threshold=0.300 and similarity threshold=0.025, we can achieve overall accuracy=0.73603 on the validation set + negative sample set.\n",
      "true positive = 57313\n",
      "true negative = 89392\n",
      "Using popularity threshold=0.300 and similarity threshold=0.050, we can achieve overall accuracy=0.73352 on the validation set + negative sample set.\n",
      "true positive = 54415\n",
      "true negative = 91121\n",
      "Using popularity threshold=0.300 and similarity threshold=0.075, we can achieve overall accuracy=0.72768 on the validation set + negative sample set.\n",
      "true positive = 50052\n",
      "true negative = 92769\n",
      "Using popularity threshold=0.300 and similarity threshold=0.100, we can achieve overall accuracy=0.71410 on the validation set + negative sample set.\n",
      "true positive = 33916\n",
      "true negative = 95956\n",
      "Using popularity threshold=0.300 and similarity threshold=0.250, we can achieve overall accuracy=0.64936 on the validation set + negative sample set.\n",
      "true positive = 28167\n",
      "true negative = 96704\n",
      "Using popularity threshold=0.300 and similarity threshold=0.500, we can achieve overall accuracy=0.62435 on the validation set + negative sample set.\n",
      "true positive = 28145\n",
      "true negative = 96704\n",
      "Using popularity threshold=0.300 and similarity threshold=0.750, we can achieve overall accuracy=0.62425 on the validation set + negative sample set.\n",
      "true positive = 65605\n",
      "true negative = 79973\n",
      "Using popularity threshold=0.400 and similarity threshold=0.010, we can achieve overall accuracy=0.72789 on the validation set + negative sample set.\n",
      "true positive = 63224\n",
      "true negative = 83833\n",
      "Using popularity threshold=0.400 and similarity threshold=0.025, we can achieve overall accuracy=0.73528 on the validation set + negative sample set.\n",
      "true positive = 60703\n",
      "true negative = 86536\n",
      "Using popularity threshold=0.400 and similarity threshold=0.050, we can achieve overall accuracy=0.73620 on the validation set + negative sample set.\n",
      "true positive = 58889\n",
      "true negative = 88019\n",
      "Using popularity threshold=0.400 and similarity threshold=0.075, we can achieve overall accuracy=0.73454 on the validation set + negative sample set.\n",
      "true positive = 56414\n",
      "true negative = 89422\n",
      "Using popularity threshold=0.400 and similarity threshold=0.100, we can achieve overall accuracy=0.72918 on the validation set + negative sample set.\n",
      "true positive = 42238\n",
      "true negative = 92538\n",
      "Using popularity threshold=0.400 and similarity threshold=0.250, we can achieve overall accuracy=0.67388 on the validation set + negative sample set.\n",
      "true positive = 36572\n",
      "true negative = 93285\n",
      "Using popularity threshold=0.400 and similarity threshold=0.500, we can achieve overall accuracy=0.64929 on the validation set + negative sample set.\n",
      "true positive = 36550\n",
      "true negative = 93285\n",
      "Using popularity threshold=0.400 and similarity threshold=0.750, we can achieve overall accuracy=0.64917 on the validation set + negative sample set.\n",
      "true positive = 67343\n",
      "true negative = 76525\n",
      "Using popularity threshold=0.500 and similarity threshold=0.010, we can achieve overall accuracy=0.71934 on the validation set + negative sample set.\n",
      "true positive = 65503\n",
      "true negative = 79869\n",
      "Using popularity threshold=0.500 and similarity threshold=0.025, we can achieve overall accuracy=0.72686 on the validation set + negative sample set.\n",
      "true positive = 63623\n",
      "true negative = 82167\n",
      "Using popularity threshold=0.500 and similarity threshold=0.050, we can achieve overall accuracy=0.72895 on the validation set + negative sample set.\n",
      "true positive = 62344\n",
      "true negative = 83410\n",
      "Using popularity threshold=0.500 and similarity threshold=0.075, we can achieve overall accuracy=0.72877 on the validation set + negative sample set.\n",
      "true positive = 60711\n",
      "true negative = 84556\n",
      "Using popularity threshold=0.500 and similarity threshold=0.100, we can achieve overall accuracy=0.72633 on the validation set + negative sample set.\n",
      "true positive = 49812\n",
      "true negative = 87392\n",
      "Using popularity threshold=0.500 and similarity threshold=0.250, we can achieve overall accuracy=0.68602 on the validation set + negative sample set.\n",
      "true positive = 44380\n",
      "true negative = 88136\n",
      "Using popularity threshold=0.500 and similarity threshold=0.500, we can achieve overall accuracy=0.66258 on the validation set + negative sample set.\n",
      "true positive = 44358\n",
      "true negative = 88136\n",
      "Using popularity threshold=0.500 and similarity threshold=0.750, we can achieve overall accuracy=0.66247 on the validation set + negative sample set.\n",
      "true positive = 69319\n",
      "true negative = 71257\n",
      "Using popularity threshold=0.600 and similarity threshold=0.010, we can achieve overall accuracy=0.70288 on the validation set + negative sample set.\n",
      "true positive = 67930\n",
      "true negative = 74033\n",
      "Using popularity threshold=0.600 and similarity threshold=0.025, we can achieve overall accuracy=0.70981 on the validation set + negative sample set.\n",
      "true positive = 66587\n",
      "true negative = 75915\n",
      "Using popularity threshold=0.600 and similarity threshold=0.050, we can achieve overall accuracy=0.71251 on the validation set + negative sample set.\n",
      "true positive = 65668\n",
      "true negative = 76944\n",
      "Using popularity threshold=0.600 and similarity threshold=0.075, we can achieve overall accuracy=0.71306 on the validation set + negative sample set.\n",
      "true positive = 64567\n",
      "true negative = 77867\n",
      "Using popularity threshold=0.600 and similarity threshold=0.100, we can achieve overall accuracy=0.71217 on the validation set + negative sample set.\n",
      "true positive = 57178\n",
      "true negative = 80257\n",
      "Using popularity threshold=0.600 and similarity threshold=0.250, we can achieve overall accuracy=0.68717 on the validation set + negative sample set.\n",
      "true positive = 52111\n",
      "true negative = 80996\n",
      "Using popularity threshold=0.600 and similarity threshold=0.500, we can achieve overall accuracy=0.66553 on the validation set + negative sample set.\n",
      "true positive = 52090\n",
      "true negative = 80996\n",
      "Using popularity threshold=0.600 and similarity threshold=0.750, we can achieve overall accuracy=0.66543 on the validation set + negative sample set.\n",
      "true positive = 71645\n",
      "true negative = 63019\n",
      "Using popularity threshold=0.700 and similarity threshold=0.010, we can achieve overall accuracy=0.67332 on the validation set + negative sample set.\n",
      "true positive = 70660\n",
      "true negative = 65160\n",
      "Using popularity threshold=0.700 and similarity threshold=0.025, we can achieve overall accuracy=0.67910 on the validation set + negative sample set.\n",
      "true positive = 69750\n",
      "true negative = 66577\n",
      "Using popularity threshold=0.700 and similarity threshold=0.050, we can achieve overall accuracy=0.68163 on the validation set + negative sample set.\n",
      "true positive = 69125\n",
      "true negative = 67371\n",
      "Using popularity threshold=0.700 and similarity threshold=0.075, we can achieve overall accuracy=0.68248 on the validation set + negative sample set.\n",
      "true positive = 68403\n",
      "true negative = 68076\n",
      "Using popularity threshold=0.700 and similarity threshold=0.100, we can achieve overall accuracy=0.68239 on the validation set + negative sample set.\n",
      "true positive = 64262\n",
      "true negative = 69881\n",
      "Using popularity threshold=0.700 and similarity threshold=0.250, we can achieve overall accuracy=0.67071 on the validation set + negative sample set.\n",
      "true positive = 59655\n",
      "true negative = 70604\n",
      "Using popularity threshold=0.700 and similarity threshold=0.500, we can achieve overall accuracy=0.65129 on the validation set + negative sample set.\n",
      "true positive = 59634\n",
      "true negative = 70604\n",
      "Using popularity threshold=0.700 and similarity threshold=0.750, we can achieve overall accuracy=0.65119 on the validation set + negative sample set.\n",
      "true positive = 74418\n",
      "true negative = 50555\n",
      "Using popularity threshold=0.800 and similarity threshold=0.010, we can achieve overall accuracy=0.62487 on the validation set + negative sample set.\n",
      "true positive = 73785\n",
      "true negative = 52033\n",
      "Using popularity threshold=0.800 and similarity threshold=0.025, we can achieve overall accuracy=0.62909 on the validation set + negative sample set.\n",
      "true positive = 73247\n",
      "true negative = 53033\n",
      "Using popularity threshold=0.800 and similarity threshold=0.050, we can achieve overall accuracy=0.63140 on the validation set + negative sample set.\n",
      "true positive = 72866\n",
      "true negative = 53574\n",
      "Using popularity threshold=0.800 and similarity threshold=0.075, we can achieve overall accuracy=0.63220 on the validation set + negative sample set.\n",
      "true positive = 72427\n",
      "true negative = 54040\n",
      "Using popularity threshold=0.800 and similarity threshold=0.100, we can achieve overall accuracy=0.63233 on the validation set + negative sample set.\n",
      "true positive = 70110\n",
      "true negative = 55235\n",
      "Using popularity threshold=0.800 and similarity threshold=0.250, we can achieve overall accuracy=0.62672 on the validation set + negative sample set.\n",
      "true positive = 66957\n",
      "true negative = 55844\n",
      "Using popularity threshold=0.800 and similarity threshold=0.500, we can achieve overall accuracy=0.61401 on the validation set + negative sample set.\n",
      "true positive = 66955\n",
      "true negative = 55844\n",
      "Using popularity threshold=0.800 and similarity threshold=0.750, we can achieve overall accuracy=0.61399 on the validation set + negative sample set.\n",
      "true positive = 78084\n",
      "true negative = 27078\n",
      "Using popularity threshold=0.900 and similarity threshold=0.010, we can achieve overall accuracy=0.52581 on the validation set + negative sample set.\n",
      "true positive = 77779\n",
      "true negative = 27833\n",
      "Using popularity threshold=0.900 and similarity threshold=0.025, we can achieve overall accuracy=0.52806 on the validation set + negative sample set.\n",
      "true positive = 77513\n",
      "true negative = 28336\n",
      "Using popularity threshold=0.900 and similarity threshold=0.050, we can achieve overall accuracy=0.52924 on the validation set + negative sample set.\n",
      "true positive = 77340\n",
      "true negative = 28626\n",
      "Using popularity threshold=0.900 and similarity threshold=0.075, we can achieve overall accuracy=0.52983 on the validation set + negative sample set.\n",
      "true positive = 77128\n",
      "true negative = 28857\n",
      "Using popularity threshold=0.900 and similarity threshold=0.100, we can achieve overall accuracy=0.52992 on the validation set + negative sample set.\n",
      "true positive = 76069\n",
      "true negative = 29461\n",
      "Using popularity threshold=0.900 and similarity threshold=0.250, we can achieve overall accuracy=0.52765 on the validation set + negative sample set.\n",
      "true positive = 74519\n",
      "true negative = 29791\n",
      "Using popularity threshold=0.900 and similarity threshold=0.500, we can achieve overall accuracy=0.52155 on the validation set + negative sample set.\n",
      "true positive = 74519\n",
      "true negative = 29791\n",
      "Using popularity threshold=0.900 and similarity threshold=0.750, we can achieve overall accuracy=0.52155 on the validation set + negative sample set.\n"
     ]
    }
   ],
   "source": [
    "max_accuracy = 0\n",
    "best_t1 = 0.6\n",
    "best_t2 = 0.01\n",
    "for t1 in [0.1, 0.2, 0.3, 0.4, 0.5, 0.6, 0.7, 0.8, 0.9]:\n",
    "    pop_set_perc_t1 = fit(most_popular, total_cooked, t1)\n",
    "    for t2 in [0.01, 0.025, 0.05, 0.075, 0.1, 0.25, 0.5, 0.75]:\n",
    "        accuracy = predict_accuracy_4(X_valid, not_made_samples, pop_set_perc_t1, t2)\n",
    "        print('Using popularity threshold=%.3f and similarity threshold=%.3f, we can achieve overall accuracy=%.5f on the validation set + negative sample set.' % (t1, t2, accuracy))\n",
    "        if accuracy > max_accuracy:\n",
    "            max_accuracy = accuracy\n",
    "            best_t1 = t1\n",
    "            best_t2 = t2"
   ],
   "metadata": {
    "collapsed": false,
    "pycharm": {
     "name": "#%%\n"
    }
   }
  },
  {
   "cell_type": "code",
   "execution_count": 94,
   "outputs": [
    {
     "name": "stdout",
     "output_type": "stream",
     "text": [
      "When we set the popularity threshold to the 40.00th percentile and similarity threshold to the 5.00th percentile,\n",
      "the max accuracy is reached at 0.73620.\n"
     ]
    }
   ],
   "source": [
    "print(\"When we set the popularity threshold to the %.2fth percentile and similarity threshold to the %.2fth percentile,\\nthe max accuracy is reached at %.5f.\" % (best_t1 * 100, best_t2 * 100, max_accuracy))"
   ],
   "metadata": {
    "collapsed": false,
    "pycharm": {
     "name": "#%%\n"
    }
   }
  },
  {
   "cell_type": "code",
   "execution_count": 100,
   "outputs": [
    {
     "name": "stdout",
     "output_type": "stream",
     "text": [
      "true positive = 60205\n",
      "true negative = 86991\n",
      "Using popularity threshold=0.300 and similarity threshold=0.030, we can achieve overall accuracy=0.73598 on the validation set + negative sample set.\n",
      "true positive = 59443\n",
      "true negative = 87752\n",
      "Using popularity threshold=0.300 and similarity threshold=0.035, we can achieve overall accuracy=0.73598 on the validation set + negative sample set.\n",
      "true positive = 59266\n",
      "true negative = 87927\n",
      "Using popularity threshold=0.300 and similarity threshold=0.036, we can achieve overall accuracy=0.73596 on the validation set + negative sample set.\n",
      "true positive = 59257\n",
      "true negative = 87932\n",
      "Using popularity threshold=0.300 and similarity threshold=0.037, we can achieve overall accuracy=0.73594 on the validation set + negative sample set.\n",
      "true positive = 59069\n",
      "true negative = 88099\n",
      "Using popularity threshold=0.300 and similarity threshold=0.038, we can achieve overall accuracy=0.73584 on the validation set + negative sample set.\n",
      "true positive = 58866\n",
      "true negative = 88239\n",
      "Using popularity threshold=0.300 and similarity threshold=0.039, we can achieve overall accuracy=0.73552 on the validation set + negative sample set.\n",
      "true positive = 58657\n",
      "true negative = 88394\n",
      "Using popularity threshold=0.300 and similarity threshold=0.040, we can achieve overall accuracy=0.73525 on the validation set + negative sample set.\n",
      "true positive = 58656\n",
      "true negative = 88399\n",
      "Using popularity threshold=0.300 and similarity threshold=0.041, we can achieve overall accuracy=0.73528 on the validation set + negative sample set.\n",
      "true positive = 58437\n",
      "true negative = 88585\n",
      "Using popularity threshold=0.300 and similarity threshold=0.042, we can achieve overall accuracy=0.73511 on the validation set + negative sample set.\n",
      "true positive = 58431\n",
      "true negative = 88587\n",
      "Using popularity threshold=0.300 and similarity threshold=0.043, we can achieve overall accuracy=0.73509 on the validation set + negative sample set.\n",
      "true positive = 58191\n",
      "true negative = 88780\n",
      "Using popularity threshold=0.300 and similarity threshold=0.044, we can achieve overall accuracy=0.73486 on the validation set + negative sample set.\n",
      "true positive = 58186\n",
      "true negative = 88789\n",
      "Using popularity threshold=0.300 and similarity threshold=0.045, we can achieve overall accuracy=0.73487 on the validation set + negative sample set.\n",
      "true positive = 60472\n",
      "true negative = 86776\n",
      "Using popularity threshold=0.310 and similarity threshold=0.030, we can achieve overall accuracy=0.73624 on the validation set + negative sample set.\n",
      "true positive = 59730\n",
      "true negative = 87525\n",
      "Using popularity threshold=0.310 and similarity threshold=0.035, we can achieve overall accuracy=0.73628 on the validation set + negative sample set.\n",
      "true positive = 59560\n",
      "true negative = 87697\n",
      "Using popularity threshold=0.310 and similarity threshold=0.036, we can achieve overall accuracy=0.73628 on the validation set + negative sample set.\n",
      "true positive = 59552\n",
      "true negative = 87701\n",
      "Using popularity threshold=0.310 and similarity threshold=0.037, we can achieve overall accuracy=0.73626 on the validation set + negative sample set.\n",
      "true positive = 59371\n",
      "true negative = 87865\n",
      "Using popularity threshold=0.310 and similarity threshold=0.038, we can achieve overall accuracy=0.73618 on the validation set + negative sample set.\n",
      "true positive = 59181\n",
      "true negative = 88003\n",
      "Using popularity threshold=0.310 and similarity threshold=0.039, we can achieve overall accuracy=0.73592 on the validation set + negative sample set.\n",
      "true positive = 58984\n",
      "true negative = 88155\n",
      "Using popularity threshold=0.310 and similarity threshold=0.040, we can achieve overall accuracy=0.73569 on the validation set + negative sample set.\n",
      "true positive = 58983\n",
      "true negative = 88160\n",
      "Using popularity threshold=0.310 and similarity threshold=0.041, we can achieve overall accuracy=0.73572 on the validation set + negative sample set.\n",
      "true positive = 58772\n",
      "true negative = 88343\n",
      "Using popularity threshold=0.310 and similarity threshold=0.042, we can achieve overall accuracy=0.73557 on the validation set + negative sample set.\n",
      "true positive = 58766\n",
      "true negative = 88345\n",
      "Using popularity threshold=0.310 and similarity threshold=0.043, we can achieve overall accuracy=0.73555 on the validation set + negative sample set.\n",
      "true positive = 58535\n",
      "true negative = 88534\n",
      "Using popularity threshold=0.310 and similarity threshold=0.044, we can achieve overall accuracy=0.73535 on the validation set + negative sample set.\n",
      "true positive = 58530\n",
      "true negative = 88543\n",
      "Using popularity threshold=0.310 and similarity threshold=0.045, we can achieve overall accuracy=0.73537 on the validation set + negative sample set.\n",
      "true positive = 60730\n",
      "true negative = 86575\n",
      "Using popularity threshold=0.320 and similarity threshold=0.030, we can achieve overall accuracy=0.73652 on the validation set + negative sample set.\n",
      "true positive = 60014\n",
      "true negative = 87314\n",
      "Using popularity threshold=0.320 and similarity threshold=0.035, we can achieve overall accuracy=0.73664 on the validation set + negative sample set.\n",
      "true positive = 59848\n",
      "true negative = 87484\n",
      "Using popularity threshold=0.320 and similarity threshold=0.036, we can achieve overall accuracy=0.73666 on the validation set + negative sample set.\n",
      "true positive = 59840\n",
      "true negative = 87488\n",
      "Using popularity threshold=0.320 and similarity threshold=0.037, we can achieve overall accuracy=0.73664 on the validation set + negative sample set.\n",
      "true positive = 59668\n",
      "true negative = 87649\n",
      "Using popularity threshold=0.320 and similarity threshold=0.038, we can achieve overall accuracy=0.73659 on the validation set + negative sample set.\n",
      "true positive = 59489\n",
      "true negative = 87785\n",
      "Using popularity threshold=0.320 and similarity threshold=0.039, we can achieve overall accuracy=0.73637 on the validation set + negative sample set.\n",
      "true positive = 59299\n",
      "true negative = 87935\n",
      "Using popularity threshold=0.320 and similarity threshold=0.040, we can achieve overall accuracy=0.73617 on the validation set + negative sample set.\n",
      "true positive = 59298\n",
      "true negative = 87940\n",
      "Using popularity threshold=0.320 and similarity threshold=0.041, we can achieve overall accuracy=0.73619 on the validation set + negative sample set.\n",
      "true positive = 59096\n",
      "true negative = 88120\n",
      "Using popularity threshold=0.320 and similarity threshold=0.042, we can achieve overall accuracy=0.73608 on the validation set + negative sample set.\n",
      "true positive = 59090\n",
      "true negative = 88122\n",
      "Using popularity threshold=0.320 and similarity threshold=0.043, we can achieve overall accuracy=0.73606 on the validation set + negative sample set.\n",
      "true positive = 58869\n",
      "true negative = 88308\n",
      "Using popularity threshold=0.320 and similarity threshold=0.044, we can achieve overall accuracy=0.73589 on the validation set + negative sample set.\n",
      "true positive = 58864\n",
      "true negative = 88317\n",
      "Using popularity threshold=0.320 and similarity threshold=0.045, we can achieve overall accuracy=0.73591 on the validation set + negative sample set.\n",
      "true positive = 60974\n",
      "true negative = 86327\n",
      "Using popularity threshold=0.330 and similarity threshold=0.030, we can achieve overall accuracy=0.73650 on the validation set + negative sample set.\n",
      "true positive = 60282\n",
      "true negative = 87061\n",
      "Using popularity threshold=0.330 and similarity threshold=0.035, we can achieve overall accuracy=0.73672 on the validation set + negative sample set.\n",
      "true positive = 60120\n",
      "true negative = 87229\n",
      "Using popularity threshold=0.330 and similarity threshold=0.036, we can achieve overall accuracy=0.73674 on the validation set + negative sample set.\n",
      "true positive = 60113\n",
      "true negative = 87233\n",
      "Using popularity threshold=0.330 and similarity threshold=0.037, we can achieve overall accuracy=0.73673 on the validation set + negative sample set.\n",
      "true positive = 59948\n",
      "true negative = 87392\n",
      "Using popularity threshold=0.330 and similarity threshold=0.038, we can achieve overall accuracy=0.73670 on the validation set + negative sample set.\n",
      "true positive = 59778\n",
      "true negative = 87527\n",
      "Using popularity threshold=0.330 and similarity threshold=0.039, we can achieve overall accuracy=0.73652 on the validation set + negative sample set.\n",
      "true positive = 59594\n",
      "true negative = 87675\n",
      "Using popularity threshold=0.330 and similarity threshold=0.040, we can achieve overall accuracy=0.73635 on the validation set + negative sample set.\n",
      "true positive = 59593\n",
      "true negative = 87679\n",
      "Using popularity threshold=0.330 and similarity threshold=0.041, we can achieve overall accuracy=0.73636 on the validation set + negative sample set.\n",
      "true positive = 59397\n",
      "true negative = 87856\n",
      "Using popularity threshold=0.330 and similarity threshold=0.042, we can achieve overall accuracy=0.73626 on the validation set + negative sample set.\n",
      "true positive = 59391\n",
      "true negative = 87858\n",
      "Using popularity threshold=0.330 and similarity threshold=0.043, we can achieve overall accuracy=0.73625 on the validation set + negative sample set.\n",
      "true positive = 59178\n",
      "true negative = 88044\n",
      "Using popularity threshold=0.330 and similarity threshold=0.044, we can achieve overall accuracy=0.73611 on the validation set + negative sample set.\n",
      "true positive = 59173\n",
      "true negative = 88052\n",
      "Using popularity threshold=0.330 and similarity threshold=0.045, we can achieve overall accuracy=0.73613 on the validation set + negative sample set.\n",
      "true positive = 61240\n",
      "true negative = 86075\n",
      "Using popularity threshold=0.340 and similarity threshold=0.030, we can achieve overall accuracy=0.73657 on the validation set + negative sample set.\n",
      "true positive = 60580\n",
      "true negative = 86796\n",
      "Using popularity threshold=0.340 and similarity threshold=0.035, we can achieve overall accuracy=0.73688 on the validation set + negative sample set.\n",
      "true positive = 60428\n",
      "true negative = 86958\n",
      "Using popularity threshold=0.340 and similarity threshold=0.036, we can achieve overall accuracy=0.73693 on the validation set + negative sample set.\n",
      "true positive = 60423\n",
      "true negative = 86961\n",
      "Using popularity threshold=0.340 and similarity threshold=0.037, we can achieve overall accuracy=0.73692 on the validation set + negative sample set.\n",
      "true positive = 60265\n",
      "true negative = 87119\n",
      "Using popularity threshold=0.340 and similarity threshold=0.038, we can achieve overall accuracy=0.73692 on the validation set + negative sample set.\n",
      "true positive = 60102\n",
      "true negative = 87251\n",
      "Using popularity threshold=0.340 and similarity threshold=0.039, we can achieve overall accuracy=0.73677 on the validation set + negative sample set.\n",
      "true positive = 59921\n",
      "true negative = 87395\n",
      "Using popularity threshold=0.340 and similarity threshold=0.040, we can achieve overall accuracy=0.73658 on the validation set + negative sample set.\n",
      "true positive = 59920\n",
      "true negative = 87398\n",
      "Using popularity threshold=0.340 and similarity threshold=0.041, we can achieve overall accuracy=0.73659 on the validation set + negative sample set.\n",
      "true positive = 59729\n",
      "true negative = 87569\n",
      "Using popularity threshold=0.340 and similarity threshold=0.042, we can achieve overall accuracy=0.73649 on the validation set + negative sample set.\n",
      "true positive = 59723\n",
      "true negative = 87570\n",
      "Using popularity threshold=0.340 and similarity threshold=0.043, we can achieve overall accuracy=0.73647 on the validation set + negative sample set.\n",
      "true positive = 59517\n",
      "true negative = 87754\n",
      "Using popularity threshold=0.340 and similarity threshold=0.044, we can achieve overall accuracy=0.73635 on the validation set + negative sample set.\n",
      "true positive = 59515\n",
      "true negative = 87762\n",
      "Using popularity threshold=0.340 and similarity threshold=0.045, we can achieve overall accuracy=0.73638 on the validation set + negative sample set.\n",
      "true positive = 61461\n",
      "true negative = 85826\n",
      "Using popularity threshold=0.350 and similarity threshold=0.030, we can achieve overall accuracy=0.73643 on the validation set + negative sample set.\n",
      "true positive = 60816\n",
      "true negative = 86537\n",
      "Using popularity threshold=0.350 and similarity threshold=0.035, we can achieve overall accuracy=0.73677 on the validation set + negative sample set.\n",
      "true positive = 60670\n",
      "true negative = 86696\n",
      "Using popularity threshold=0.350 and similarity threshold=0.036, we can achieve overall accuracy=0.73683 on the validation set + negative sample set.\n",
      "true positive = 60666\n",
      "true negative = 86698\n",
      "Using popularity threshold=0.350 and similarity threshold=0.037, we can achieve overall accuracy=0.73682 on the validation set + negative sample set.\n",
      "true positive = 60514\n",
      "true negative = 86855\n",
      "Using popularity threshold=0.350 and similarity threshold=0.038, we can achieve overall accuracy=0.73684 on the validation set + negative sample set.\n",
      "true positive = 60359\n",
      "true negative = 86984\n",
      "Using popularity threshold=0.350 and similarity threshold=0.039, we can achieve overall accuracy=0.73672 on the validation set + negative sample set.\n",
      "true positive = 60181\n",
      "true negative = 87127\n",
      "Using popularity threshold=0.350 and similarity threshold=0.040, we can achieve overall accuracy=0.73654 on the validation set + negative sample set.\n",
      "true positive = 60180\n",
      "true negative = 87130\n",
      "Using popularity threshold=0.350 and similarity threshold=0.041, we can achieve overall accuracy=0.73655 on the validation set + negative sample set.\n",
      "true positive = 59994\n",
      "true negative = 87301\n",
      "Using popularity threshold=0.350 and similarity threshold=0.042, we can achieve overall accuracy=0.73647 on the validation set + negative sample set.\n",
      "true positive = 59988\n",
      "true negative = 87302\n",
      "Using popularity threshold=0.350 and similarity threshold=0.043, we can achieve overall accuracy=0.73645 on the validation set + negative sample set.\n",
      "true positive = 59786\n",
      "true negative = 87485\n",
      "Using popularity threshold=0.350 and similarity threshold=0.044, we can achieve overall accuracy=0.73635 on the validation set + negative sample set.\n",
      "true positive = 59785\n",
      "true negative = 87493\n",
      "Using popularity threshold=0.350 and similarity threshold=0.045, we can achieve overall accuracy=0.73639 on the validation set + negative sample set.\n",
      "true positive = 61703\n",
      "true negative = 85563\n",
      "Using popularity threshold=0.360 and similarity threshold=0.030, we can achieve overall accuracy=0.73633 on the validation set + negative sample set.\n",
      "true positive = 61076\n",
      "true negative = 86266\n",
      "Using popularity threshold=0.360 and similarity threshold=0.035, we can achieve overall accuracy=0.73671 on the validation set + negative sample set.\n",
      "true positive = 60936\n",
      "true negative = 86424\n",
      "Using popularity threshold=0.360 and similarity threshold=0.036, we can achieve overall accuracy=0.73680 on the validation set + negative sample set.\n",
      "true positive = 60932\n",
      "true negative = 86426\n",
      "Using popularity threshold=0.360 and similarity threshold=0.037, we can achieve overall accuracy=0.73679 on the validation set + negative sample set.\n",
      "true positive = 60789\n",
      "true negative = 86580\n",
      "Using popularity threshold=0.360 and similarity threshold=0.038, we can achieve overall accuracy=0.73684 on the validation set + negative sample set.\n",
      "true positive = 60636\n",
      "true negative = 86706\n",
      "Using popularity threshold=0.360 and similarity threshold=0.039, we can achieve overall accuracy=0.73671 on the validation set + negative sample set.\n",
      "true positive = 60465\n",
      "true negative = 86846\n",
      "Using popularity threshold=0.360 and similarity threshold=0.040, we can achieve overall accuracy=0.73655 on the validation set + negative sample set.\n",
      "true positive = 60464\n",
      "true negative = 86849\n",
      "Using popularity threshold=0.360 and similarity threshold=0.041, we can achieve overall accuracy=0.73657 on the validation set + negative sample set.\n",
      "true positive = 60282\n",
      "true negative = 87017\n",
      "Using popularity threshold=0.360 and similarity threshold=0.042, we can achieve overall accuracy=0.73650 on the validation set + negative sample set.\n",
      "true positive = 60276\n",
      "true negative = 87018\n",
      "Using popularity threshold=0.360 and similarity threshold=0.043, we can achieve overall accuracy=0.73647 on the validation set + negative sample set.\n",
      "true positive = 60079\n",
      "true negative = 87198\n",
      "Using popularity threshold=0.360 and similarity threshold=0.044, we can achieve overall accuracy=0.73638 on the validation set + negative sample set.\n",
      "true positive = 60078\n",
      "true negative = 87205\n",
      "Using popularity threshold=0.360 and similarity threshold=0.045, we can achieve overall accuracy=0.73642 on the validation set + negative sample set.\n",
      "true positive = 61985\n",
      "true negative = 85289\n",
      "Using popularity threshold=0.370 and similarity threshold=0.030, we can achieve overall accuracy=0.73637 on the validation set + negative sample set.\n",
      "true positive = 61375\n",
      "true negative = 85988\n",
      "Using popularity threshold=0.370 and similarity threshold=0.035, we can achieve overall accuracy=0.73681 on the validation set + negative sample set.\n",
      "true positive = 61238\n",
      "true negative = 86145\n",
      "Using popularity threshold=0.370 and similarity threshold=0.036, we can achieve overall accuracy=0.73691 on the validation set + negative sample set.\n",
      "true positive = 61234\n",
      "true negative = 86147\n",
      "Using popularity threshold=0.370 and similarity threshold=0.037, we can achieve overall accuracy=0.73691 on the validation set + negative sample set.\n",
      "true positive = 61098\n",
      "true negative = 86298\n",
      "Using popularity threshold=0.370 and similarity threshold=0.038, we can achieve overall accuracy=0.73698 on the validation set + negative sample set.\n",
      "true positive = 60952\n",
      "true negative = 86424\n",
      "Using popularity threshold=0.370 and similarity threshold=0.039, we can achieve overall accuracy=0.73688 on the validation set + negative sample set.\n",
      "true positive = 60785\n",
      "true negative = 86562\n",
      "Using popularity threshold=0.370 and similarity threshold=0.040, we can achieve overall accuracy=0.73674 on the validation set + negative sample set.\n",
      "true positive = 60784\n",
      "true negative = 86565\n",
      "Using popularity threshold=0.370 and similarity threshold=0.041, we can achieve overall accuracy=0.73674 on the validation set + negative sample set.\n",
      "true positive = 60609\n",
      "true negative = 86733\n",
      "Using popularity threshold=0.370 and similarity threshold=0.042, we can achieve overall accuracy=0.73671 on the validation set + negative sample set.\n",
      "true positive = 60603\n",
      "true negative = 86733\n",
      "Using popularity threshold=0.370 and similarity threshold=0.043, we can achieve overall accuracy=0.73668 on the validation set + negative sample set.\n",
      "true positive = 60412\n",
      "true negative = 86910\n",
      "Using popularity threshold=0.370 and similarity threshold=0.044, we can achieve overall accuracy=0.73661 on the validation set + negative sample set.\n",
      "true positive = 60412\n",
      "true negative = 86917\n",
      "Using popularity threshold=0.370 and similarity threshold=0.045, we can achieve overall accuracy=0.73664 on the validation set + negative sample set.\n",
      "true positive = 62214\n",
      "true negative = 85050\n",
      "Using popularity threshold=0.380 and similarity threshold=0.030, we can achieve overall accuracy=0.73632 on the validation set + negative sample set.\n",
      "true positive = 61616\n",
      "true negative = 85744\n",
      "Using popularity threshold=0.380 and similarity threshold=0.035, we can achieve overall accuracy=0.73680 on the validation set + negative sample set.\n",
      "true positive = 61485\n",
      "true negative = 85899\n",
      "Using popularity threshold=0.380 and similarity threshold=0.036, we can achieve overall accuracy=0.73692 on the validation set + negative sample set.\n",
      "true positive = 61481\n",
      "true negative = 85901\n",
      "Using popularity threshold=0.380 and similarity threshold=0.037, we can achieve overall accuracy=0.73691 on the validation set + negative sample set.\n",
      "true positive = 61351\n",
      "true negative = 86052\n",
      "Using popularity threshold=0.380 and similarity threshold=0.038, we can achieve overall accuracy=0.73701 on the validation set + negative sample set.\n",
      "true positive = 61210\n",
      "true negative = 86173\n",
      "Using popularity threshold=0.380 and similarity threshold=0.039, we can achieve overall accuracy=0.73691 on the validation set + negative sample set.\n",
      "true positive = 61047\n",
      "true negative = 86308\n",
      "Using popularity threshold=0.380 and similarity threshold=0.040, we can achieve overall accuracy=0.73677 on the validation set + negative sample set.\n",
      "true positive = 61046\n",
      "true negative = 86311\n",
      "Using popularity threshold=0.380 and similarity threshold=0.041, we can achieve overall accuracy=0.73679 on the validation set + negative sample set.\n",
      "true positive = 60882\n",
      "true negative = 86476\n",
      "Using popularity threshold=0.380 and similarity threshold=0.042, we can achieve overall accuracy=0.73679 on the validation set + negative sample set.\n",
      "true positive = 60876\n",
      "true negative = 86476\n",
      "Using popularity threshold=0.380 and similarity threshold=0.043, we can achieve overall accuracy=0.73676 on the validation set + negative sample set.\n",
      "true positive = 60687\n",
      "true negative = 86651\n",
      "Using popularity threshold=0.380 and similarity threshold=0.044, we can achieve overall accuracy=0.73669 on the validation set + negative sample set.\n",
      "true positive = 60687\n",
      "true negative = 86658\n",
      "Using popularity threshold=0.380 and similarity threshold=0.045, we can achieve overall accuracy=0.73672 on the validation set + negative sample set.\n",
      "true positive = 62487\n",
      "true negative = 84751\n",
      "Using popularity threshold=0.390 and similarity threshold=0.030, we can achieve overall accuracy=0.73619 on the validation set + negative sample set.\n",
      "true positive = 61906\n",
      "true negative = 85436\n",
      "Using popularity threshold=0.390 and similarity threshold=0.035, we can achieve overall accuracy=0.73671 on the validation set + negative sample set.\n",
      "true positive = 61780\n",
      "true negative = 85591\n",
      "Using popularity threshold=0.390 and similarity threshold=0.036, we can achieve overall accuracy=0.73686 on the validation set + negative sample set.\n",
      "true positive = 61777\n",
      "true negative = 85593\n",
      "Using popularity threshold=0.390 and similarity threshold=0.037, we can achieve overall accuracy=0.73685 on the validation set + negative sample set.\n",
      "true positive = 61649\n",
      "true negative = 85743\n",
      "Using popularity threshold=0.390 and similarity threshold=0.038, we can achieve overall accuracy=0.73696 on the validation set + negative sample set.\n",
      "true positive = 61515\n",
      "true negative = 85862\n",
      "Using popularity threshold=0.390 and similarity threshold=0.039, we can achieve overall accuracy=0.73689 on the validation set + negative sample set.\n",
      "true positive = 61358\n",
      "true negative = 85996\n",
      "Using popularity threshold=0.390 and similarity threshold=0.040, we can achieve overall accuracy=0.73677 on the validation set + negative sample set.\n",
      "true positive = 61357\n",
      "true negative = 85999\n",
      "Using popularity threshold=0.390 and similarity threshold=0.041, we can achieve overall accuracy=0.73678 on the validation set + negative sample set.\n",
      "true positive = 61201\n",
      "true negative = 86162\n",
      "Using popularity threshold=0.390 and similarity threshold=0.042, we can achieve overall accuracy=0.73681 on the validation set + negative sample set.\n",
      "true positive = 61195\n",
      "true negative = 86162\n",
      "Using popularity threshold=0.390 and similarity threshold=0.043, we can achieve overall accuracy=0.73679 on the validation set + negative sample set.\n",
      "true positive = 61010\n",
      "true negative = 86333\n",
      "Using popularity threshold=0.390 and similarity threshold=0.044, we can achieve overall accuracy=0.73672 on the validation set + negative sample set.\n",
      "true positive = 61010\n",
      "true negative = 86340\n",
      "Using popularity threshold=0.390 and similarity threshold=0.045, we can achieve overall accuracy=0.73675 on the validation set + negative sample set.\n",
      "true positive = 62725\n",
      "true negative = 84446\n",
      "Using popularity threshold=0.400 and similarity threshold=0.030, we can achieve overall accuracy=0.73586 on the validation set + negative sample set.\n",
      "true positive = 62158\n",
      "true negative = 85122\n",
      "Using popularity threshold=0.400 and similarity threshold=0.035, we can achieve overall accuracy=0.73640 on the validation set + negative sample set.\n",
      "true positive = 62036\n",
      "true negative = 85276\n",
      "Using popularity threshold=0.400 and similarity threshold=0.036, we can achieve overall accuracy=0.73656 on the validation set + negative sample set.\n",
      "true positive = 62033\n",
      "true negative = 85278\n",
      "Using popularity threshold=0.400 and similarity threshold=0.037, we can achieve overall accuracy=0.73655 on the validation set + negative sample set.\n",
      "true positive = 61912\n",
      "true negative = 85425\n",
      "Using popularity threshold=0.400 and similarity threshold=0.038, we can achieve overall accuracy=0.73669 on the validation set + negative sample set.\n",
      "true positive = 61780\n",
      "true negative = 85543\n",
      "Using popularity threshold=0.400 and similarity threshold=0.039, we can achieve overall accuracy=0.73662 on the validation set + negative sample set.\n",
      "true positive = 61625\n",
      "true negative = 85675\n",
      "Using popularity threshold=0.400 and similarity threshold=0.040, we can achieve overall accuracy=0.73650 on the validation set + negative sample set.\n",
      "true positive = 61624\n",
      "true negative = 85678\n",
      "Using popularity threshold=0.400 and similarity threshold=0.041, we can achieve overall accuracy=0.73651 on the validation set + negative sample set.\n",
      "true positive = 61474\n",
      "true negative = 85840\n",
      "Using popularity threshold=0.400 and similarity threshold=0.042, we can achieve overall accuracy=0.73657 on the validation set + negative sample set.\n",
      "true positive = 61469\n",
      "true negative = 85840\n",
      "Using popularity threshold=0.400 and similarity threshold=0.043, we can achieve overall accuracy=0.73655 on the validation set + negative sample set.\n",
      "true positive = 61290\n",
      "true negative = 86009\n",
      "Using popularity threshold=0.400 and similarity threshold=0.044, we can achieve overall accuracy=0.73650 on the validation set + negative sample set.\n",
      "true positive = 61290\n",
      "true negative = 86016\n",
      "Using popularity threshold=0.400 and similarity threshold=0.045, we can achieve overall accuracy=0.73653 on the validation set + negative sample set.\n"
     ]
    }
   ],
   "source": [
    "max_accuracy = 0\n",
    "best_t1 = 0.6\n",
    "best_t2 = 0.01\n",
    "for t1 in [0.3, 0.31, 0.32, 0.33, 0.34, 0.35, 0.36, 0.37, 0.38, 0.39, 0.4]:\n",
    "    pop_set_perc_t1 = fit(most_popular, total_cooked, t1)\n",
    "    for t2 in [0.03, 0.035, 0.036, 0.037, 0.038, 0.039, 0.04, 0.041, 0.042, 0.043, 0.044, 0.045]:\n",
    "        accuracy = predict_accuracy_4(X_valid, not_made_samples, pop_set_perc_t1, t2)\n",
    "        print('Using popularity threshold=%.3f and similarity threshold=%.3f, we can achieve overall accuracy=%.5f on the validation set + negative sample set.' % (t1, t2, accuracy))\n",
    "        if accuracy > max_accuracy:\n",
    "            max_accuracy = accuracy\n",
    "            best_t1 = t1\n",
    "            best_t2 = t2"
   ],
   "metadata": {
    "collapsed": false,
    "pycharm": {
     "name": "#%%\n"
    }
   }
  },
  {
   "cell_type": "code",
   "execution_count": 101,
   "outputs": [
    {
     "name": "stdout",
     "output_type": "stream",
     "text": [
      "When we set the popularity threshold to the 38.00th percentile and similarity threshold to the 3.80th percentile,\n",
      "the max accuracy is reached at 0.73701.\n"
     ]
    }
   ],
   "source": [
    "print(\"When we set the popularity threshold to the %.2fth percentile and similarity threshold to the %.2fth percentile,\\nthe max accuracy is reached at %.5f.\" % (best_t1 * 100, best_t2 * 100, max_accuracy))"
   ],
   "metadata": {
    "collapsed": false,
    "pycharm": {
     "name": "#%%\n"
    }
   }
  },
  {
   "cell_type": "markdown",
   "source": [
    "### 5"
   ],
   "metadata": {
    "collapsed": false
   }
  },
  {
   "cell_type": "code",
   "execution_count": 102,
   "outputs": [],
   "source": [
    "best_pop_set = fit(most_popular, total_cooked, best_t1)\n",
    "predictions = open(\"predictions_Made.txt\", 'w')\n",
    "for l in open(\"stub_Made.txt\"):\n",
    "  if l.startswith(\"user_id\"):\n",
    "    #header\n",
    "    predictions.write(l)\n",
    "    continue\n",
    "  u,i = l.strip().split('-')\n",
    "  if single_predict(u, i, best_pop_set, best_t2):\n",
    "    predictions.write(u + '-' + i + \",1\\n\")\n",
    "  else:\n",
    "    predictions.write(u + '-' + i + \",0\\n\")\n",
    "\n",
    "predictions.close()"
   ],
   "metadata": {
    "collapsed": false,
    "pycharm": {
     "name": "#%%\n"
    }
   }
  },
  {
   "cell_type": "markdown",
   "source": [
    "Kaggle Username: Jin Dai"
   ],
   "metadata": {
    "collapsed": false,
    "pycharm": {
     "name": "#%% md\n"
    }
   }
  },
  {
   "cell_type": "code",
   "execution_count": null,
   "outputs": [],
   "source": [],
   "metadata": {
    "collapsed": false,
    "pycharm": {
     "name": "#%%\n"
    }
   }
  }
 ],
 "metadata": {
  "kernelspec": {
   "display_name": "Python 3",
   "language": "python",
   "name": "python3"
  },
  "language_info": {
   "codemirror_mode": {
    "name": "ipython",
    "version": 2
   },
   "file_extension": ".py",
   "mimetype": "text/x-python",
   "name": "python",
   "nbconvert_exporter": "python",
   "pygments_lexer": "ipython2",
   "version": "2.7.6"
  }
 },
 "nbformat": 4,
 "nbformat_minor": 0
}