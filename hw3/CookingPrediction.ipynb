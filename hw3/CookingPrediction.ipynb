{
 "cells": [
  {
   "cell_type": "markdown",
   "metadata": {
    "collapsed": true,
    "pycharm": {
     "name": "#%% md\n"
    }
   },
   "source": [
    "# CSE 258 - HW 3\n",
    "Jin Dai / A92408103"
   ]
  },
  {
   "cell_type": "markdown",
   "source": [
    "## Task (Cook/Make prediction)"
   ],
   "metadata": {
    "collapsed": false,
    "pycharm": {
     "name": "#%% md\n"
    }
   }
  },
  {
   "cell_type": "code",
   "execution_count": 2,
   "outputs": [],
   "source": [
    "import gzip\n",
    "import random\n",
    "from collections import defaultdict\n",
    "import csv"
   ],
   "metadata": {
    "collapsed": false,
    "pycharm": {
     "name": "#%%\n"
    }
   }
  },
  {
   "cell_type": "code",
   "execution_count": 3,
   "outputs": [],
   "source": [
    "def read_gz(path):\n",
    "    for l in gzip.open(path, 'rt'):\n",
    "        yield eval(l)\n",
    "\n",
    "def read_csv(path):\n",
    "    f = gzip.open(path, 'rt')\n",
    "    c = csv.reader(f)\n",
    "    header = next(c)\n",
    "    print(header)\n",
    "    for l in c:\n",
    "        yield l"
   ],
   "metadata": {
    "collapsed": false,
    "pycharm": {
     "name": "#%%\n"
    }
   }
  },
  {
   "cell_type": "code",
   "execution_count": 4,
   "outputs": [
    {
     "name": "stdout",
     "output_type": "stream",
     "text": [
      "['user_id', 'recipe_id', 'date', 'rating']\n"
     ]
    },
    {
     "data": {
      "text/plain": "[['88348277', '03969194', '2004-12-23', '5'],\n ['86699739', '27096427', '2002-01-12', '4']]"
     },
     "execution_count": 4,
     "metadata": {},
     "output_type": "execute_result"
    }
   ],
   "source": [
    "dataset = list(read_csv(\"trainInteractions.csv.gz\"))\n",
    "dataset[:2]"
   ],
   "metadata": {
    "collapsed": false,
    "pycharm": {
     "name": "#%%\n"
    }
   }
  },
  {
   "cell_type": "code",
   "execution_count": 5,
   "outputs": [],
   "source": [
    "# shuffle\n",
    "random.shuffle(dataset)"
   ],
   "metadata": {
    "collapsed": false,
    "pycharm": {
     "name": "#%%\n"
    }
   }
  },
  {
   "cell_type": "code",
   "execution_count": 6,
   "outputs": [
    {
     "name": "stdout",
     "output_type": "stream",
     "text": [
      "data_train size = 400000\tdata_valid size = 100000\n"
     ]
    }
   ],
   "source": [
    "train_size = 400000\n",
    "data_train = dataset[:train_size]\n",
    "data_valid = dataset[train_size:]\n",
    "print('data_train size = %d\\tdata_valid size = %d' % (len(data_train), len(data_valid)))\n",
    "X_train = [d[:2] for d in data_train]\n",
    "X_valid = [d[:2] for d in data_valid]"
   ],
   "metadata": {
    "collapsed": false,
    "pycharm": {
     "name": "#%%\n"
    }
   }
  },
  {
   "cell_type": "markdown",
   "source": [
    "### 1."
   ],
   "metadata": {
    "collapsed": false
   }
  },
  {
   "cell_type": "code",
   "source": [
    "# compute user-recipes dict and all recipes set\n",
    "user_recipes = defaultdict(set)\n",
    "all_recipes = set()\n",
    "for d in X_train:\n",
    "    usr = d[0]\n",
    "    r = d[1]\n",
    "    all_recipes.add(r)\n",
    "    user_recipes[usr].add(r)"
   ],
   "metadata": {
    "collapsed": false,
    "pycharm": {
     "name": "#%%\n"
    }
   },
   "execution_count": 7,
   "outputs": []
  },
  {
   "cell_type": "code",
   "source": [
    "# get a negative sample per each entry in the validation set\n",
    "def random_sample(from_list, exclusions):\n",
    "    s = random.choice(from_list)\n",
    "    while s in exclusions:\n",
    "        s = random.choice(from_list)\n",
    "    return s\n",
    "\n",
    "all_recipes_list = list(all_recipes)\n",
    "not_made_samples = []\n",
    "for d in X_valid:\n",
    "    usr = d[0]\n",
    "    r_cooked = d[1]\n",
    "    r_uncooked = random_sample(all_recipes_list, user_recipes[usr].union({r_cooked}))\n",
    "    not_made_samples.append([usr, r_uncooked])"
   ],
   "metadata": {
    "collapsed": false,
    "pycharm": {
     "name": "#%%\n"
    }
   },
   "execution_count": 8,
   "outputs": []
  },
  {
   "cell_type": "code",
   "execution_count": 9,
   "outputs": [],
   "source": [
    "# the baseline model\n",
    "recipe_count = defaultdict(int)\n",
    "total_cooked = 0\n",
    "\n",
    "for d in X_train:\n",
    "    r = d[1]\n",
    "    recipe_count[r] += 1\n",
    "    total_cooked += 1\n",
    "\n",
    "most_popular = [(recipe_count[x], x) for x in recipe_count]\n",
    "most_popular.sort()\n",
    "most_popular.reverse()\n",
    "\n",
    "def fit(most_popular, total_cooked, threshold=0.5):\n",
    "    popular_set = set()\n",
    "    count = 0\n",
    "    for ic, i in most_popular:\n",
    "      count += ic\n",
    "      popular_set.add(i)\n",
    "      if count > total_cooked * threshold: break\n",
    "    return popular_set\n",
    "\n",
    "return1 = fit(most_popular, total_cooked)"
   ],
   "metadata": {
    "collapsed": false,
    "pycharm": {
     "name": "#%%\n"
    }
   }
  },
  {
   "cell_type": "code",
   "execution_count": 10,
   "outputs": [],
   "source": [
    "def predict_accuracy_1(made, not_made, popular_set):\n",
    "    # count the true positives\n",
    "    TP_count = 0\n",
    "    for d in made:\n",
    "        r = d[1]\n",
    "        if r in popular_set:\n",
    "            TP_count += 1\n",
    "    # count the true negatives\n",
    "    TN_count = 0\n",
    "    for d in not_made:\n",
    "        r = d[1]\n",
    "        if r not in popular_set:\n",
    "            TN_count += 1\n",
    "    print('true positive = %d' % TP_count)\n",
    "    print('true negative = %d' % TN_count)\n",
    "    return (TP_count + TN_count) / (1.0 * (len(made) + len(not_made)))"
   ],
   "metadata": {
    "collapsed": false,
    "pycharm": {
     "name": "#%%\n"
    }
   }
  },
  {
   "cell_type": "code",
   "execution_count": 11,
   "outputs": [
    {
     "name": "stdout",
     "output_type": "stream",
     "text": [
      "true positive = 44782\n",
      "true negative = 87971\n",
      "given threshold=0.5, overall accuracy on the validation set + negative sample set is 0.66377\n"
     ]
    }
   ],
   "source": [
    "accuracy = predict_accuracy_1(X_valid, not_made_samples, return1)\n",
    "print('given threshold=0.5, overall accuracy on the validation set + negative sample set is %.5f' % accuracy)"
   ],
   "metadata": {
    "collapsed": false,
    "pycharm": {
     "name": "#%%\n"
    }
   }
  },
  {
   "cell_type": "markdown",
   "source": [
    "### 2."
   ],
   "metadata": {
    "collapsed": false,
    "pycharm": {
     "name": "#%% md\n"
    }
   }
  },
  {
   "cell_type": "markdown",
   "source": [
    "First we perform random sampling on all user-recipe pairs to get the \"non-made\" examples."
   ],
   "metadata": {
    "collapsed": false,
    "pycharm": {
     "name": "#%% md\n"
    }
   }
  },
  {
   "cell_type": "code",
   "execution_count": 12,
   "outputs": [],
   "source": [
    "recipe_users = defaultdict(set)\n",
    "all_users = set()\n",
    "for d in X_train:\n",
    "    usr = d[0]\n",
    "    r = d[1]\n",
    "    all_users.add(usr)\n",
    "    recipe_users[r].add(usr)"
   ],
   "metadata": {
    "collapsed": false,
    "pycharm": {
     "name": "#%%\n"
    }
   }
  },
  {
   "cell_type": "code",
   "execution_count": 13,
   "outputs": [],
   "source": [
    "def random_sample_2(all_users, all_recipes, exclusions):\n",
    "    usr = random.choice(all_users)\n",
    "    r = random.choice(all_recipes)\n",
    "    s = (usr, r)\n",
    "    while s in exclusions:\n",
    "        usr = random.choice(all_users)\n",
    "        r = random.choice(all_recipes)\n",
    "        s = (usr, r)\n",
    "    return s\n",
    "\n",
    "all_cooked_user_recipe_pair = set([(d[0], d[1]) for d in X_train + X_valid])\n",
    "all_users_list = list(all_users)\n",
    "\n",
    "not_made_samples = set()\n",
    "while len(not_made_samples) < len(X_valid):\n",
    "    not_made_samples.add(random_sample_2(all_users_list, all_recipes_list, all_cooked_user_recipe_pair))\n",
    "not_made_samples = list(not_made_samples)"
   ],
   "metadata": {
    "collapsed": false,
    "pycharm": {
     "name": "#%%\n"
    }
   }
  },
  {
   "cell_type": "markdown",
   "source": [
    "For this question, we can try calculating accuracies using a few different thresholds like 10th, 20th,...,80th, 90th percentiles.\n",
    "We also want to compare against the accuracy using all the training data."
   ],
   "metadata": {
    "collapsed": false,
    "pycharm": {
     "name": "#%% md\n"
    }
   }
  },
  {
   "cell_type": "code",
   "execution_count": 14,
   "outputs": [
    {
     "name": "stdout",
     "output_type": "stream",
     "text": [
      "true positive = 9829\n",
      "true negative = 99673\n",
      "given threshold=0.10, overall accuracy on the validation set + negative sample set is 0.54751\n",
      "true positive = 19401\n",
      "true negative = 98692\n",
      "given threshold=0.20, overall accuracy on the validation set + negative sample set is 0.59047\n",
      "true positive = 28427\n",
      "true negative = 96594\n",
      "given threshold=0.30, overall accuracy on the validation set + negative sample set is 0.62511\n",
      "true positive = 36744\n",
      "true negative = 93051\n",
      "given threshold=0.40, overall accuracy on the validation set + negative sample set is 0.64897\n",
      "true positive = 44782\n",
      "true negative = 87874\n",
      "given threshold=0.50, overall accuracy on the validation set + negative sample set is 0.66328\n",
      "true positive = 52622\n",
      "true negative = 80584\n",
      "given threshold=0.60, overall accuracy on the validation set + negative sample set is 0.66603\n",
      "true positive = 60031\n",
      "true negative = 70312\n",
      "given threshold=0.70, overall accuracy on the validation set + negative sample set is 0.65172\n",
      "true positive = 67266\n",
      "true negative = 55737\n",
      "given threshold=0.80, overall accuracy on the validation set + negative sample set is 0.61501\n",
      "true positive = 74811\n",
      "true negative = 29786\n",
      "given threshold=0.90, overall accuracy on the validation set + negative sample set is 0.52299\n",
      "true positive = 82397\n",
      "true negative = 0\n",
      "given threshold=1.00, overall accuracy on the validation set + negative sample set is 0.41198\n"
     ]
    }
   ],
   "source": [
    "max_accuracy = 0\n",
    "best_threshold = 0.5\n",
    "for t in [0.1, 0.2, 0.3, 0.4, 0.5, 0.6, 0.7, 0.8, 0.9, 1.0]:\n",
    "    return_n = fit(most_popular, total_cooked, t)\n",
    "    accuracy = predict_accuracy_1(X_valid, not_made_samples, return_n)\n",
    "    print('given threshold=%.2f, overall accuracy on the validation set + negative sample set is %.5f' % (t, accuracy))\n",
    "    if accuracy > max_accuracy:\n",
    "        max_accuracy = accuracy\n",
    "        best_threshold = t"
   ],
   "metadata": {
    "collapsed": false,
    "pycharm": {
     "name": "#%%\n"
    }
   }
  },
  {
   "cell_type": "code",
   "execution_count": 15,
   "outputs": [
    {
     "name": "stdout",
     "output_type": "stream",
     "text": [
      "When we set the threshold to the 60th percentile, the max accuracy is reached at 0.66603.\n"
     ]
    }
   ],
   "source": [
    "print(\"When we set the threshold to the %dth percentile, the max accuracy is reached at %.5f.\" % (best_threshold * 100, max_accuracy))"
   ],
   "metadata": {
    "collapsed": false,
    "pycharm": {
     "name": "#%%\n"
    }
   }
  },
  {
   "cell_type": "markdown",
   "source": [
    "### 3."
   ],
   "metadata": {
    "collapsed": false,
    "pycharm": {
     "name": "#%% md\n"
    }
   }
  },
  {
   "cell_type": "code",
   "execution_count": 16,
   "outputs": [],
   "source": [
    "def Jaccard(s1, s2):\n",
    "    numer = len(s1.intersection(s2))\n",
    "    denom = len(s1.union(s2))\n",
    "    if denom == 0:\n",
    "        return 0\n",
    "    return (1.0 * numer) / denom"
   ],
   "metadata": {
    "collapsed": false,
    "pycharm": {
     "name": "#%%\n"
    }
   }
  },
  {
   "cell_type": "code",
   "execution_count": 17,
   "outputs": [],
   "source": [
    "max_sim_dict = defaultdict(float)\n",
    "\n",
    "def get_max_sim(usr, r):\n",
    "    if (usr, r) in max_sim_dict:\n",
    "        return max_sim_dict[(usr, r)]\n",
    "    max_sim = 0.0\n",
    "    for r2 in user_recipes[usr]:\n",
    "        if r2 == r: continue\n",
    "        max_sim = max(max_sim, Jaccard(recipe_users[r], recipe_users[r2]))\n",
    "    max_sim_dict[(usr, r)] = max_sim\n",
    "    return max_sim\n",
    "\n",
    "def predict_accuracy_3(made, not_made, sim_threshold):\n",
    "    TP_count = 0\n",
    "    for d in made:\n",
    "        if get_max_sim(d[0], d[1]) > sim_threshold:\n",
    "            TP_count += 1\n",
    "    TN_count = 0\n",
    "    for d in not_made:\n",
    "        if get_max_sim(d[0], d[1]) <= sim_threshold:\n",
    "            TN_count += 1\n",
    "    print('true positive = %d' % TP_count)\n",
    "    print('true negative = %d' % TN_count)\n",
    "    print(len(max_sim_dict))\n",
    "    return (TP_count + TN_count) / (1.0 * (len(made) + len(not_made)))"
   ],
   "metadata": {
    "collapsed": false,
    "pycharm": {
     "name": "#%%\n"
    }
   }
  },
  {
   "cell_type": "code",
   "execution_count": 18,
   "outputs": [
    {
     "name": "stdout",
     "output_type": "stream",
     "text": [
      "true positive = 31\n",
      "true negative = 100000\n",
      "200000\n",
      "given threshold=0.5, overall accuracy on the validation set + negative sample set is 0.50016\n"
     ]
    }
   ],
   "source": [
    "accuracy = predict_accuracy_3(X_valid, not_made_samples, 0.5)\n",
    "print('given threshold=0.5, overall accuracy on the validation set + negative sample set is %.5f' % accuracy)"
   ],
   "metadata": {
    "collapsed": false,
    "pycharm": {
     "name": "#%%\n"
    }
   }
  },
  {
   "cell_type": "code",
   "execution_count": 19,
   "outputs": [
    {
     "data": {
      "text/plain": "0.0"
     },
     "execution_count": 19,
     "metadata": {},
     "output_type": "execute_result"
    }
   ],
   "source": [
    "import statistics\n",
    "# get the median of all Jaccard similarities in max_sim_dict\n",
    "max_sims = [v for _, v in max_sim_dict.items()]\n",
    "max_sims.sort()\n",
    "statistics.median(max_sims)"
   ],
   "metadata": {
    "collapsed": false,
    "pycharm": {
     "name": "#%%\n"
    }
   }
  },
  {
   "cell_type": "code",
   "execution_count": 20,
   "outputs": [
    {
     "data": {
      "text/plain": "200000"
     },
     "execution_count": 20,
     "metadata": {},
     "output_type": "execute_result"
    }
   ],
   "source": [
    "len(max_sims)"
   ],
   "metadata": {
    "collapsed": false,
    "pycharm": {
     "name": "#%%\n"
    }
   }
  },
  {
   "cell_type": "code",
   "execution_count": 21,
   "outputs": [
    {
     "name": "stdout",
     "output_type": "stream",
     "text": [
      "true positive = 64720\n",
      "true negative = 78550\n",
      "200000\n",
      "given threshold=0.000, overall accuracy on the validation set + negative sample set is 0.71635\n",
      "true positive = 64720\n",
      "true negative = 78550\n",
      "200000\n",
      "given threshold=0.001, overall accuracy on the validation set + negative sample set is 0.71635\n",
      "true positive = 63473\n",
      "true negative = 80946\n",
      "200000\n",
      "given threshold=0.005, overall accuracy on the validation set + negative sample set is 0.72210\n",
      "true positive = 61331\n",
      "true negative = 83657\n",
      "200000\n",
      "given threshold=0.010, overall accuracy on the validation set + negative sample set is 0.72494\n",
      "true positive = 55681\n",
      "true negative = 87426\n",
      "200000\n",
      "given threshold=0.020, overall accuracy on the validation set + negative sample set is 0.71554\n",
      "true positive = 48525\n",
      "true negative = 89664\n",
      "200000\n",
      "given threshold=0.030, overall accuracy on the validation set + negative sample set is 0.69095\n",
      "true positive = 40768\n",
      "true negative = 91474\n",
      "200000\n",
      "given threshold=0.040, overall accuracy on the validation set + negative sample set is 0.66121\n",
      "true positive = 35347\n",
      "true negative = 92636\n",
      "200000\n",
      "given threshold=0.050, overall accuracy on the validation set + negative sample set is 0.63992\n",
      "true positive = 28367\n",
      "true negative = 94493\n",
      "200000\n",
      "given threshold=0.075, overall accuracy on the validation set + negative sample set is 0.61430\n",
      "true positive = 22872\n",
      "true negative = 96132\n",
      "200000\n",
      "given threshold=0.100, overall accuracy on the validation set + negative sample set is 0.59502\n",
      "true positive = 16312\n",
      "true negative = 97614\n",
      "200000\n",
      "given threshold=0.150, overall accuracy on the validation set + negative sample set is 0.56963\n",
      "true positive = 9552\n",
      "true negative = 98718\n",
      "200000\n",
      "given threshold=0.200, overall accuracy on the validation set + negative sample set is 0.54135\n"
     ]
    }
   ],
   "source": [
    "for t in [0, 0.001, 0.005, 0.01, 0.02, 0.03, 0.04, 0.05, 0.075, 0.1, 0.15, 0.2]:\n",
    "    accuracy = predict_accuracy_3(X_valid, not_made_samples, t)\n",
    "    print('given threshold=%.3f, overall accuracy on the validation set + negative sample set is %.5f' % (t, accuracy))\n",
    "    if accuracy > max_accuracy:\n",
    "        max_accuracy = accuracy\n",
    "        best_threshold = t"
   ],
   "metadata": {
    "collapsed": false,
    "pycharm": {
     "name": "#%%\n"
    }
   }
  },
  {
   "cell_type": "code",
   "execution_count": 22,
   "outputs": [
    {
     "name": "stdout",
     "output_type": "stream",
     "text": [
      "When we set the similarity threshold to the 1th percentile, the max accuracy is reached at 0.72494.\n"
     ]
    }
   ],
   "source": [
    "print(\"When we set the similarity threshold to the %dth percentile, the max accuracy is reached at %.5f.\" % (best_threshold * 100, max_accuracy))"
   ],
   "metadata": {
    "collapsed": false,
    "pycharm": {
     "name": "#%%\n"
    }
   }
  },
  {
   "cell_type": "markdown",
   "source": [
    "### 4"
   ],
   "metadata": {
    "collapsed": false,
    "pycharm": {
     "name": "#%% md\n"
    }
   }
  },
  {
   "cell_type": "code",
   "execution_count": 23,
   "outputs": [],
   "source": [
    "# define the predict function\n",
    "def single_predict(user, recipe, popular_set, sim_threshold):\n",
    "    if recipe in popular_set or get_max_sim(user, recipe) > sim_threshold:\n",
    "        return 1\n",
    "    return 0\n",
    "\n",
    "def predict(X, popular_set, sim_threshold):\n",
    "    return [single_predict(d[0], d[1], popular_set, sim_threshold) for d in X]"
   ],
   "metadata": {
    "collapsed": false,
    "pycharm": {
     "name": "#%%\n"
    }
   }
  },
  {
   "cell_type": "code",
   "execution_count": 24,
   "outputs": [],
   "source": [
    "def predict_accuracy_4(made, not_made, popular_set, sim_threshold=0.01):\n",
    "    pred_made = predict(made, popular_set, sim_threshold)\n",
    "    TP_count = pred_made.count(1)\n",
    "    pred_not_made = predict(not_made, popular_set, sim_threshold)\n",
    "    TN_count = pred_not_made.count(0)\n",
    "    print('true positive = %d' % TP_count)\n",
    "    print('true negative = %d' % TN_count)\n",
    "    return (TP_count + TN_count) / (1.0 * (len(made) + len(not_made)))"
   ],
   "metadata": {
    "collapsed": false,
    "pycharm": {
     "name": "#%%\n"
    }
   }
  },
  {
   "cell_type": "code",
   "execution_count": 25,
   "outputs": [
    {
     "name": "stdout",
     "output_type": "stream",
     "text": [
      "true positive = 61846\n",
      "true negative = 83569\n",
      "Using popularity threshold=0.100 and similarity threshold=0.010, we can achieve overall accuracy=0.72708 on the validation set + negative sample set.\n",
      "true positive = 55464\n",
      "true negative = 88484\n",
      "Using popularity threshold=0.100 and similarity threshold=0.025, we can achieve overall accuracy=0.71974 on the validation set + negative sample set.\n",
      "true positive = 44551\n",
      "true negative = 92313\n",
      "Using popularity threshold=0.100 and similarity threshold=0.050, we can achieve overall accuracy=0.68432 on the validation set + negative sample set.\n",
      "true positive = 38178\n",
      "true negative = 94166\n",
      "Using popularity threshold=0.100 and similarity threshold=0.075, we can achieve overall accuracy=0.66172 on the validation set + negative sample set.\n",
      "true positive = 32689\n",
      "true negative = 95805\n",
      "Using popularity threshold=0.100 and similarity threshold=0.100, we can achieve overall accuracy=0.64247 on the validation set + negative sample set.\n",
      "true positive = 15524\n",
      "true negative = 98943\n",
      "Using popularity threshold=0.100 and similarity threshold=0.250, we can achieve overall accuracy=0.57234 on the validation set + negative sample set.\n",
      "true positive = 9860\n",
      "true negative = 99673\n",
      "Using popularity threshold=0.100 and similarity threshold=0.500, we can achieve overall accuracy=0.54766 on the validation set + negative sample set.\n",
      "true positive = 9829\n",
      "true negative = 99673\n",
      "Using popularity threshold=0.100 and similarity threshold=0.750, we can achieve overall accuracy=0.54751 on the validation set + negative sample set.\n",
      "true positive = 62605\n",
      "true negative = 83240\n",
      "Using popularity threshold=0.200 and similarity threshold=0.010, we can achieve overall accuracy=0.72923 on the validation set + negative sample set.\n",
      "true positive = 58516\n",
      "true negative = 87830\n",
      "Using popularity threshold=0.200 and similarity threshold=0.025, we can achieve overall accuracy=0.73173 on the validation set + negative sample set.\n",
      "true positive = 52485\n",
      "true negative = 91362\n",
      "Using popularity threshold=0.200 and similarity threshold=0.050, we can achieve overall accuracy=0.71923 on the validation set + negative sample set.\n",
      "true positive = 47332\n",
      "true negative = 93188\n",
      "Using popularity threshold=0.200 and similarity threshold=0.075, we can achieve overall accuracy=0.70260 on the validation set + negative sample set.\n",
      "true positive = 42107\n",
      "true negative = 94824\n",
      "Using popularity threshold=0.200 and similarity threshold=0.100, we can achieve overall accuracy=0.68466 on the validation set + negative sample set.\n",
      "true positive = 25089\n",
      "true negative = 97962\n",
      "Using popularity threshold=0.200 and similarity threshold=0.250, we can achieve overall accuracy=0.61525 on the validation set + negative sample set.\n",
      "true positive = 19432\n",
      "true negative = 98692\n",
      "Using popularity threshold=0.200 and similarity threshold=0.500, we can achieve overall accuracy=0.59062 on the validation set + negative sample set.\n",
      "true positive = 19401\n",
      "true negative = 98692\n",
      "Using popularity threshold=0.200 and similarity threshold=0.750, we can achieve overall accuracy=0.59047 on the validation set + negative sample set.\n",
      "true positive = 63910\n",
      "true negative = 82216\n",
      "Using popularity threshold=0.300 and similarity threshold=0.010, we can achieve overall accuracy=0.73063 on the validation set + negative sample set.\n",
      "true positive = 60876\n",
      "true negative = 86428\n",
      "Using popularity threshold=0.300 and similarity threshold=0.025, we can achieve overall accuracy=0.73652 on the validation set + negative sample set.\n",
      "true positive = 57402\n",
      "true negative = 89509\n",
      "Using popularity threshold=0.300 and similarity threshold=0.050, we can achieve overall accuracy=0.73455 on the validation set + negative sample set.\n",
      "true positive = 54491\n",
      "true negative = 91146\n",
      "Using popularity threshold=0.300 and similarity threshold=0.075, we can achieve overall accuracy=0.72818 on the validation set + negative sample set.\n",
      "true positive = 50171\n",
      "true negative = 92737\n",
      "Using popularity threshold=0.300 and similarity threshold=0.100, we can achieve overall accuracy=0.71454 on the validation set + negative sample set.\n",
      "true positive = 34053\n",
      "true negative = 95864\n",
      "Using popularity threshold=0.300 and similarity threshold=0.250, we can achieve overall accuracy=0.64958 on the validation set + negative sample set.\n",
      "true positive = 28458\n",
      "true negative = 96594\n",
      "Using popularity threshold=0.300 and similarity threshold=0.500, we can achieve overall accuracy=0.62526 on the validation set + negative sample set.\n",
      "true positive = 28427\n",
      "true negative = 96594\n",
      "Using popularity threshold=0.300 and similarity threshold=0.750, we can achieve overall accuracy=0.62511 on the validation set + negative sample set.\n",
      "true positive = 65534\n",
      "true negative = 80104\n",
      "Using popularity threshold=0.400 and similarity threshold=0.010, we can achieve overall accuracy=0.72819 on the validation set + negative sample set.\n",
      "true positive = 63235\n",
      "true negative = 83887\n",
      "Using popularity threshold=0.400 and similarity threshold=0.025, we can achieve overall accuracy=0.73561 on the validation set + negative sample set.\n",
      "true positive = 60772\n",
      "true negative = 86551\n",
      "Using popularity threshold=0.400 and similarity threshold=0.050, we can achieve overall accuracy=0.73662 on the validation set + negative sample set.\n",
      "true positive = 58923\n",
      "true negative = 87940\n",
      "Using popularity threshold=0.400 and similarity threshold=0.075, we can achieve overall accuracy=0.73432 on the validation set + negative sample set.\n",
      "true positive = 56464\n",
      "true negative = 89282\n",
      "Using popularity threshold=0.400 and similarity threshold=0.100, we can achieve overall accuracy=0.72873 on the validation set + negative sample set.\n",
      "true positive = 42280\n",
      "true negative = 92321\n",
      "Using popularity threshold=0.400 and similarity threshold=0.250, we can achieve overall accuracy=0.67300 on the validation set + negative sample set.\n",
      "true positive = 36775\n",
      "true negative = 93051\n",
      "Using popularity threshold=0.400 and similarity threshold=0.500, we can achieve overall accuracy=0.64913 on the validation set + negative sample set.\n",
      "true positive = 36744\n",
      "true negative = 93051\n",
      "Using popularity threshold=0.400 and similarity threshold=0.750, we can achieve overall accuracy=0.64897 on the validation set + negative sample set.\n",
      "true positive = 67342\n",
      "true negative = 76575\n",
      "Using popularity threshold=0.500 and similarity threshold=0.010, we can achieve overall accuracy=0.71959 on the validation set + negative sample set.\n",
      "true positive = 65569\n",
      "true negative = 79816\n",
      "Using popularity threshold=0.500 and similarity threshold=0.025, we can achieve overall accuracy=0.72693 on the validation set + negative sample set.\n",
      "true positive = 63754\n",
      "true negative = 82111\n",
      "Using popularity threshold=0.500 and similarity threshold=0.050, we can achieve overall accuracy=0.72933 on the validation set + negative sample set.\n",
      "true positive = 62437\n",
      "true negative = 83285\n",
      "Using popularity threshold=0.500 and similarity threshold=0.075, we can achieve overall accuracy=0.72861 on the validation set + negative sample set.\n",
      "true positive = 60855\n",
      "true negative = 84400\n",
      "Using popularity threshold=0.500 and similarity threshold=0.100, we can achieve overall accuracy=0.72628 on the validation set + negative sample set.\n",
      "true positive = 50089\n",
      "true negative = 87144\n",
      "Using popularity threshold=0.500 and similarity threshold=0.250, we can achieve overall accuracy=0.68617 on the validation set + negative sample set.\n",
      "true positive = 44813\n",
      "true negative = 87874\n",
      "Using popularity threshold=0.500 and similarity threshold=0.500, we can achieve overall accuracy=0.66343 on the validation set + negative sample set.\n",
      "true positive = 44782\n",
      "true negative = 87874\n",
      "Using popularity threshold=0.500 and similarity threshold=0.750, we can achieve overall accuracy=0.66328 on the validation set + negative sample set.\n",
      "true positive = 69470\n",
      "true negative = 71135\n",
      "Using popularity threshold=0.600 and similarity threshold=0.010, we can achieve overall accuracy=0.70303 on the validation set + negative sample set.\n",
      "true positive = 68141\n",
      "true negative = 73828\n",
      "Using popularity threshold=0.600 and similarity threshold=0.025, we can achieve overall accuracy=0.70984 on the validation set + negative sample set.\n",
      "true positive = 66837\n",
      "true negative = 75701\n",
      "Using popularity threshold=0.600 and similarity threshold=0.050, we can achieve overall accuracy=0.71269 on the validation set + negative sample set.\n",
      "true positive = 65919\n",
      "true negative = 76687\n",
      "Using popularity threshold=0.600 and similarity threshold=0.075, we can achieve overall accuracy=0.71303 on the validation set + negative sample set.\n",
      "true positive = 64845\n",
      "true negative = 77588\n",
      "Using popularity threshold=0.600 and similarity threshold=0.100, we can achieve overall accuracy=0.71217 on the validation set + negative sample set.\n",
      "true positive = 57533\n",
      "true negative = 79864\n",
      "Using popularity threshold=0.600 and similarity threshold=0.250, we can achieve overall accuracy=0.68698 on the validation set + negative sample set.\n",
      "true positive = 52652\n",
      "true negative = 80584\n",
      "Using popularity threshold=0.600 and similarity threshold=0.500, we can achieve overall accuracy=0.66618 on the validation set + negative sample set.\n",
      "true positive = 52622\n",
      "true negative = 80584\n",
      "Using popularity threshold=0.600 and similarity threshold=0.750, we can achieve overall accuracy=0.66603 on the validation set + negative sample set.\n",
      "true positive = 71755\n",
      "true negative = 62976\n",
      "Using popularity threshold=0.700 and similarity threshold=0.010, we can achieve overall accuracy=0.67366 on the validation set + negative sample set.\n",
      "true positive = 70833\n",
      "true negative = 65062\n",
      "Using popularity threshold=0.700 and similarity threshold=0.025, we can achieve overall accuracy=0.67948 on the validation set + negative sample set.\n",
      "true positive = 69955\n",
      "true negative = 66513\n",
      "Using popularity threshold=0.700 and similarity threshold=0.050, we can achieve overall accuracy=0.68234 on the validation set + negative sample set.\n",
      "true positive = 69321\n",
      "true negative = 67255\n",
      "Using popularity threshold=0.700 and similarity threshold=0.075, we can achieve overall accuracy=0.68288 on the validation set + negative sample set.\n",
      "true positive = 68623\n",
      "true negative = 67947\n",
      "Using popularity threshold=0.700 and similarity threshold=0.100, we can achieve overall accuracy=0.68285 on the validation set + negative sample set.\n",
      "true positive = 64490\n",
      "true negative = 69613\n",
      "Using popularity threshold=0.700 and similarity threshold=0.250, we can achieve overall accuracy=0.67051 on the validation set + negative sample set.\n",
      "true positive = 60060\n",
      "true negative = 70312\n",
      "Using popularity threshold=0.700 and similarity threshold=0.500, we can achieve overall accuracy=0.65186 on the validation set + negative sample set.\n",
      "true positive = 60031\n",
      "true negative = 70312\n",
      "Using popularity threshold=0.700 and similarity threshold=0.750, we can achieve overall accuracy=0.65172 on the validation set + negative sample set.\n",
      "true positive = 74476\n",
      "true negative = 50690\n",
      "Using popularity threshold=0.800 and similarity threshold=0.010, we can achieve overall accuracy=0.62583 on the validation set + negative sample set.\n",
      "true positive = 73897\n",
      "true negative = 52095\n",
      "Using popularity threshold=0.800 and similarity threshold=0.025, we can achieve overall accuracy=0.62996 on the validation set + negative sample set.\n",
      "true positive = 73370\n",
      "true negative = 53078\n",
      "Using popularity threshold=0.800 and similarity threshold=0.050, we can achieve overall accuracy=0.63224 on the validation set + negative sample set.\n",
      "true positive = 72992\n",
      "true negative = 53565\n",
      "Using popularity threshold=0.800 and similarity threshold=0.075, we can achieve overall accuracy=0.63279 on the validation set + negative sample set.\n",
      "true positive = 72554\n",
      "true negative = 54034\n",
      "Using popularity threshold=0.800 and similarity threshold=0.100, we can achieve overall accuracy=0.63294 on the validation set + negative sample set.\n",
      "true positive = 70249\n",
      "true negative = 55163\n",
      "Using popularity threshold=0.800 and similarity threshold=0.250, we can achieve overall accuracy=0.62706 on the validation set + negative sample set.\n",
      "true positive = 67270\n",
      "true negative = 55737\n",
      "Using popularity threshold=0.800 and similarity threshold=0.500, we can achieve overall accuracy=0.61503 on the validation set + negative sample set.\n",
      "true positive = 67266\n",
      "true negative = 55737\n",
      "Using popularity threshold=0.800 and similarity threshold=0.750, we can achieve overall accuracy=0.61501 on the validation set + negative sample set.\n",
      "true positive = 78295\n",
      "true negative = 27202\n",
      "Using popularity threshold=0.900 and similarity threshold=0.010, we can achieve overall accuracy=0.52748 on the validation set + negative sample set.\n",
      "true positive = 78006\n",
      "true negative = 27943\n",
      "Using popularity threshold=0.900 and similarity threshold=0.025, we can achieve overall accuracy=0.52975 on the validation set + negative sample set.\n",
      "true positive = 77756\n",
      "true negative = 28447\n",
      "Using popularity threshold=0.900 and similarity threshold=0.050, we can achieve overall accuracy=0.53102 on the validation set + negative sample set.\n",
      "true positive = 77589\n",
      "true negative = 28688\n",
      "Using popularity threshold=0.900 and similarity threshold=0.075, we can achieve overall accuracy=0.53138 on the validation set + negative sample set.\n",
      "true positive = 77373\n",
      "true negative = 28921\n",
      "Using popularity threshold=0.900 and similarity threshold=0.100, we can achieve overall accuracy=0.53147 on the validation set + negative sample set.\n",
      "true positive = 76312\n",
      "true negative = 29489\n",
      "Using popularity threshold=0.900 and similarity threshold=0.250, we can achieve overall accuracy=0.52900 on the validation set + negative sample set.\n",
      "true positive = 74811\n",
      "true negative = 29786\n",
      "Using popularity threshold=0.900 and similarity threshold=0.500, we can achieve overall accuracy=0.52299 on the validation set + negative sample set.\n",
      "true positive = 74811\n",
      "true negative = 29786\n",
      "Using popularity threshold=0.900 and similarity threshold=0.750, we can achieve overall accuracy=0.52299 on the validation set + negative sample set.\n"
     ]
    }
   ],
   "source": [
    "max_accuracy = 0\n",
    "best_t1 = 0.6\n",
    "best_t2 = 0.01\n",
    "for t1 in [0.1, 0.2, 0.3, 0.4, 0.5, 0.6, 0.7, 0.8, 0.9]:\n",
    "    pop_set_perc_t1 = fit(most_popular, total_cooked, t1)\n",
    "    for t2 in [0.01, 0.025, 0.05, 0.075, 0.1, 0.25, 0.5, 0.75]:\n",
    "        accuracy = predict_accuracy_4(X_valid, not_made_samples, pop_set_perc_t1, t2)\n",
    "        print('Using popularity threshold=%.3f and similarity threshold=%.3f, we can achieve overall accuracy=%.5f on the validation set + negative sample set.' % (t1, t2, accuracy))\n",
    "        if accuracy > max_accuracy:\n",
    "            max_accuracy = accuracy\n",
    "            best_t1 = t1\n",
    "            best_t2 = t2"
   ],
   "metadata": {
    "collapsed": false,
    "pycharm": {
     "name": "#%%\n"
    }
   }
  },
  {
   "cell_type": "code",
   "execution_count": 26,
   "outputs": [
    {
     "name": "stdout",
     "output_type": "stream",
     "text": [
      "When we set the popularity threshold to the 40.00th percentile and similarity threshold to the 5.00th percentile,\n",
      "the max accuracy is reached at 0.73662.\n"
     ]
    }
   ],
   "source": [
    "print(\"When we set the popularity threshold to the %.2fth percentile and similarity threshold to the %.2fth percentile,\\nthe max accuracy is reached at %.5f.\" % (best_t1 * 100, best_t2 * 100, max_accuracy))"
   ],
   "metadata": {
    "collapsed": false,
    "pycharm": {
     "name": "#%%\n"
    }
   }
  },
  {
   "cell_type": "code",
   "execution_count": 27,
   "outputs": [
    {
     "name": "stdout",
     "output_type": "stream",
     "text": [
      "true positive = 60190\n",
      "true negative = 87149\n",
      "Using popularity threshold=0.300 and similarity threshold=0.030, we can achieve overall accuracy=0.73669 on the validation set + negative sample set.\n",
      "true positive = 59419\n",
      "true negative = 87894\n",
      "Using popularity threshold=0.300 and similarity threshold=0.035, we can achieve overall accuracy=0.73657 on the validation set + negative sample set.\n",
      "true positive = 59243\n",
      "true negative = 88033\n",
      "Using popularity threshold=0.300 and similarity threshold=0.036, we can achieve overall accuracy=0.73638 on the validation set + negative sample set.\n",
      "true positive = 59237\n",
      "true negative = 88034\n",
      "Using popularity threshold=0.300 and similarity threshold=0.037, we can achieve overall accuracy=0.73635 on the validation set + negative sample set.\n",
      "true positive = 59065\n",
      "true negative = 88210\n",
      "Using popularity threshold=0.300 and similarity threshold=0.038, we can achieve overall accuracy=0.73638 on the validation set + negative sample set.\n",
      "true positive = 58882\n",
      "true negative = 88382\n",
      "Using popularity threshold=0.300 and similarity threshold=0.039, we can achieve overall accuracy=0.73632 on the validation set + negative sample set.\n",
      "true positive = 58698\n",
      "true negative = 88558\n",
      "Using popularity threshold=0.300 and similarity threshold=0.040, we can achieve overall accuracy=0.73628 on the validation set + negative sample set.\n",
      "true positive = 58691\n",
      "true negative = 88559\n",
      "Using popularity threshold=0.300 and similarity threshold=0.041, we can achieve overall accuracy=0.73625 on the validation set + negative sample set.\n",
      "true positive = 58494\n",
      "true negative = 88730\n",
      "Using popularity threshold=0.300 and similarity threshold=0.042, we can achieve overall accuracy=0.73612 on the validation set + negative sample set.\n",
      "true positive = 58487\n",
      "true negative = 88733\n",
      "Using popularity threshold=0.300 and similarity threshold=0.043, we can achieve overall accuracy=0.73610 on the validation set + negative sample set.\n",
      "true positive = 58247\n",
      "true negative = 88906\n",
      "Using popularity threshold=0.300 and similarity threshold=0.044, we can achieve overall accuracy=0.73577 on the validation set + negative sample set.\n",
      "true positive = 58245\n",
      "true negative = 88906\n",
      "Using popularity threshold=0.300 and similarity threshold=0.045, we can achieve overall accuracy=0.73576 on the validation set + negative sample set.\n",
      "true positive = 60461\n",
      "true negative = 86939\n",
      "Using popularity threshold=0.310 and similarity threshold=0.030, we can achieve overall accuracy=0.73700 on the validation set + negative sample set.\n",
      "true positive = 59707\n",
      "true negative = 87682\n",
      "Using popularity threshold=0.310 and similarity threshold=0.035, we can achieve overall accuracy=0.73694 on the validation set + negative sample set.\n",
      "true positive = 59538\n",
      "true negative = 87821\n",
      "Using popularity threshold=0.310 and similarity threshold=0.036, we can achieve overall accuracy=0.73679 on the validation set + negative sample set.\n",
      "true positive = 59533\n",
      "true negative = 87822\n",
      "Using popularity threshold=0.310 and similarity threshold=0.037, we can achieve overall accuracy=0.73677 on the validation set + negative sample set.\n",
      "true positive = 59366\n",
      "true negative = 87997\n",
      "Using popularity threshold=0.310 and similarity threshold=0.038, we can achieve overall accuracy=0.73681 on the validation set + negative sample set.\n",
      "true positive = 59191\n",
      "true negative = 88166\n",
      "Using popularity threshold=0.310 and similarity threshold=0.039, we can achieve overall accuracy=0.73679 on the validation set + negative sample set.\n",
      "true positive = 59016\n",
      "true negative = 88341\n",
      "Using popularity threshold=0.310 and similarity threshold=0.040, we can achieve overall accuracy=0.73679 on the validation set + negative sample set.\n",
      "true positive = 59010\n",
      "true negative = 88342\n",
      "Using popularity threshold=0.310 and similarity threshold=0.041, we can achieve overall accuracy=0.73676 on the validation set + negative sample set.\n",
      "true positive = 58818\n",
      "true negative = 88512\n",
      "Using popularity threshold=0.310 and similarity threshold=0.042, we can achieve overall accuracy=0.73665 on the validation set + negative sample set.\n",
      "true positive = 58813\n",
      "true negative = 88515\n",
      "Using popularity threshold=0.310 and similarity threshold=0.043, we can achieve overall accuracy=0.73664 on the validation set + negative sample set.\n",
      "true positive = 58588\n",
      "true negative = 88685\n",
      "Using popularity threshold=0.310 and similarity threshold=0.044, we can achieve overall accuracy=0.73637 on the validation set + negative sample set.\n",
      "true positive = 58586\n",
      "true negative = 88685\n",
      "Using popularity threshold=0.310 and similarity threshold=0.045, we can achieve overall accuracy=0.73635 on the validation set + negative sample set.\n",
      "true positive = 60688\n",
      "true negative = 86726\n",
      "Using popularity threshold=0.320 and similarity threshold=0.030, we can achieve overall accuracy=0.73707 on the validation set + negative sample set.\n",
      "true positive = 59961\n",
      "true negative = 87459\n",
      "Using popularity threshold=0.320 and similarity threshold=0.035, we can achieve overall accuracy=0.73710 on the validation set + negative sample set.\n",
      "true positive = 59796\n",
      "true negative = 87596\n",
      "Using popularity threshold=0.320 and similarity threshold=0.036, we can achieve overall accuracy=0.73696 on the validation set + negative sample set.\n",
      "true positive = 59791\n",
      "true negative = 87597\n",
      "Using popularity threshold=0.320 and similarity threshold=0.037, we can achieve overall accuracy=0.73694 on the validation set + negative sample set.\n",
      "true positive = 59628\n",
      "true negative = 87769\n",
      "Using popularity threshold=0.320 and similarity threshold=0.038, we can achieve overall accuracy=0.73699 on the validation set + negative sample set.\n",
      "true positive = 59458\n",
      "true negative = 87936\n",
      "Using popularity threshold=0.320 and similarity threshold=0.039, we can achieve overall accuracy=0.73697 on the validation set + negative sample set.\n",
      "true positive = 59286\n",
      "true negative = 88110\n",
      "Using popularity threshold=0.320 and similarity threshold=0.040, we can achieve overall accuracy=0.73698 on the validation set + negative sample set.\n",
      "true positive = 59281\n",
      "true negative = 88111\n",
      "Using popularity threshold=0.320 and similarity threshold=0.041, we can achieve overall accuracy=0.73696 on the validation set + negative sample set.\n",
      "true positive = 59104\n",
      "true negative = 88277\n",
      "Using popularity threshold=0.320 and similarity threshold=0.042, we can achieve overall accuracy=0.73691 on the validation set + negative sample set.\n",
      "true positive = 59099\n",
      "true negative = 88280\n",
      "Using popularity threshold=0.320 and similarity threshold=0.043, we can achieve overall accuracy=0.73689 on the validation set + negative sample set.\n",
      "true positive = 58882\n",
      "true negative = 88447\n",
      "Using popularity threshold=0.320 and similarity threshold=0.044, we can achieve overall accuracy=0.73664 on the validation set + negative sample set.\n",
      "true positive = 58880\n",
      "true negative = 88447\n",
      "Using popularity threshold=0.320 and similarity threshold=0.045, we can achieve overall accuracy=0.73664 on the validation set + negative sample set.\n",
      "true positive = 60954\n",
      "true negative = 86494\n",
      "Using popularity threshold=0.330 and similarity threshold=0.030, we can achieve overall accuracy=0.73724 on the validation set + negative sample set.\n",
      "true positive = 60252\n",
      "true negative = 87221\n",
      "Using popularity threshold=0.330 and similarity threshold=0.035, we can achieve overall accuracy=0.73737 on the validation set + negative sample set.\n",
      "true positive = 60091\n",
      "true negative = 87358\n",
      "Using popularity threshold=0.330 and similarity threshold=0.036, we can achieve overall accuracy=0.73725 on the validation set + negative sample set.\n",
      "true positive = 60087\n",
      "true negative = 87359\n",
      "Using popularity threshold=0.330 and similarity threshold=0.037, we can achieve overall accuracy=0.73723 on the validation set + negative sample set.\n",
      "true positive = 59926\n",
      "true negative = 87527\n",
      "Using popularity threshold=0.330 and similarity threshold=0.038, we can achieve overall accuracy=0.73726 on the validation set + negative sample set.\n",
      "true positive = 59760\n",
      "true negative = 87691\n",
      "Using popularity threshold=0.330 and similarity threshold=0.039, we can achieve overall accuracy=0.73725 on the validation set + negative sample set.\n",
      "true positive = 59593\n",
      "true negative = 87864\n",
      "Using popularity threshold=0.330 and similarity threshold=0.040, we can achieve overall accuracy=0.73728 on the validation set + negative sample set.\n",
      "true positive = 59588\n",
      "true negative = 87865\n",
      "Using popularity threshold=0.330 and similarity threshold=0.041, we can achieve overall accuracy=0.73726 on the validation set + negative sample set.\n",
      "true positive = 59418\n",
      "true negative = 88030\n",
      "Using popularity threshold=0.330 and similarity threshold=0.042, we can achieve overall accuracy=0.73724 on the validation set + negative sample set.\n",
      "true positive = 59413\n",
      "true negative = 88033\n",
      "Using popularity threshold=0.330 and similarity threshold=0.043, we can achieve overall accuracy=0.73723 on the validation set + negative sample set.\n",
      "true positive = 59206\n",
      "true negative = 88194\n",
      "Using popularity threshold=0.330 and similarity threshold=0.044, we can achieve overall accuracy=0.73700 on the validation set + negative sample set.\n",
      "true positive = 59204\n",
      "true negative = 88194\n",
      "Using popularity threshold=0.330 and similarity threshold=0.045, we can achieve overall accuracy=0.73699 on the validation set + negative sample set.\n",
      "true positive = 61211\n",
      "true negative = 86237\n",
      "Using popularity threshold=0.340 and similarity threshold=0.030, we can achieve overall accuracy=0.73724 on the validation set + negative sample set.\n",
      "true positive = 60531\n",
      "true negative = 86954\n",
      "Using popularity threshold=0.340 and similarity threshold=0.035, we can achieve overall accuracy=0.73742 on the validation set + negative sample set.\n",
      "true positive = 60377\n",
      "true negative = 87090\n",
      "Using popularity threshold=0.340 and similarity threshold=0.036, we can achieve overall accuracy=0.73733 on the validation set + negative sample set.\n",
      "true positive = 60373\n",
      "true negative = 87090\n",
      "Using popularity threshold=0.340 and similarity threshold=0.037, we can achieve overall accuracy=0.73732 on the validation set + negative sample set.\n",
      "true positive = 60213\n",
      "true negative = 87256\n",
      "Using popularity threshold=0.340 and similarity threshold=0.038, we can achieve overall accuracy=0.73735 on the validation set + negative sample set.\n",
      "true positive = 60055\n",
      "true negative = 87417\n",
      "Using popularity threshold=0.340 and similarity threshold=0.039, we can achieve overall accuracy=0.73736 on the validation set + negative sample set.\n",
      "true positive = 59891\n",
      "true negative = 87587\n",
      "Using popularity threshold=0.340 and similarity threshold=0.040, we can achieve overall accuracy=0.73739 on the validation set + negative sample set.\n",
      "true positive = 59887\n",
      "true negative = 87588\n",
      "Using popularity threshold=0.340 and similarity threshold=0.041, we can achieve overall accuracy=0.73738 on the validation set + negative sample set.\n",
      "true positive = 59726\n",
      "true negative = 87753\n",
      "Using popularity threshold=0.340 and similarity threshold=0.042, we can achieve overall accuracy=0.73740 on the validation set + negative sample set.\n",
      "true positive = 59721\n",
      "true negative = 87756\n",
      "Using popularity threshold=0.340 and similarity threshold=0.043, we can achieve overall accuracy=0.73738 on the validation set + negative sample set.\n",
      "true positive = 59519\n",
      "true negative = 87916\n",
      "Using popularity threshold=0.340 and similarity threshold=0.044, we can achieve overall accuracy=0.73718 on the validation set + negative sample set.\n",
      "true positive = 59517\n",
      "true negative = 87916\n",
      "Using popularity threshold=0.340 and similarity threshold=0.045, we can achieve overall accuracy=0.73716 on the validation set + negative sample set.\n",
      "true positive = 61462\n",
      "true negative = 85969\n",
      "Using popularity threshold=0.350 and similarity threshold=0.030, we can achieve overall accuracy=0.73716 on the validation set + negative sample set.\n",
      "true positive = 60797\n",
      "true negative = 86677\n",
      "Using popularity threshold=0.350 and similarity threshold=0.035, we can achieve overall accuracy=0.73737 on the validation set + negative sample set.\n",
      "true positive = 60647\n",
      "true negative = 86811\n",
      "Using popularity threshold=0.350 and similarity threshold=0.036, we can achieve overall accuracy=0.73729 on the validation set + negative sample set.\n",
      "true positive = 60643\n",
      "true negative = 86811\n",
      "Using popularity threshold=0.350 and similarity threshold=0.037, we can achieve overall accuracy=0.73727 on the validation set + negative sample set.\n",
      "true positive = 60489\n",
      "true negative = 86977\n",
      "Using popularity threshold=0.350 and similarity threshold=0.038, we can achieve overall accuracy=0.73733 on the validation set + negative sample set.\n",
      "true positive = 60339\n",
      "true negative = 87135\n",
      "Using popularity threshold=0.350 and similarity threshold=0.039, we can achieve overall accuracy=0.73737 on the validation set + negative sample set.\n",
      "true positive = 60177\n",
      "true negative = 87301\n",
      "Using popularity threshold=0.350 and similarity threshold=0.040, we can achieve overall accuracy=0.73739 on the validation set + negative sample set.\n",
      "true positive = 60173\n",
      "true negative = 87302\n",
      "Using popularity threshold=0.350 and similarity threshold=0.041, we can achieve overall accuracy=0.73738 on the validation set + negative sample set.\n",
      "true positive = 60018\n",
      "true negative = 87464\n",
      "Using popularity threshold=0.350 and similarity threshold=0.042, we can achieve overall accuracy=0.73741 on the validation set + negative sample set.\n",
      "true positive = 60013\n",
      "true negative = 87467\n",
      "Using popularity threshold=0.350 and similarity threshold=0.043, we can achieve overall accuracy=0.73740 on the validation set + negative sample set.\n",
      "true positive = 59821\n",
      "true negative = 87623\n",
      "Using popularity threshold=0.350 and similarity threshold=0.044, we can achieve overall accuracy=0.73722 on the validation set + negative sample set.\n",
      "true positive = 59819\n",
      "true negative = 87623\n",
      "Using popularity threshold=0.350 and similarity threshold=0.045, we can achieve overall accuracy=0.73721 on the validation set + negative sample set.\n",
      "true positive = 61711\n",
      "true negative = 85686\n",
      "Using popularity threshold=0.360 and similarity threshold=0.030, we can achieve overall accuracy=0.73699 on the validation set + negative sample set.\n",
      "true positive = 61071\n",
      "true negative = 86383\n",
      "Using popularity threshold=0.360 and similarity threshold=0.035, we can achieve overall accuracy=0.73727 on the validation set + negative sample set.\n",
      "true positive = 60925\n",
      "true negative = 86516\n",
      "Using popularity threshold=0.360 and similarity threshold=0.036, we can achieve overall accuracy=0.73720 on the validation set + negative sample set.\n",
      "true positive = 60921\n",
      "true negative = 86516\n",
      "Using popularity threshold=0.360 and similarity threshold=0.037, we can achieve overall accuracy=0.73718 on the validation set + negative sample set.\n",
      "true positive = 60773\n",
      "true negative = 86680\n",
      "Using popularity threshold=0.360 and similarity threshold=0.038, we can achieve overall accuracy=0.73726 on the validation set + negative sample set.\n",
      "true positive = 60629\n",
      "true negative = 86836\n",
      "Using popularity threshold=0.360 and similarity threshold=0.039, we can achieve overall accuracy=0.73733 on the validation set + negative sample set.\n",
      "true positive = 60474\n",
      "true negative = 86999\n",
      "Using popularity threshold=0.360 and similarity threshold=0.040, we can achieve overall accuracy=0.73737 on the validation set + negative sample set.\n",
      "true positive = 60470\n",
      "true negative = 87000\n",
      "Using popularity threshold=0.360 and similarity threshold=0.041, we can achieve overall accuracy=0.73735 on the validation set + negative sample set.\n",
      "true positive = 60321\n",
      "true negative = 87160\n",
      "Using popularity threshold=0.360 and similarity threshold=0.042, we can achieve overall accuracy=0.73740 on the validation set + negative sample set.\n",
      "true positive = 60317\n",
      "true negative = 87162\n",
      "Using popularity threshold=0.360 and similarity threshold=0.043, we can achieve overall accuracy=0.73740 on the validation set + negative sample set.\n",
      "true positive = 60132\n",
      "true negative = 87312\n",
      "Using popularity threshold=0.360 and similarity threshold=0.044, we can achieve overall accuracy=0.73722 on the validation set + negative sample set.\n",
      "true positive = 60130\n",
      "true negative = 87312\n",
      "Using popularity threshold=0.360 and similarity threshold=0.045, we can achieve overall accuracy=0.73721 on the validation set + negative sample set.\n",
      "true positive = 61963\n",
      "true negative = 85383\n",
      "Using popularity threshold=0.370 and similarity threshold=0.030, we can achieve overall accuracy=0.73673 on the validation set + negative sample set.\n",
      "true positive = 61347\n",
      "true negative = 86075\n",
      "Using popularity threshold=0.370 and similarity threshold=0.035, we can achieve overall accuracy=0.73711 on the validation set + negative sample set.\n",
      "true positive = 61203\n",
      "true negative = 86207\n",
      "Using popularity threshold=0.370 and similarity threshold=0.036, we can achieve overall accuracy=0.73705 on the validation set + negative sample set.\n",
      "true positive = 61200\n",
      "true negative = 86207\n",
      "Using popularity threshold=0.370 and similarity threshold=0.037, we can achieve overall accuracy=0.73703 on the validation set + negative sample set.\n",
      "true positive = 61056\n",
      "true negative = 86368\n",
      "Using popularity threshold=0.370 and similarity threshold=0.038, we can achieve overall accuracy=0.73712 on the validation set + negative sample set.\n",
      "true positive = 60918\n",
      "true negative = 86523\n",
      "Using popularity threshold=0.370 and similarity threshold=0.039, we can achieve overall accuracy=0.73720 on the validation set + negative sample set.\n",
      "true positive = 60770\n",
      "true negative = 86685\n",
      "Using popularity threshold=0.370 and similarity threshold=0.040, we can achieve overall accuracy=0.73728 on the validation set + negative sample set.\n",
      "true positive = 60766\n",
      "true negative = 86686\n",
      "Using popularity threshold=0.370 and similarity threshold=0.041, we can achieve overall accuracy=0.73726 on the validation set + negative sample set.\n",
      "true positive = 60628\n",
      "true negative = 86844\n",
      "Using popularity threshold=0.370 and similarity threshold=0.042, we can achieve overall accuracy=0.73736 on the validation set + negative sample set.\n",
      "true positive = 60626\n",
      "true negative = 86846\n",
      "Using popularity threshold=0.370 and similarity threshold=0.043, we can achieve overall accuracy=0.73736 on the validation set + negative sample set.\n",
      "true positive = 60446\n",
      "true negative = 86994\n",
      "Using popularity threshold=0.370 and similarity threshold=0.044, we can achieve overall accuracy=0.73720 on the validation set + negative sample set.\n",
      "true positive = 60444\n",
      "true negative = 86994\n",
      "Using popularity threshold=0.370 and similarity threshold=0.045, we can achieve overall accuracy=0.73719 on the validation set + negative sample set.\n",
      "true positive = 62208\n",
      "true negative = 85098\n",
      "Using popularity threshold=0.380 and similarity threshold=0.030, we can achieve overall accuracy=0.73653 on the validation set + negative sample set.\n",
      "true positive = 61615\n",
      "true negative = 85780\n",
      "Using popularity threshold=0.380 and similarity threshold=0.035, we can achieve overall accuracy=0.73698 on the validation set + negative sample set.\n",
      "true positive = 61476\n",
      "true negative = 85912\n",
      "Using popularity threshold=0.380 and similarity threshold=0.036, we can achieve overall accuracy=0.73694 on the validation set + negative sample set.\n",
      "true positive = 61473\n",
      "true negative = 85912\n",
      "Using popularity threshold=0.380 and similarity threshold=0.037, we can achieve overall accuracy=0.73693 on the validation set + negative sample set.\n",
      "true positive = 61332\n",
      "true negative = 86070\n",
      "Using popularity threshold=0.380 and similarity threshold=0.038, we can achieve overall accuracy=0.73701 on the validation set + negative sample set.\n",
      "true positive = 61198\n",
      "true negative = 86224\n",
      "Using popularity threshold=0.380 and similarity threshold=0.039, we can achieve overall accuracy=0.73711 on the validation set + negative sample set.\n",
      "true positive = 61051\n",
      "true negative = 86383\n",
      "Using popularity threshold=0.380 and similarity threshold=0.040, we can achieve overall accuracy=0.73717 on the validation set + negative sample set.\n",
      "true positive = 61047\n",
      "true negative = 86384\n",
      "Using popularity threshold=0.380 and similarity threshold=0.041, we can achieve overall accuracy=0.73716 on the validation set + negative sample set.\n",
      "true positive = 60912\n",
      "true negative = 86538\n",
      "Using popularity threshold=0.380 and similarity threshold=0.042, we can achieve overall accuracy=0.73725 on the validation set + negative sample set.\n",
      "true positive = 60910\n",
      "true negative = 86540\n",
      "Using popularity threshold=0.380 and similarity threshold=0.043, we can achieve overall accuracy=0.73725 on the validation set + negative sample set.\n",
      "true positive = 60741\n",
      "true negative = 86688\n",
      "Using popularity threshold=0.380 and similarity threshold=0.044, we can achieve overall accuracy=0.73715 on the validation set + negative sample set.\n",
      "true positive = 60740\n",
      "true negative = 86688\n",
      "Using popularity threshold=0.380 and similarity threshold=0.045, we can achieve overall accuracy=0.73714 on the validation set + negative sample set.\n",
      "true positive = 62472\n",
      "true negative = 84809\n",
      "Using popularity threshold=0.390 and similarity threshold=0.030, we can achieve overall accuracy=0.73640 on the validation set + negative sample set.\n",
      "true positive = 61896\n",
      "true negative = 85482\n",
      "Using popularity threshold=0.390 and similarity threshold=0.035, we can achieve overall accuracy=0.73689 on the validation set + negative sample set.\n",
      "true positive = 61760\n",
      "true negative = 85612\n",
      "Using popularity threshold=0.390 and similarity threshold=0.036, we can achieve overall accuracy=0.73686 on the validation set + negative sample set.\n",
      "true positive = 61757\n",
      "true negative = 85612\n",
      "Using popularity threshold=0.390 and similarity threshold=0.037, we can achieve overall accuracy=0.73684 on the validation set + negative sample set.\n",
      "true positive = 61620\n",
      "true negative = 85769\n",
      "Using popularity threshold=0.390 and similarity threshold=0.038, we can achieve overall accuracy=0.73694 on the validation set + negative sample set.\n",
      "true positive = 61490\n",
      "true negative = 85919\n",
      "Using popularity threshold=0.390 and similarity threshold=0.039, we can achieve overall accuracy=0.73704 on the validation set + negative sample set.\n",
      "true positive = 61348\n",
      "true negative = 86077\n",
      "Using popularity threshold=0.390 and similarity threshold=0.040, we can achieve overall accuracy=0.73713 on the validation set + negative sample set.\n",
      "true positive = 61344\n",
      "true negative = 86078\n",
      "Using popularity threshold=0.390 and similarity threshold=0.041, we can achieve overall accuracy=0.73711 on the validation set + negative sample set.\n",
      "true positive = 61214\n",
      "true negative = 86230\n",
      "Using popularity threshold=0.390 and similarity threshold=0.042, we can achieve overall accuracy=0.73722 on the validation set + negative sample set.\n",
      "true positive = 61212\n",
      "true negative = 86232\n",
      "Using popularity threshold=0.390 and similarity threshold=0.043, we can achieve overall accuracy=0.73722 on the validation set + negative sample set.\n",
      "true positive = 61047\n",
      "true negative = 86376\n",
      "Using popularity threshold=0.390 and similarity threshold=0.044, we can achieve overall accuracy=0.73711 on the validation set + negative sample set.\n",
      "true positive = 61046\n",
      "true negative = 86376\n",
      "Using popularity threshold=0.390 and similarity threshold=0.045, we can achieve overall accuracy=0.73711 on the validation set + negative sample set.\n",
      "true positive = 62743\n",
      "true negative = 84507\n",
      "Using popularity threshold=0.400 and similarity threshold=0.030, we can achieve overall accuracy=0.73625 on the validation set + negative sample set.\n",
      "true positive = 62181\n",
      "true negative = 85164\n",
      "Using popularity threshold=0.400 and similarity threshold=0.035, we can achieve overall accuracy=0.73672 on the validation set + negative sample set.\n",
      "true positive = 62052\n",
      "true negative = 85292\n",
      "Using popularity threshold=0.400 and similarity threshold=0.036, we can achieve overall accuracy=0.73672 on the validation set + negative sample set.\n",
      "true positive = 62049\n",
      "true negative = 85292\n",
      "Using popularity threshold=0.400 and similarity threshold=0.037, we can achieve overall accuracy=0.73671 on the validation set + negative sample set.\n",
      "true positive = 61915\n",
      "true negative = 85449\n",
      "Using popularity threshold=0.400 and similarity threshold=0.038, we can achieve overall accuracy=0.73682 on the validation set + negative sample set.\n",
      "true positive = 61792\n",
      "true negative = 85595\n",
      "Using popularity threshold=0.400 and similarity threshold=0.039, we can achieve overall accuracy=0.73694 on the validation set + negative sample set.\n",
      "true positive = 61653\n",
      "true negative = 85750\n",
      "Using popularity threshold=0.400 and similarity threshold=0.040, we can achieve overall accuracy=0.73701 on the validation set + negative sample set.\n",
      "true positive = 61650\n",
      "true negative = 85751\n",
      "Using popularity threshold=0.400 and similarity threshold=0.041, we can achieve overall accuracy=0.73701 on the validation set + negative sample set.\n",
      "true positive = 61525\n",
      "true negative = 85896\n",
      "Using popularity threshold=0.400 and similarity threshold=0.042, we can achieve overall accuracy=0.73711 on the validation set + negative sample set.\n",
      "true positive = 61523\n",
      "true negative = 85898\n",
      "Using popularity threshold=0.400 and similarity threshold=0.043, we can achieve overall accuracy=0.73711 on the validation set + negative sample set.\n",
      "true positive = 61362\n",
      "true negative = 86040\n",
      "Using popularity threshold=0.400 and similarity threshold=0.044, we can achieve overall accuracy=0.73701 on the validation set + negative sample set.\n",
      "true positive = 61361\n",
      "true negative = 86040\n",
      "Using popularity threshold=0.400 and similarity threshold=0.045, we can achieve overall accuracy=0.73701 on the validation set + negative sample set.\n"
     ]
    }
   ],
   "source": [
    "max_accuracy = 0\n",
    "best_t1 = 0.6\n",
    "best_t2 = 0.01\n",
    "for t1 in [0.3, 0.31, 0.32, 0.33, 0.34, 0.35, 0.36, 0.37, 0.38, 0.39, 0.4]:\n",
    "    pop_set_perc_t1 = fit(most_popular, total_cooked, t1)\n",
    "    for t2 in [0.03, 0.035, 0.036, 0.037, 0.038, 0.039, 0.04, 0.041, 0.042, 0.043, 0.044, 0.045]:\n",
    "        accuracy = predict_accuracy_4(X_valid, not_made_samples, pop_set_perc_t1, t2)\n",
    "        print('Using popularity threshold=%.3f and similarity threshold=%.3f, we can achieve overall accuracy=%.5f on the validation set + negative sample set.' % (t1, t2, accuracy))\n",
    "        if accuracy > max_accuracy:\n",
    "            max_accuracy = accuracy\n",
    "            best_t1 = t1\n",
    "            best_t2 = t2"
   ],
   "metadata": {
    "collapsed": false,
    "pycharm": {
     "name": "#%%\n"
    }
   }
  },
  {
   "cell_type": "code",
   "execution_count": 28,
   "outputs": [
    {
     "name": "stdout",
     "output_type": "stream",
     "text": [
      "When we set the popularity threshold to the 34.00th percentile and similarity threshold to the 3.50th percentile,\n",
      "the max accuracy is reached at 0.73742.\n"
     ]
    }
   ],
   "source": [
    "print(\"When we set the popularity threshold to the %.2fth percentile and similarity threshold to the %.2fth percentile,\\nthe max accuracy is reached at %.5f.\" % (best_t1 * 100, best_t2 * 100, max_accuracy))"
   ],
   "metadata": {
    "collapsed": false,
    "pycharm": {
     "name": "#%%\n"
    }
   }
  },
  {
   "cell_type": "markdown",
   "source": [
    "### 5"
   ],
   "metadata": {
    "collapsed": false
   }
  },
  {
   "cell_type": "code",
   "execution_count": 29,
   "outputs": [],
   "source": [
    "recipe_count = defaultdict(int)\n",
    "total_cooked = 0\n",
    "\n",
    "for d in dataset:\n",
    "    r = d[1]\n",
    "    recipe_count[r] += 1\n",
    "    total_cooked += 1\n",
    "\n",
    "most_popular = [(recipe_count[x], x) for x in recipe_count]\n",
    "most_popular.sort()\n",
    "most_popular.reverse()"
   ],
   "metadata": {
    "collapsed": false,
    "pycharm": {
     "name": "#%%\n"
    }
   }
  },
  {
   "cell_type": "code",
   "execution_count": 30,
   "outputs": [],
   "source": [
    "best_pop_set = fit(most_popular, total_cooked, best_t1)\n",
    "predictions = open(\"predictions_Made.txt\", 'w')\n",
    "for l in open(\"stub_Made.txt\"):\n",
    "  if l.startswith(\"user_id\"):\n",
    "    #header\n",
    "    predictions.write(l)\n",
    "    continue\n",
    "  u,i = l.strip().split('-')\n",
    "  if single_predict(u, i, best_pop_set, best_t2):\n",
    "    predictions.write(u + '-' + i + \",1\\n\")\n",
    "  else:\n",
    "    predictions.write(u + '-' + i + \",0\\n\")\n",
    "\n",
    "predictions.close()"
   ],
   "metadata": {
    "collapsed": false,
    "pycharm": {
     "name": "#%%\n"
    }
   }
  },
  {
   "cell_type": "markdown",
   "source": [
    "Kaggle Username: Jin Dai"
   ],
   "metadata": {
    "collapsed": false,
    "pycharm": {
     "name": "#%% md\n"
    }
   }
  },
  {
   "cell_type": "code",
   "execution_count": 30,
   "outputs": [],
   "source": [],
   "metadata": {
    "collapsed": false,
    "pycharm": {
     "name": "#%%\n"
    }
   }
  }
 ],
 "metadata": {
  "kernelspec": {
   "display_name": "Python 3",
   "language": "python",
   "name": "python3"
  },
  "language_info": {
   "codemirror_mode": {
    "name": "ipython",
    "version": 2
   },
   "file_extension": ".py",
   "mimetype": "text/x-python",
   "name": "python",
   "nbconvert_exporter": "python",
   "pygments_lexer": "ipython2",
   "version": "2.7.6"
  }
 },
 "nbformat": 4,
 "nbformat_minor": 0
}